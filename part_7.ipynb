{
 "cells": [
  {
   "cell_type": "markdown",
   "id": "7e3479e1",
   "metadata": {},
   "source": [
    "# 7.1 案例研究：Excel报表"
   ]
  },
  {
   "cell_type": "markdown",
   "id": "428a4a6f",
   "metadata": {},
   "source": [
    "用pandas的read_excel()函数读取一月的交易记录"
   ]
  },
  {
   "cell_type": "code",
   "execution_count": 1,
   "id": "e548ed5e",
   "metadata": {},
   "outputs": [],
   "source": [
    "import pandas as pd"
   ]
  },
  {
   "cell_type": "code",
   "execution_count": 2,
   "id": "6da5a8de",
   "metadata": {},
   "outputs": [
    {
     "name": "stdout",
     "output_type": "stream",
     "text": [
      "<class 'pandas.core.frame.DataFrame'>\n",
      "RangeIndex: 9493 entries, 0 to 9492\n",
      "Data columns (total 7 columns):\n",
      " #   Column            Non-Null Count  Dtype         \n",
      "---  ------            --------------  -----         \n",
      " 0   transaction_id    9493 non-null   object        \n",
      " 1   store             9493 non-null   object        \n",
      " 2   status            9493 non-null   object        \n",
      " 3   transaction_date  9493 non-null   datetime64[ns]\n",
      " 4   plan              9493 non-null   object        \n",
      " 5   contract_type     9493 non-null   object        \n",
      " 6   amount            9493 non-null   float64       \n",
      "dtypes: datetime64[ns](1), float64(1), object(5)\n",
      "memory usage: 519.3+ KB\n"
     ]
    }
   ],
   "source": [
    "df = pd.read_excel(\"sales_data/new/January.xlsx\")\n",
    "df.info()"
   ]
  },
  {
   "cell_type": "markdown",
   "id": "eafaf22b",
   "metadata": {},
   "source": [
    "# 7.2 使用pandas读写Excel文件"
   ]
  },
  {
   "cell_type": "markdown",
   "id": "5077cd90",
   "metadata": {},
   "source": [
    "### 7.2.1 read_excel函数和ExcelFile类"
   ]
  },
  {
   "cell_type": "markdown",
   "id": "eb4e668c",
   "metadata": {},
   "source": [
    "sheet_name：要读取的工作表名称或索引。默认为0，即第一个工作表。<br>\n",
    "skiprows：要跳过的行数或要跳过的行的列表。<br>\n",
    "usecols：要读取的列。可以是列名的列表或列索引的列表。"
   ]
  },
  {
   "cell_type": "code",
   "execution_count": 3,
   "id": "e83c904e",
   "metadata": {},
   "outputs": [
    {
     "data": {
      "text/html": [
       "<div>\n",
       "<style scoped>\n",
       "    .dataframe tbody tr th:only-of-type {\n",
       "        vertical-align: middle;\n",
       "    }\n",
       "\n",
       "    .dataframe tbody tr th {\n",
       "        vertical-align: top;\n",
       "    }\n",
       "\n",
       "    .dataframe thead th {\n",
       "        text-align: right;\n",
       "    }\n",
       "</style>\n",
       "<table border=\"1\" class=\"dataframe\">\n",
       "  <thead>\n",
       "    <tr style=\"text-align: right;\">\n",
       "      <th></th>\n",
       "      <th>Store</th>\n",
       "      <th>Employees</th>\n",
       "      <th>Manager</th>\n",
       "      <th>Since</th>\n",
       "      <th>Flagship</th>\n",
       "    </tr>\n",
       "  </thead>\n",
       "  <tbody>\n",
       "    <tr>\n",
       "      <th>0</th>\n",
       "      <td>New York</td>\n",
       "      <td>10</td>\n",
       "      <td>Sarah</td>\n",
       "      <td>2018-07-20</td>\n",
       "      <td>False</td>\n",
       "    </tr>\n",
       "    <tr>\n",
       "      <th>1</th>\n",
       "      <td>San Francisco</td>\n",
       "      <td>12</td>\n",
       "      <td>Neriah</td>\n",
       "      <td>2019-11-02</td>\n",
       "      <td>MISSING</td>\n",
       "    </tr>\n",
       "    <tr>\n",
       "      <th>2</th>\n",
       "      <td>Chicago</td>\n",
       "      <td>4</td>\n",
       "      <td>Katelin</td>\n",
       "      <td>2020-01-31</td>\n",
       "      <td>NaN</td>\n",
       "    </tr>\n",
       "    <tr>\n",
       "      <th>3</th>\n",
       "      <td>Boston</td>\n",
       "      <td>5</td>\n",
       "      <td>Georgiana</td>\n",
       "      <td>2017-04-01</td>\n",
       "      <td>True</td>\n",
       "    </tr>\n",
       "    <tr>\n",
       "      <th>4</th>\n",
       "      <td>Washington DC</td>\n",
       "      <td>3</td>\n",
       "      <td>Evan</td>\n",
       "      <td>NaT</td>\n",
       "      <td>False</td>\n",
       "    </tr>\n",
       "    <tr>\n",
       "      <th>5</th>\n",
       "      <td>Las Vegas</td>\n",
       "      <td>11</td>\n",
       "      <td>Paul</td>\n",
       "      <td>2020-01-06</td>\n",
       "      <td>False</td>\n",
       "    </tr>\n",
       "  </tbody>\n",
       "</table>\n",
       "</div>"
      ],
      "text/plain": [
       "           Store  Employees    Manager      Since Flagship\n",
       "0       New York         10      Sarah 2018-07-20    False\n",
       "1  San Francisco         12     Neriah 2019-11-02  MISSING\n",
       "2        Chicago          4    Katelin 2020-01-31      NaN\n",
       "3         Boston          5  Georgiana 2017-04-01     True\n",
       "4  Washington DC          3       Evan        NaT    False\n",
       "5      Las Vegas         11       Paul 2020-01-06    False"
      ]
     },
     "execution_count": 3,
     "metadata": {},
     "output_type": "execute_result"
    }
   ],
   "source": [
    "df = pd.read_excel(\"xl/stores.xlsx\", \n",
    "                  sheet_name=\"2019\", \n",
    "                  skiprows=1, \n",
    "                  usecols=\"B:F\")\n",
    "df"
   ]
  },
  {
   "cell_type": "code",
   "execution_count": 4,
   "id": "92280bd3",
   "metadata": {},
   "outputs": [
    {
     "name": "stdout",
     "output_type": "stream",
     "text": [
      "<class 'pandas.core.frame.DataFrame'>\n",
      "RangeIndex: 6 entries, 0 to 5\n",
      "Data columns (total 5 columns):\n",
      " #   Column     Non-Null Count  Dtype         \n",
      "---  ------     --------------  -----         \n",
      " 0   Store      6 non-null      object        \n",
      " 1   Employees  6 non-null      int64         \n",
      " 2   Manager    6 non-null      object        \n",
      " 3   Since      5 non-null      datetime64[ns]\n",
      " 4   Flagship   5 non-null      object        \n",
      "dtypes: datetime64[ns](1), int64(1), object(3)\n",
      "memory usage: 368.0+ bytes\n"
     ]
    }
   ],
   "source": [
    "# 执行info()方法生成DataFrame的数据类型\n",
    "df.info()"
   ]
  },
  {
   "cell_type": "markdown",
   "id": "a4cbd657",
   "metadata": {},
   "source": [
    "Flagship的数据类型应该是bool而不是object：<br>\n",
    "要修正，需要提供一个转换函数来处理某列中发生冲突的单元格<br>\n",
    "【除了编写fix_missing函数，也可以提供一个lambda表达式】"
   ]
  },
  {
   "cell_type": "code",
   "execution_count": 5,
   "id": "9fda17ee",
   "metadata": {},
   "outputs": [],
   "source": [
    "def fix_missing(x):\n",
    "    return False if x in [\"\", \"MISSING\"] else x"
   ]
  },
  {
   "cell_type": "markdown",
   "id": "abfc90fd",
   "metadata": {},
   "source": [
    "converters：用于转换数据的函数字典。"
   ]
  },
  {
   "cell_type": "code",
   "execution_count": 6,
   "id": "22841ec6",
   "metadata": {},
   "outputs": [
    {
     "data": {
      "text/html": [
       "<div>\n",
       "<style scoped>\n",
       "    .dataframe tbody tr th:only-of-type {\n",
       "        vertical-align: middle;\n",
       "    }\n",
       "\n",
       "    .dataframe tbody tr th {\n",
       "        vertical-align: top;\n",
       "    }\n",
       "\n",
       "    .dataframe thead th {\n",
       "        text-align: right;\n",
       "    }\n",
       "</style>\n",
       "<table border=\"1\" class=\"dataframe\">\n",
       "  <thead>\n",
       "    <tr style=\"text-align: right;\">\n",
       "      <th></th>\n",
       "      <th>Store</th>\n",
       "      <th>Employees</th>\n",
       "      <th>Manager</th>\n",
       "      <th>Since</th>\n",
       "      <th>Flagship</th>\n",
       "    </tr>\n",
       "  </thead>\n",
       "  <tbody>\n",
       "    <tr>\n",
       "      <th>0</th>\n",
       "      <td>New York</td>\n",
       "      <td>10</td>\n",
       "      <td>Sarah</td>\n",
       "      <td>2018-07-20</td>\n",
       "      <td>False</td>\n",
       "    </tr>\n",
       "    <tr>\n",
       "      <th>1</th>\n",
       "      <td>San Francisco</td>\n",
       "      <td>12</td>\n",
       "      <td>Neriah</td>\n",
       "      <td>2019-11-02</td>\n",
       "      <td>False</td>\n",
       "    </tr>\n",
       "    <tr>\n",
       "      <th>2</th>\n",
       "      <td>Chicago</td>\n",
       "      <td>4</td>\n",
       "      <td>Katelin</td>\n",
       "      <td>2020-01-31</td>\n",
       "      <td>False</td>\n",
       "    </tr>\n",
       "    <tr>\n",
       "      <th>3</th>\n",
       "      <td>Boston</td>\n",
       "      <td>5</td>\n",
       "      <td>Georgiana</td>\n",
       "      <td>2017-04-01</td>\n",
       "      <td>True</td>\n",
       "    </tr>\n",
       "    <tr>\n",
       "      <th>4</th>\n",
       "      <td>Washington DC</td>\n",
       "      <td>3</td>\n",
       "      <td>Evan</td>\n",
       "      <td>NaT</td>\n",
       "      <td>False</td>\n",
       "    </tr>\n",
       "    <tr>\n",
       "      <th>5</th>\n",
       "      <td>Las Vegas</td>\n",
       "      <td>11</td>\n",
       "      <td>Paul</td>\n",
       "      <td>2020-01-06</td>\n",
       "      <td>False</td>\n",
       "    </tr>\n",
       "  </tbody>\n",
       "</table>\n",
       "</div>"
      ],
      "text/plain": [
       "           Store  Employees    Manager      Since  Flagship\n",
       "0       New York         10      Sarah 2018-07-20     False\n",
       "1  San Francisco         12     Neriah 2019-11-02     False\n",
       "2        Chicago          4    Katelin 2020-01-31     False\n",
       "3         Boston          5  Georgiana 2017-04-01      True\n",
       "4  Washington DC          3       Evan        NaT     False\n",
       "5      Las Vegas         11       Paul 2020-01-06     False"
      ]
     },
     "execution_count": 6,
     "metadata": {},
     "output_type": "execute_result"
    }
   ],
   "source": [
    "df = pd.read_excel(\"xl/stores.xlsx\", \n",
    "                  skiprows=1, \n",
    "                  usecols=\"B:F\",\n",
    "                  converters={\"Flagship\": fix_missing})\n",
    "df"
   ]
  },
  {
   "cell_type": "code",
   "execution_count": 7,
   "id": "fd4fff96",
   "metadata": {},
   "outputs": [
    {
     "name": "stdout",
     "output_type": "stream",
     "text": [
      "<class 'pandas.core.frame.DataFrame'>\n",
      "RangeIndex: 6 entries, 0 to 5\n",
      "Data columns (total 5 columns):\n",
      " #   Column     Non-Null Count  Dtype         \n",
      "---  ------     --------------  -----         \n",
      " 0   Store      6 non-null      object        \n",
      " 1   Employees  6 non-null      int64         \n",
      " 2   Manager    6 non-null      object        \n",
      " 3   Since      5 non-null      datetime64[ns]\n",
      " 4   Flagship   6 non-null      bool          \n",
      "dtypes: bool(1), datetime64[ns](1), int64(1), object(2)\n",
      "memory usage: 326.0+ bytes\n"
     ]
    }
   ],
   "source": [
    "df.info()"
   ]
  },
  {
   "cell_type": "markdown",
   "id": "b74e9065",
   "metadata": {},
   "source": [
    "read_excel()函数可以接受一个工作表名称列表，返回的是以DataFrame为值、工作表名称为键的一个字典"
   ]
  },
  {
   "cell_type": "code",
   "execution_count": 8,
   "id": "f92145b5",
   "metadata": {},
   "outputs": [
    {
     "data": {
      "text/html": [
       "<div>\n",
       "<style scoped>\n",
       "    .dataframe tbody tr th:only-of-type {\n",
       "        vertical-align: middle;\n",
       "    }\n",
       "\n",
       "    .dataframe tbody tr th {\n",
       "        vertical-align: top;\n",
       "    }\n",
       "\n",
       "    .dataframe thead th {\n",
       "        text-align: right;\n",
       "    }\n",
       "</style>\n",
       "<table border=\"1\" class=\"dataframe\">\n",
       "  <thead>\n",
       "    <tr style=\"text-align: right;\">\n",
       "      <th></th>\n",
       "      <th>Store</th>\n",
       "      <th>Employees</th>\n",
       "    </tr>\n",
       "  </thead>\n",
       "  <tbody>\n",
       "    <tr>\n",
       "      <th>0</th>\n",
       "      <td>New York</td>\n",
       "      <td>10</td>\n",
       "    </tr>\n",
       "    <tr>\n",
       "      <th>1</th>\n",
       "      <td>San Francisco</td>\n",
       "      <td>12</td>\n",
       "    </tr>\n",
       "  </tbody>\n",
       "</table>\n",
       "</div>"
      ],
      "text/plain": [
       "           Store  Employees\n",
       "0       New York         10\n",
       "1  San Francisco         12"
      ]
     },
     "execution_count": 8,
     "metadata": {},
     "output_type": "execute_result"
    }
   ],
   "source": [
    "sheets = pd.read_excel(\"xl/stores.xlsx\", \n",
    "                      sheet_name=[\"2019\", \"2020\"], \n",
    "                      skiprows=1, \n",
    "                      usecols=[\"Store\", \"Employees\"])\n",
    "sheets[\"2019\"].head(2)"
   ]
  },
  {
   "cell_type": "markdown",
   "id": "bc136dc0",
   "metadata": {},
   "source": [
    "若源文件没有列标题，则设置参数header=None并通过names参数提供对应的列名<br>\n",
    "【sheet_name也接受工作表切片】"
   ]
  },
  {
   "cell_type": "markdown",
   "id": "2c384e9f",
   "metadata": {},
   "source": [
    "skipfooter：指定要跳过的文件末尾的行数。"
   ]
  },
  {
   "cell_type": "code",
   "execution_count": 9,
   "id": "3724dcc1",
   "metadata": {},
   "outputs": [
    {
     "data": {
      "text/html": [
       "<div>\n",
       "<style scoped>\n",
       "    .dataframe tbody tr th:only-of-type {\n",
       "        vertical-align: middle;\n",
       "    }\n",
       "\n",
       "    .dataframe tbody tr th {\n",
       "        vertical-align: top;\n",
       "    }\n",
       "\n",
       "    .dataframe thead th {\n",
       "        text-align: right;\n",
       "    }\n",
       "</style>\n",
       "<table border=\"1\" class=\"dataframe\">\n",
       "  <thead>\n",
       "    <tr style=\"text-align: right;\">\n",
       "      <th></th>\n",
       "      <th>Branch</th>\n",
       "      <th>Employee_Count</th>\n",
       "      <th>Is_Flagship</th>\n",
       "    </tr>\n",
       "  </thead>\n",
       "  <tbody>\n",
       "    <tr>\n",
       "      <th>0</th>\n",
       "      <td>New York</td>\n",
       "      <td>10</td>\n",
       "      <td>False</td>\n",
       "    </tr>\n",
       "    <tr>\n",
       "      <th>1</th>\n",
       "      <td>San Francisco</td>\n",
       "      <td>12</td>\n",
       "      <td>MISSING</td>\n",
       "    </tr>\n",
       "    <tr>\n",
       "      <th>2</th>\n",
       "      <td>Chicago</td>\n",
       "      <td>4</td>\n",
       "      <td>NaN</td>\n",
       "    </tr>\n",
       "  </tbody>\n",
       "</table>\n",
       "</div>"
      ],
      "text/plain": [
       "          Branch  Employee_Count Is_Flagship\n",
       "0       New York              10       False\n",
       "1  San Francisco              12     MISSING\n",
       "2        Chicago               4         NaN"
      ]
     },
     "execution_count": 9,
     "metadata": {},
     "output_type": "execute_result"
    }
   ],
   "source": [
    "df = pd.read_excel(\"xl/stores.xlsx\", \n",
    "                  sheet_name=0, \n",
    "                  skiprows=2, \n",
    "                  skipfooter=3, \n",
    "                  usecols=\"B:C,F\", \n",
    "                  header=None, \n",
    "                  names=[\"Branch\", \"Employee_Count\", \"Is_Flagship\"])\n",
    "df"
   ]
  },
  {
   "cell_type": "markdown",
   "id": "886f0608",
   "metadata": {},
   "source": [
    "为了处理NaN，可以把na_values和keep_default_na结合起来<br>\n",
    "na_values：指定应该被视为缺失值的值<br>\n",
    "keep_default_na：指定是否要将默认的缺失值（例如NaN）解析为NA"
   ]
  },
  {
   "cell_type": "code",
   "execution_count": 10,
   "id": "9dece0a6",
   "metadata": {},
   "outputs": [
    {
     "data": {
      "text/html": [
       "<div>\n",
       "<style scoped>\n",
       "    .dataframe tbody tr th:only-of-type {\n",
       "        vertical-align: middle;\n",
       "    }\n",
       "\n",
       "    .dataframe tbody tr th {\n",
       "        vertical-align: top;\n",
       "    }\n",
       "\n",
       "    .dataframe thead th {\n",
       "        text-align: right;\n",
       "    }\n",
       "</style>\n",
       "<table border=\"1\" class=\"dataframe\">\n",
       "  <thead>\n",
       "    <tr style=\"text-align: right;\">\n",
       "      <th></th>\n",
       "      <th>Store</th>\n",
       "      <th>Employees</th>\n",
       "      <th>Flagship</th>\n",
       "    </tr>\n",
       "  </thead>\n",
       "  <tbody>\n",
       "    <tr>\n",
       "      <th>0</th>\n",
       "      <td>New York</td>\n",
       "      <td>10</td>\n",
       "      <td>False</td>\n",
       "    </tr>\n",
       "    <tr>\n",
       "      <th>1</th>\n",
       "      <td>San Francisco</td>\n",
       "      <td>12</td>\n",
       "      <td>NaN</td>\n",
       "    </tr>\n",
       "    <tr>\n",
       "      <th>2</th>\n",
       "      <td>Chicago</td>\n",
       "      <td>4</td>\n",
       "      <td></td>\n",
       "    </tr>\n",
       "    <tr>\n",
       "      <th>3</th>\n",
       "      <td>Boston</td>\n",
       "      <td>5</td>\n",
       "      <td>True</td>\n",
       "    </tr>\n",
       "  </tbody>\n",
       "</table>\n",
       "</div>"
      ],
      "text/plain": [
       "           Store  Employees Flagship\n",
       "0       New York         10    False\n",
       "1  San Francisco         12      NaN\n",
       "2        Chicago          4         \n",
       "3         Boston          5     True"
      ]
     },
     "execution_count": 10,
     "metadata": {},
     "output_type": "execute_result"
    }
   ],
   "source": [
    "# 告诉pandas只将含有MISSING的单元格解释为NaN，除此之外的情况什么都不做\n",
    "df = pd.read_excel(\"xl/stores.xlsx\", \n",
    "                  sheet_name=\"2019\", \n",
    "                  skiprows=1, \n",
    "                  usecols=\"B,C,F\", \n",
    "                  skipfooter=2, \n",
    "                  na_values=\"MISSING\", \n",
    "                  keep_default_na=False)\n",
    "df"
   ]
  },
  {
   "cell_type": "markdown",
   "id": "8b25aae9",
   "metadata": {},
   "source": [
    "w：写入文件<br>\n",
    "r：读取文件<br>\n",
    "a：在文件末尾追加内容"
   ]
  },
  {
   "cell_type": "code",
   "execution_count": 11,
   "id": "489738b0",
   "metadata": {},
   "outputs": [],
   "source": [
    "f = open(\"output.txt\", \"w\")\n",
    "f.write(\"Some text\")\n",
    "f.close()"
   ]
  },
  {
   "cell_type": "code",
   "execution_count": 12,
   "id": "a53c0713",
   "metadata": {},
   "outputs": [],
   "source": [
    "with open(\"output.txt\", \"a\") as f:\n",
    "    f.write(\"Hello World!\")"
   ]
  },
  {
   "cell_type": "markdown",
   "id": "05040d00",
   "metadata": {},
   "source": [
    "nrows：要读取的行数"
   ]
  },
  {
   "cell_type": "code",
   "execution_count": 13,
   "id": "3c878e31",
   "metadata": {},
   "outputs": [
    {
     "data": {
      "text/html": [
       "<div>\n",
       "<style scoped>\n",
       "    .dataframe tbody tr th:only-of-type {\n",
       "        vertical-align: middle;\n",
       "    }\n",
       "\n",
       "    .dataframe tbody tr th {\n",
       "        vertical-align: top;\n",
       "    }\n",
       "\n",
       "    .dataframe thead th {\n",
       "        text-align: right;\n",
       "    }\n",
       "</style>\n",
       "<table border=\"1\" class=\"dataframe\">\n",
       "  <thead>\n",
       "    <tr style=\"text-align: right;\">\n",
       "      <th></th>\n",
       "      <th>Store</th>\n",
       "      <th>Employees</th>\n",
       "      <th>Manager</th>\n",
       "      <th>Since</th>\n",
       "      <th>Flagship</th>\n",
       "    </tr>\n",
       "  </thead>\n",
       "  <tbody>\n",
       "    <tr>\n",
       "      <th>0</th>\n",
       "      <td>New York</td>\n",
       "      <td>10</td>\n",
       "      <td>Sarah</td>\n",
       "      <td>2018-07-20</td>\n",
       "      <td>False</td>\n",
       "    </tr>\n",
       "    <tr>\n",
       "      <th>1</th>\n",
       "      <td>San Francisco</td>\n",
       "      <td>12</td>\n",
       "      <td>Neriah</td>\n",
       "      <td>2019-11-02</td>\n",
       "      <td>MISSING</td>\n",
       "    </tr>\n",
       "  </tbody>\n",
       "</table>\n",
       "</div>"
      ],
      "text/plain": [
       "           Store  Employees Manager      Since Flagship\n",
       "0       New York         10   Sarah 2018-07-20    False\n",
       "1  San Francisco         12  Neriah 2019-11-02  MISSING"
      ]
     },
     "execution_count": 13,
     "metadata": {},
     "output_type": "execute_result"
    }
   ],
   "source": [
    "with pd.ExcelFile(\"xl/stores.xls\") as f:\n",
    "    df1 = pd.read_excel(f, \"2019\", skiprows=1, usecols=\"B:F\", nrows=2)\n",
    "    df2 = pd.read_excel(f, \"2020\", skiprows=1, usecols=\"B:F\", nrows=2)\n",
    "df1"
   ]
  },
  {
   "cell_type": "code",
   "execution_count": 14,
   "id": "a4f93f2f",
   "metadata": {},
   "outputs": [
    {
     "data": {
      "text/plain": [
       "['2019', '2020', '2019-2020']"
      ]
     },
     "execution_count": 14,
     "metadata": {},
     "output_type": "execute_result"
    }
   ],
   "source": [
    "# 可以通过ExcelFile访问所有工作表的名称\n",
    "stores = pd.ExcelFile(\"xl/stores.xlsx\")\n",
    "stores.sheet_names"
   ]
  },
  {
   "cell_type": "code",
   "execution_count": 15,
   "id": "2266ec5f",
   "metadata": {},
   "outputs": [
    {
     "data": {
      "text/html": [
       "<div>\n",
       "<style scoped>\n",
       "    .dataframe tbody tr th:only-of-type {\n",
       "        vertical-align: middle;\n",
       "    }\n",
       "\n",
       "    .dataframe tbody tr th {\n",
       "        vertical-align: top;\n",
       "    }\n",
       "\n",
       "    .dataframe thead th {\n",
       "        text-align: right;\n",
       "    }\n",
       "</style>\n",
       "<table border=\"1\" class=\"dataframe\">\n",
       "  <thead>\n",
       "    <tr style=\"text-align: right;\">\n",
       "      <th></th>\n",
       "      <th>Store</th>\n",
       "      <th>Employees</th>\n",
       "      <th>Manager</th>\n",
       "      <th>Since</th>\n",
       "    </tr>\n",
       "  </thead>\n",
       "  <tbody>\n",
       "    <tr>\n",
       "      <th>0</th>\n",
       "      <td>New York</td>\n",
       "      <td>10</td>\n",
       "      <td>Sarah</td>\n",
       "      <td>2018-07-20</td>\n",
       "    </tr>\n",
       "    <tr>\n",
       "      <th>1</th>\n",
       "      <td>San Francisco</td>\n",
       "      <td>12</td>\n",
       "      <td>Neriah</td>\n",
       "      <td>2019-11-02</td>\n",
       "    </tr>\n",
       "  </tbody>\n",
       "</table>\n",
       "</div>"
      ],
      "text/plain": [
       "           Store  Employees Manager      Since\n",
       "0       New York         10   Sarah 2018-07-20\n",
       "1  San Francisco         12  Neriah 2019-11-02"
      ]
     },
     "execution_count": 15,
     "metadata": {},
     "output_type": "execute_result"
    }
   ],
   "source": [
    "# pandas通过URL读取Excel文件\n",
    "url = \"https://raw.githubusercontent.com/W2625/python-for-excel/master/xl/stores.xlsx\"\n",
    "pd.read_excel(url, skiprows=1, usecols=\"B:E\", nrows=2)"
   ]
  },
  {
   "cell_type": "markdown",
   "id": "8e881d66",
   "metadata": {},
   "source": [
    "### 7.2.2 to_excel()方法和ExcelWriter类"
   ]
  },
  {
   "cell_type": "code",
   "execution_count": 16,
   "id": "1cd7bf67",
   "metadata": {},
   "outputs": [],
   "source": [
    "import numpy as np\n",
    "import datetime as dt"
   ]
  },
  {
   "cell_type": "code",
   "execution_count": 17,
   "id": "989eb28c",
   "metadata": {},
   "outputs": [
    {
     "data": {
      "text/html": [
       "<div>\n",
       "<style scoped>\n",
       "    .dataframe tbody tr th:only-of-type {\n",
       "        vertical-align: middle;\n",
       "    }\n",
       "\n",
       "    .dataframe tbody tr th {\n",
       "        vertical-align: top;\n",
       "    }\n",
       "\n",
       "    .dataframe thead th {\n",
       "        text-align: right;\n",
       "    }\n",
       "</style>\n",
       "<table border=\"1\" class=\"dataframe\">\n",
       "  <thead>\n",
       "    <tr style=\"text-align: right;\">\n",
       "      <th></th>\n",
       "      <th>Dates</th>\n",
       "      <th>Floats</th>\n",
       "      <th>Integers</th>\n",
       "      <th>Booleans</th>\n",
       "    </tr>\n",
       "    <tr>\n",
       "      <th>index</th>\n",
       "      <th></th>\n",
       "      <th></th>\n",
       "      <th></th>\n",
       "      <th></th>\n",
       "    </tr>\n",
       "  </thead>\n",
       "  <tbody>\n",
       "    <tr>\n",
       "      <th>0</th>\n",
       "      <td>2020-01-01 10:13:00</td>\n",
       "      <td>2.222</td>\n",
       "      <td>1</td>\n",
       "      <td>True</td>\n",
       "    </tr>\n",
       "    <tr>\n",
       "      <th>1</th>\n",
       "      <td>2020-01-02 00:00:00</td>\n",
       "      <td>NaN</td>\n",
       "      <td>2</td>\n",
       "      <td>False</td>\n",
       "    </tr>\n",
       "    <tr>\n",
       "      <th>2</th>\n",
       "      <td>2020-01-03 00:00:00</td>\n",
       "      <td>inf</td>\n",
       "      <td>3</td>\n",
       "      <td>True</td>\n",
       "    </tr>\n",
       "  </tbody>\n",
       "</table>\n",
       "</div>"
      ],
      "text/plain": [
       "                    Dates  Floats  Integers  Booleans\n",
       "index                                                \n",
       "0     2020-01-01 10:13:00   2.222         1      True\n",
       "1     2020-01-02 00:00:00     NaN         2     False\n",
       "2     2020-01-03 00:00:00     inf         3      True"
      ]
     },
     "execution_count": 17,
     "metadata": {},
     "output_type": "execute_result"
    }
   ],
   "source": [
    "data = [[dt.datetime(2020,1,1, 10, 13), 2.222, 1, True], \n",
    "       [dt.datetime(2020,1,2), np.nan, 2, False],\n",
    "       [dt.datetime(2020,1,3), np.inf, 3, True]]\n",
    "df = pd.DataFrame(data=data, \n",
    "                 columns=[\"Dates\", \"Floats\", \"Integers\", \"Booleans\"])\n",
    "df.index.name=\"index\"\n",
    "df"
   ]
  },
  {
   "cell_type": "markdown",
   "id": "a1474526",
   "metadata": {},
   "source": [
    "sheet_name：要写入的工作表名称<br>\n",
    "startrow：被写入的第一行；startcol：被写入的第一列；两个的索引都是从0开始<br>\n",
    "index和header：隐藏索引和/或标题，需要将参数设置为index=False和header=False<br>\n",
    "na_rep和inf_rep：默认情况下，np.nan会被转换为空单元格，而NumPy用来表示无穷的np.inf会被转换为字符串inf。利用这两个参数可以修改默认行为<br>\n",
    "freeze_panes：通过提供一个元组来冻结前几行和前几列，比如(2, 1)会冻结前两行和第一列"
   ]
  },
  {
   "cell_type": "code",
   "execution_count": 18,
   "id": "f7830797",
   "metadata": {},
   "outputs": [],
   "source": [
    "df.to_excel(\"xl/written_with_pandas.xlsx\", \n",
    "            sheet_name=\"Output\", \n",
    "            startrow=1, startcol=1, \n",
    "            index=True, header=True, \n",
    "            na_rep=\"<NA>\", inf_rep=\"<INF>\")"
   ]
  },
  {
   "cell_type": "markdown",
   "id": "350ff30f",
   "metadata": {},
   "source": [
    "将多个DataFrame写入同一张或多张工作表，需要使用ExcelClass类"
   ]
  },
  {
   "cell_type": "code",
   "execution_count": 19,
   "id": "4f20826a",
   "metadata": {},
   "outputs": [],
   "source": [
    "with pd.ExcelWriter(\"xl/writeen_with_pandas2.xlsx\") as writer:\n",
    "    df.to_excel(writer, sheet_name=\"Sheet1\", startrow=1, startcol=1)\n",
    "    df.to_excel(writer, sheet_name=\"Sheet1\", startrow=10, startcol=1)\n",
    "    df.to_excel(writer, sheet_name=\"Sheet2\")"
   ]
  }
 ],
 "metadata": {
  "kernelspec": {
   "display_name": "Python 3 (ipykernel)",
   "language": "python",
   "name": "python3"
  },
  "language_info": {
   "codemirror_mode": {
    "name": "ipython",
    "version": 3
   },
   "file_extension": ".py",
   "mimetype": "text/x-python",
   "name": "python",
   "nbconvert_exporter": "python",
   "pygments_lexer": "ipython3",
   "version": "3.8.20"
  }
 },
 "nbformat": 4,
 "nbformat_minor": 5
}
