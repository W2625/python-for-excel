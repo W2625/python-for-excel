{
 "cells": [
  {
   "cell_type": "markdown",
   "id": "8ba8d125",
   "metadata": {},
   "source": [
    "# 9.1 开始使用xlwings"
   ]
  },
  {
   "cell_type": "markdown",
   "id": "0a2a8a8f",
   "metadata": {},
   "source": [
    "### 1. 将Excel用作数据查看器"
   ]
  },
  {
   "cell_type": "code",
   "execution_count": 1,
   "id": "99b932be",
   "metadata": {},
   "outputs": [],
   "source": [
    "# 导入本章会用到的包\n",
    "import datetime as dt\n",
    "import xlwings as xw\n",
    "import pandas as pd\n",
    "import numpy as np"
   ]
  },
  {
   "cell_type": "markdown",
   "id": "05541c82",
   "metadata": {},
   "source": [
    "np.random.randn() 函数接受一个或多个整数参数，用于指定输出数组的形状。<br>\n",
    "这些参数以元组的形式传入，例如 (m, n) 表示生成一个 m 行 n 列的二维数组。"
   ]
  },
  {
   "cell_type": "code",
   "execution_count": 2,
   "id": "c5c28f14",
   "metadata": {},
   "outputs": [
    {
     "data": {
      "text/html": [
       "<div>\n",
       "<style scoped>\n",
       "    .dataframe tbody tr th:only-of-type {\n",
       "        vertical-align: middle;\n",
       "    }\n",
       "\n",
       "    .dataframe tbody tr th {\n",
       "        vertical-align: top;\n",
       "    }\n",
       "\n",
       "    .dataframe thead th {\n",
       "        text-align: right;\n",
       "    }\n",
       "</style>\n",
       "<table border=\"1\" class=\"dataframe\">\n",
       "  <thead>\n",
       "    <tr style=\"text-align: right;\">\n",
       "      <th></th>\n",
       "      <th>Trial 1</th>\n",
       "      <th>Trial 2</th>\n",
       "      <th>Trial 3</th>\n",
       "      <th>Trial 4</th>\n",
       "      <th>Trial 5</th>\n",
       "    </tr>\n",
       "  </thead>\n",
       "  <tbody>\n",
       "    <tr>\n",
       "      <th>0</th>\n",
       "      <td>-0.140514</td>\n",
       "      <td>0.209046</td>\n",
       "      <td>1.288993</td>\n",
       "      <td>-1.105821</td>\n",
       "      <td>-1.940887</td>\n",
       "    </tr>\n",
       "    <tr>\n",
       "      <th>1</th>\n",
       "      <td>0.872170</td>\n",
       "      <td>0.417211</td>\n",
       "      <td>0.930030</td>\n",
       "      <td>0.386069</td>\n",
       "      <td>-0.104185</td>\n",
       "    </tr>\n",
       "    <tr>\n",
       "      <th>2</th>\n",
       "      <td>-0.937877</td>\n",
       "      <td>0.721660</td>\n",
       "      <td>1.189258</td>\n",
       "      <td>0.084573</td>\n",
       "      <td>-2.652205</td>\n",
       "    </tr>\n",
       "    <tr>\n",
       "      <th>3</th>\n",
       "      <td>-0.293626</td>\n",
       "      <td>0.142654</td>\n",
       "      <td>1.038544</td>\n",
       "      <td>0.076910</td>\n",
       "      <td>-0.062654</td>\n",
       "    </tr>\n",
       "    <tr>\n",
       "      <th>4</th>\n",
       "      <td>0.659248</td>\n",
       "      <td>-0.333421</td>\n",
       "      <td>0.323143</td>\n",
       "      <td>-1.069728</td>\n",
       "      <td>-1.083725</td>\n",
       "    </tr>\n",
       "    <tr>\n",
       "      <th>...</th>\n",
       "      <td>...</td>\n",
       "      <td>...</td>\n",
       "      <td>...</td>\n",
       "      <td>...</td>\n",
       "      <td>...</td>\n",
       "    </tr>\n",
       "    <tr>\n",
       "      <th>95</th>\n",
       "      <td>-1.195483</td>\n",
       "      <td>-1.315774</td>\n",
       "      <td>0.210942</td>\n",
       "      <td>-0.948537</td>\n",
       "      <td>0.271631</td>\n",
       "    </tr>\n",
       "    <tr>\n",
       "      <th>96</th>\n",
       "      <td>0.647741</td>\n",
       "      <td>2.231224</td>\n",
       "      <td>-0.574994</td>\n",
       "      <td>3.067135</td>\n",
       "      <td>0.230974</td>\n",
       "    </tr>\n",
       "    <tr>\n",
       "      <th>97</th>\n",
       "      <td>0.284196</td>\n",
       "      <td>2.176402</td>\n",
       "      <td>1.285905</td>\n",
       "      <td>-0.118289</td>\n",
       "      <td>0.067535</td>\n",
       "    </tr>\n",
       "    <tr>\n",
       "      <th>98</th>\n",
       "      <td>-1.247969</td>\n",
       "      <td>1.014234</td>\n",
       "      <td>0.916749</td>\n",
       "      <td>0.396737</td>\n",
       "      <td>0.014421</td>\n",
       "    </tr>\n",
       "    <tr>\n",
       "      <th>99</th>\n",
       "      <td>-0.251309</td>\n",
       "      <td>0.820142</td>\n",
       "      <td>0.364779</td>\n",
       "      <td>-1.626967</td>\n",
       "      <td>-0.007235</td>\n",
       "    </tr>\n",
       "  </tbody>\n",
       "</table>\n",
       "<p>100 rows × 5 columns</p>\n",
       "</div>"
      ],
      "text/plain": [
       "     Trial 1   Trial 2   Trial 3   Trial 4   Trial 5\n",
       "0  -0.140514  0.209046  1.288993 -1.105821 -1.940887\n",
       "1   0.872170  0.417211  0.930030  0.386069 -0.104185\n",
       "2  -0.937877  0.721660  1.189258  0.084573 -2.652205\n",
       "3  -0.293626  0.142654  1.038544  0.076910 -0.062654\n",
       "4   0.659248 -0.333421  0.323143 -1.069728 -1.083725\n",
       "..       ...       ...       ...       ...       ...\n",
       "95 -1.195483 -1.315774  0.210942 -0.948537  0.271631\n",
       "96  0.647741  2.231224 -0.574994  3.067135  0.230974\n",
       "97  0.284196  2.176402  1.285905 -0.118289  0.067535\n",
       "98 -1.247969  1.014234  0.916749  0.396737  0.014421\n",
       "99 -0.251309  0.820142  0.364779 -1.626967 -0.007235\n",
       "\n",
       "[100 rows x 5 columns]"
      ]
     },
     "execution_count": 2,
     "metadata": {},
     "output_type": "execute_result"
    }
   ],
   "source": [
    "# 创建一个基于伪随机数的DataFrame，它有足够多的行使得只有首尾几行会被显示\n",
    "df = pd.DataFrame(data=np.random.randn(100, 5), \n",
    "                  columns=[f\"Trial {i}\" for i in range(1, 6)])\n",
    "df"
   ]
  },
  {
   "cell_type": "markdown",
   "id": "bda25448",
   "metadata": {},
   "source": [
    "view()函数可以接受所有常见的Python对象，包括数字、字符串、列表、字典、元组、NumPy数组和pandas DataFrame<br>\n",
    "默认情况下，它会打开一个新的工作簿，然后将对象粘贴到第一张工作表的A1单元格<br>\n",
    "它甚至会通过Excel的自动适应功能来调整列宽<br>\n",
    "不必每次都打开一个新的工作簿，可以通过view()函数提供一个xlwings sheet对象作为第二个参数来重复利用同一个工作簿文件：xw.view(df, mysheet)"
   ]
  },
  {
   "cell_type": "code",
   "execution_count": 3,
   "id": "bf81f012",
   "metadata": {},
   "outputs": [],
   "source": [
    "# 在Excel中查看DataFrame\n",
    "xw.view(df)"
   ]
  },
  {
   "cell_type": "markdown",
   "id": "89443d4e",
   "metadata": {},
   "source": [
    "### 2. Excel对象模型"
   ]
  },
  {
   "cell_type": "markdown",
   "id": "cc05a79b",
   "metadata": {},
   "source": [
    "app<em>【应用程序实例】</em>包含多个book<em>【工作簿】</em>的集合<br>\n",
    "book<em>【工作簿】</em>包含多个sheet<em>【工作表】</em>的集合<br>\n",
    "通过sheet<em>【工作表】</em>可以访问range对象和charts等集合<br>\n",
    "range包含一个或多个连续的单元格作为其元素"
   ]
  },
  {
   "cell_type": "markdown",
   "id": "1500f030",
   "metadata": {},
   "source": [
    "<table align=\"left\">\n",
    "    <tr>\n",
    "        <th>命令</th>\n",
    "        <th>描述</th>\n",
    "    </tr>\n",
    "    <tr>\n",
    "        <td>xw.Book()</td>\n",
    "        <td>返回代表活动的Excel实例中新的Excel工作簿的book对象;<br>\n",
    "           如果没有活动的Excel实例，则会启动一个\n",
    "        </td>\n",
    "    </tr>\n",
    "    <tr>\n",
    "        <td>xw.Book(\"Book1\")</td>\n",
    "        <td>返回表示未保存的名为Book1（名称中不含文件扩展名）的工作簿的book对象</td>\n",
    "    </tr>\n",
    "    <tr>\n",
    "        <td>xw.Book(\"Book1.xlsx\")</td>\n",
    "        <td>返回代表之前保存过的名为Book1.xlsx（名称中包含文件扩展名）的工作簿对象。<br>\n",
    "           该文件必须是已打开的，或者位于当前的工作目录\n",
    "        </td>\n",
    "    </tr>\n",
    "    <tr>\n",
    "        <td>xw.Book(r\"C:\\path\\Book1.xlsx\")</td>\n",
    "        <td>返回代表之前保存过的工作簿（完整文件路径）的对象。该文件可以是打开的也可以是关闭的。<br>\n",
    "           路径字符串开头的r会将字符串转化为原始字符串，以便路径中的反斜杠（\\）在Windows中按照字面进行解释\n",
    "        </td>\n",
    "    </tr>\n",
    "    <tr>\n",
    "        <td>xw.books.active</td>\n",
    "        <td>返回代表活动的Excel实例中活动的工作簿的book对象</td>\n",
    "    </tr>\n",
    "</table>"
   ]
  },
  {
   "cell_type": "code",
   "execution_count": 4,
   "id": "8322cdf7",
   "metadata": {},
   "outputs": [
    {
     "data": {
      "text/plain": [
       "'Book2.xlsx'"
      ]
     },
     "execution_count": 4,
     "metadata": {},
     "output_type": "execute_result"
    }
   ],
   "source": [
    "# 创建一个新的空工作簿并打印其名称\n",
    "book = xw.Book(r\"xl/Book2.xlsx\")\n",
    "book.name"
   ]
  },
  {
   "cell_type": "code",
   "execution_count": 5,
   "id": "47d48a7b",
   "metadata": {},
   "outputs": [
    {
     "data": {
      "text/plain": [
       "Sheets([<Sheet [Book2.xlsx]Sheet1>])"
      ]
     },
     "execution_count": 5,
     "metadata": {},
     "output_type": "execute_result"
    }
   ],
   "source": [
    "# 访问工作表集合\n",
    "book.sheets"
   ]
  },
  {
   "cell_type": "code",
   "execution_count": 6,
   "id": "89dff811",
   "metadata": {},
   "outputs": [],
   "source": [
    "# 通过索引或名称获取工作表对象\n",
    "sheet1 = book.sheets[0]\n",
    "sheet1 = book.sheets[\"Sheet1\"]"
   ]
  },
  {
   "cell_type": "code",
   "execution_count": 7,
   "id": "2e8f094e",
   "metadata": {},
   "outputs": [
    {
     "data": {
      "text/plain": [
       "<Range [Book2.xlsx]Sheet1!$A$1>"
      ]
     },
     "execution_count": 7,
     "metadata": {},
     "output_type": "execute_result"
    }
   ],
   "source": [
    "sheet1.range(\"A1\")"
   ]
  },
  {
   "cell_type": "markdown",
   "id": "0ee7e026",
   "metadata": {},
   "source": [
    "range方法是用来操作Excel单元格区域的\n",
    "<table align=\"left\">\n",
    "    <tr>\n",
    "        <th>引用</th>\n",
    "        <th>描述</th>\n",
    "    </tr>\n",
    "    <tr>\n",
    "        <td>\"A1\"</td>\n",
    "        <td>单个单元格</td>\n",
    "    </tr>\n",
    "    <tr>\n",
    "        <td>\"A1:B2\"</td>\n",
    "        <td width=\"200px\">从A1到B2的单元格区域</td>\n",
    "    </tr>\n",
    "    <tr>\n",
    "        <td>\"A:A\"</td>\n",
    "        <td>A列</td>\n",
    "    </tr>\n",
    "    <tr>\n",
    "        <td>\"A:B\"</td>\n",
    "        <td>A列到B列</td>\n",
    "    </tr>\n",
    "    <tr>\n",
    "        <td>\"1:1\"</td>\n",
    "        <td>1行</td>\n",
    "    </tr>\n",
    "    <tr>\n",
    "        <td>\"1:2\"</td>\n",
    "        <td>1行到2行</td>\n",
    "    </tr>\n",
    "</table>"
   ]
  },
  {
   "cell_type": "code",
   "execution_count": 8,
   "id": "b095e941",
   "metadata": {},
   "outputs": [],
   "source": [
    "# 最常见的任务：写入值\n",
    "sheet1.range(\"A1\").value = [[1, 2], \n",
    "                            [3, 4]]\n",
    "sheet1.range(\"A4\").value = \"Hello！\""
   ]
  },
  {
   "cell_type": "code",
   "execution_count": 9,
   "id": "9a313313",
   "metadata": {},
   "outputs": [
    {
     "data": {
      "text/plain": [
       "[[1.0, 2.0], [3.0, 4.0]]"
      ]
     },
     "execution_count": 9,
     "metadata": {},
     "output_type": "execute_result"
    }
   ],
   "source": [
    "# 读取值\n",
    "sheet1.range(\"A1:B2\").value"
   ]
  },
  {
   "cell_type": "code",
   "execution_count": 10,
   "id": "45c88443",
   "metadata": {},
   "outputs": [
    {
     "data": {
      "text/plain": [
       "'Hello！'"
      ]
     },
     "execution_count": 10,
     "metadata": {},
     "output_type": "execute_result"
    }
   ],
   "source": [
    "sheet1.range(\"A4\").value"
   ]
  },
  {
   "cell_type": "code",
   "execution_count": 11,
   "id": "edb87527",
   "metadata": {},
   "outputs": [
    {
     "data": {
      "text/plain": [
       "<Range [Book2.xlsx]Sheet1!$A$1>"
      ]
     },
     "execution_count": 11,
     "metadata": {},
     "output_type": "execute_result"
    }
   ],
   "source": [
    "# 索引\n",
    "sheet1.range(\"A1:B2\")[0, 0]"
   ]
  },
  {
   "cell_type": "code",
   "execution_count": 12,
   "id": "63abccc1",
   "metadata": {},
   "outputs": [
    {
     "data": {
      "text/plain": [
       "<Range [Book2.xlsx]Sheet1!$B$1:$B$2>"
      ]
     },
     "execution_count": 12,
     "metadata": {},
     "output_type": "execute_result"
    }
   ],
   "source": [
    "# 切片\n",
    "sheet1.range(\"A1:B2\")[:, 1]"
   ]
  },
  {
   "cell_type": "code",
   "execution_count": 13,
   "id": "b6970ffd",
   "metadata": {},
   "outputs": [
    {
     "data": {
      "text/plain": [
       "<Range [Book2.xlsx]Sheet1!$A$1>"
      ]
     },
     "execution_count": 13,
     "metadata": {},
     "output_type": "execute_result"
    }
   ],
   "source": [
    "# 单个单元格：A1表示法\n",
    "sheet1[\"A1\"]"
   ]
  },
  {
   "cell_type": "code",
   "execution_count": 14,
   "id": "7cad4044",
   "metadata": {},
   "outputs": [
    {
     "data": {
      "text/plain": [
       "<Range [Book2.xlsx]Sheet1!$A$1:$B$2>"
      ]
     },
     "execution_count": 14,
     "metadata": {},
     "output_type": "execute_result"
    }
   ],
   "source": [
    "# 多个单元格：A1表示法\n",
    "sheet1[\"A1:B2\"]"
   ]
  },
  {
   "cell_type": "code",
   "execution_count": 15,
   "id": "c5d8a7bf",
   "metadata": {},
   "outputs": [
    {
     "data": {
      "text/plain": [
       "<Range [Book2.xlsx]Sheet1!$A$1>"
      ]
     },
     "execution_count": 15,
     "metadata": {},
     "output_type": "execute_result"
    }
   ],
   "source": [
    "# 单个单元格：索引\n",
    "sheet1[0, 0]"
   ]
  },
  {
   "cell_type": "code",
   "execution_count": 16,
   "id": "971c0186",
   "metadata": {},
   "outputs": [
    {
     "data": {
      "text/plain": [
       "<Range [Book2.xlsx]Sheet1!$A$1:$B$2>"
      ]
     },
     "execution_count": 16,
     "metadata": {},
     "output_type": "execute_result"
    }
   ],
   "source": [
    "# 多个单元格：切片\n",
    "sheet1[:2, :2]"
   ]
  },
  {
   "cell_type": "markdown",
   "id": "61233a3e",
   "metadata": {},
   "source": [
    "<b>索引从0开始；range对象从1开始</b>"
   ]
  },
  {
   "cell_type": "code",
   "execution_count": 17,
   "id": "cc89d5f5",
   "metadata": {},
   "outputs": [
    {
     "data": {
      "text/plain": [
       "<Range [Book2.xlsx]Sheet1!$D$10>"
      ]
     },
     "execution_count": 17,
     "metadata": {},
     "output_type": "execute_result"
    }
   ],
   "source": [
    "# 通过sheet索引访问D10\n",
    "sheet1[9, 3]"
   ]
  },
  {
   "cell_type": "code",
   "execution_count": 18,
   "id": "e371d80a",
   "metadata": {},
   "outputs": [
    {
     "data": {
      "text/plain": [
       "<Range [Book2.xlsx]Sheet1!$D$10>"
      ]
     },
     "execution_count": 18,
     "metadata": {},
     "output_type": "execute_result"
    }
   ],
   "source": [
    "# 通过range对象访问D10\n",
    "sheet1.range((10, 4))"
   ]
  },
  {
   "cell_type": "code",
   "execution_count": 19,
   "id": "80eaf906",
   "metadata": {},
   "outputs": [
    {
     "data": {
      "text/plain": [
       "<Range [Book2.xlsx]Sheet1!$D$10:$F$11>"
      ]
     },
     "execution_count": 19,
     "metadata": {},
     "output_type": "execute_result"
    }
   ],
   "source": [
    "# 通过sheet切片访问D10:F11\n",
    "sheet1[9:11, 3:6]"
   ]
  },
  {
   "cell_type": "code",
   "execution_count": 20,
   "id": "29ea43c0",
   "metadata": {},
   "outputs": [
    {
     "data": {
      "text/plain": [
       "<Range [Book2.xlsx]Sheet1!$D$10:$F$11>"
      ]
     },
     "execution_count": 20,
     "metadata": {},
     "output_type": "execute_result"
    }
   ],
   "source": [
    "# 通过range对象访问D10：F11\n",
    "sheet1.range((10, 4), (11, 6))"
   ]
  },
  {
   "cell_type": "code",
   "execution_count": 21,
   "id": "21dddac2",
   "metadata": {},
   "outputs": [
    {
     "data": {
      "text/plain": [
       "<Excel App 736>"
      ]
     },
     "execution_count": 21,
     "metadata": {},
     "output_type": "execute_result"
    }
   ],
   "source": [
    "# 从range()对象【即(sheet[\"A1\"])】自底向上得到app对象\n",
    "sheet1[\"A1\"].sheet.book.app"
   ]
  },
  {
   "cell_type": "markdown",
   "id": "8eefbff7",
   "metadata": {},
   "source": [
    "xw.name：返回 Excel 应用程序的简短名称（通常是 \"Microsoft Excel\"）。<br>\n",
    "&nbsp;&nbsp;&nbsp;&nbsp;&nbsp;&nbsp;&nbsp;&nbsp;示例输出：\"Microsoft Excel\"<br>\n",
    "\n",
    "xw.fullname：返回 Excel 应用程序的完整名称（包含版本信息，如 \"Microsoft Excel 365\"）。<br>\n",
    "&nbsp;&nbsp;&nbsp;&nbsp;&nbsp;&nbsp;&nbsp;&nbsp;示例输出：\"Microsoft Excel 365\""
   ]
  },
  {
   "cell_type": "code",
   "execution_count": 22,
   "id": "0055f49b",
   "metadata": {},
   "outputs": [],
   "source": [
    "# 从打开的工作簿中获取app对象，并创建一个额外的隐藏的app实例\n",
    "visible_app = sheet1.book.app\n",
    "invisible_app = xw.App(visible=False)"
   ]
  },
  {
   "cell_type": "code",
   "execution_count": 23,
   "id": "7cc1003c",
   "metadata": {},
   "outputs": [
    {
     "data": {
      "text/plain": [
       "['工作簿1', 'Book2.xlsx']"
      ]
     },
     "execution_count": 23,
     "metadata": {},
     "output_type": "execute_result"
    }
   ],
   "source": [
    "# 通过列表推导式列出各实例中打开的工作簿名称\n",
    "[book.name for book in visible_app.books]"
   ]
  },
  {
   "cell_type": "code",
   "execution_count": 24,
   "id": "e180be56",
   "metadata": {},
   "outputs": [
    {
     "data": {
      "text/plain": [
       "['工作簿2']"
      ]
     },
     "execution_count": 24,
     "metadata": {},
     "output_type": "execute_result"
    }
   ],
   "source": [
    "[book.name for book in invisible_app.books]"
   ]
  },
  {
   "cell_type": "code",
   "execution_count": 25,
   "id": "4d2ddae9",
   "metadata": {},
   "outputs": [
    {
     "data": {
      "text/plain": [
       "[736, 11472]"
      ]
     },
     "execution_count": 25,
     "metadata": {},
     "output_type": "execute_result"
    }
   ],
   "source": [
    "# app的键待见进程ID（PID）\n",
    "xw.apps.keys()"
   ]
  },
  {
   "cell_type": "code",
   "execution_count": 26,
   "id": "ef5466a8",
   "metadata": {},
   "outputs": [
    {
     "data": {
      "text/plain": [
       "736"
      ]
     },
     "execution_count": 26,
     "metadata": {},
     "output_type": "execute_result"
    }
   ],
   "source": [
    "# 也可以通过pid属性访问\n",
    "xw.apps.active.pid"
   ]
  },
  {
   "cell_type": "code",
   "execution_count": 27,
   "id": "42ebe918",
   "metadata": {},
   "outputs": [],
   "source": [
    "# 处理隐藏的Excel实例中的工作簿\n",
    "invisible_book = invisible_app.books[0]\n",
    "invisible_book.sheets[0][\"A1\"].value = \"Create by an invisible app.\""
   ]
  },
  {
   "cell_type": "code",
   "execution_count": 28,
   "id": "1585db88",
   "metadata": {},
   "outputs": [],
   "source": [
    "# 将这个Excel工作簿保存在xl目录中\n",
    "invisible_book.save(\"xl/invisible.xlsx\")"
   ]
  },
  {
   "cell_type": "code",
   "execution_count": 29,
   "id": "1346580f",
   "metadata": {},
   "outputs": [],
   "source": [
    "# 退出隐藏的Excel实例\n",
    "invisible_app.quit()"
   ]
  },
  {
   "cell_type": "markdown",
   "id": "3a0513cd",
   "metadata": {},
   "source": [
    "<table>\n",
    "    <tr>\n",
    "        <td>命令</td>\n",
    "        <td>描述</td>\n",
    "    </tr>\n",
    "    <tr>\n",
    "        <td>myapp.books.add()</td>\n",
    "        <td>在myapp引用的Excel实例中创建一个新的Excel工作簿并返回对应的book对象</td>\n",
    "    </tr>\n",
    "    <tr>\n",
    "        <td>myapp.books.open(r\"C:\\path\\Book.xlsx\")</td>\n",
    "        <td>如果对应的book对象已打开就直接返回该对象，否则应该首先在myapp引用的Excel实例中打开该工作簿。<br>\n",
    "            字符串开头的r会将字符串转化为原始字符串，以便路径中的反斜杠（\\）在Windows中按照字面进行解释\n",
    "        </td>\n",
    "    </tr>\n",
    "    <tr>\n",
    "        <td>myapp.books[\"Book1.xlsx\"]</td>\n",
    "        <td>如果对应的工作簿已打开就直接返回该book对象。如果未打开会引发KeyError错误。<br>\n",
    "            一定要使用文件名而非完整路径。如果想知道一个工作簿是否已经在Excel中打开，就可以使用该命令\n",
    "        </td>\n",
    "    </tr>\n",
    "</table>"
   ]
  },
  {
   "cell_type": "markdown",
   "id": "508f6ed0",
   "metadata": {},
   "source": [
    "# 9.2 转换器、选项和集合"
   ]
  },
  {
   "cell_type": "markdown",
   "id": "e4dc6c10",
   "metadata": {},
   "source": [
    "### 9.2.1 处理DataFrame"
   ]
  },
  {
   "cell_type": "code",
   "execution_count": 30,
   "id": "2417f925",
   "metadata": {},
   "outputs": [
    {
     "data": {
      "text/html": [
       "<div>\n",
       "<style scoped>\n",
       "    .dataframe tbody tr th:only-of-type {\n",
       "        vertical-align: middle;\n",
       "    }\n",
       "\n",
       "    .dataframe tbody tr th {\n",
       "        vertical-align: top;\n",
       "    }\n",
       "\n",
       "    .dataframe thead th {\n",
       "        text-align: right;\n",
       "    }\n",
       "</style>\n",
       "<table border=\"1\" class=\"dataframe\">\n",
       "  <thead>\n",
       "    <tr style=\"text-align: right;\">\n",
       "      <th></th>\n",
       "      <th>name</th>\n",
       "      <th>age</th>\n",
       "      <th>country</th>\n",
       "      <th>score</th>\n",
       "      <th>continent</th>\n",
       "    </tr>\n",
       "    <tr>\n",
       "      <th>user_id</th>\n",
       "      <th></th>\n",
       "      <th></th>\n",
       "      <th></th>\n",
       "      <th></th>\n",
       "      <th></th>\n",
       "    </tr>\n",
       "  </thead>\n",
       "  <tbody>\n",
       "    <tr>\n",
       "      <th>1001</th>\n",
       "      <td>Mark</td>\n",
       "      <td>55</td>\n",
       "      <td>Italy</td>\n",
       "      <td>4.5</td>\n",
       "      <td>Europe</td>\n",
       "    </tr>\n",
       "    <tr>\n",
       "      <th>1000</th>\n",
       "      <td>John</td>\n",
       "      <td>33</td>\n",
       "      <td>USA</td>\n",
       "      <td>6.7</td>\n",
       "      <td>America</td>\n",
       "    </tr>\n",
       "  </tbody>\n",
       "</table>\n",
       "</div>"
      ],
      "text/plain": [
       "         name  age country  score continent\n",
       "user_id                                    \n",
       "1001     Mark   55   Italy    4.5    Europe\n",
       "1000     John   33     USA    6.7   America"
      ]
     },
     "execution_count": 30,
     "metadata": {},
     "output_type": "execute_result"
    }
   ],
   "source": [
    "data = [[\"Mark\", 55, \"Italy\", 4.5, \"Europe\"], \n",
    "        [\"John\", 33, \"USA\", 6.7, \"America\"]]\n",
    "df = pd.DataFrame(data=data, \n",
    "                  columns=[\"name\", \"age\", \"country\", \"score\", \"continent\"], \n",
    "                  index=[1001, 1000])\n",
    "df.index.name = \"user_id\"\n",
    "df"
   ]
  },
  {
   "cell_type": "code",
   "execution_count": 31,
   "id": "6537cfb1",
   "metadata": {},
   "outputs": [],
   "source": [
    "sheet1[\"A6\"].value = df"
   ]
  },
  {
   "cell_type": "markdown",
   "id": "b3439381",
   "metadata": {},
   "source": [
    "去掉列标题或索引（也可以同时去掉两者），可使用options方法"
   ]
  },
  {
   "cell_type": "code",
   "execution_count": 32,
   "id": "7bd5dee7",
   "metadata": {},
   "outputs": [],
   "source": [
    "sheet1[\"B10\"].options(header=False, index=False).value = df"
   ]
  },
  {
   "cell_type": "markdown",
   "id": "118e3c3a",
   "metadata": {},
   "source": [
    "expand方法可以方便地读取一块连续的单元格"
   ]
  },
  {
   "cell_type": "code",
   "execution_count": 34,
   "id": "0d78abc3",
   "metadata": {},
   "outputs": [
    {
     "data": {
      "text/html": [
       "<div>\n",
       "<style scoped>\n",
       "    .dataframe tbody tr th:only-of-type {\n",
       "        vertical-align: middle;\n",
       "    }\n",
       "\n",
       "    .dataframe tbody tr th {\n",
       "        vertical-align: top;\n",
       "    }\n",
       "\n",
       "    .dataframe thead th {\n",
       "        text-align: right;\n",
       "    }\n",
       "</style>\n",
       "<table border=\"1\" class=\"dataframe\">\n",
       "  <thead>\n",
       "    <tr style=\"text-align: right;\">\n",
       "      <th></th>\n",
       "      <th>name</th>\n",
       "      <th>age</th>\n",
       "      <th>country</th>\n",
       "      <th>score</th>\n",
       "      <th>continent</th>\n",
       "    </tr>\n",
       "    <tr>\n",
       "      <th>user_id</th>\n",
       "      <th></th>\n",
       "      <th></th>\n",
       "      <th></th>\n",
       "      <th></th>\n",
       "      <th></th>\n",
       "    </tr>\n",
       "  </thead>\n",
       "  <tbody>\n",
       "    <tr>\n",
       "      <th>1001.0</th>\n",
       "      <td>Mark</td>\n",
       "      <td>55.0</td>\n",
       "      <td>Italy</td>\n",
       "      <td>4.5</td>\n",
       "      <td>Europe</td>\n",
       "    </tr>\n",
       "    <tr>\n",
       "      <th>1000.0</th>\n",
       "      <td>John</td>\n",
       "      <td>33.0</td>\n",
       "      <td>USA</td>\n",
       "      <td>6.7</td>\n",
       "      <td>America</td>\n",
       "    </tr>\n",
       "  </tbody>\n",
       "</table>\n",
       "</div>"
      ],
      "text/plain": [
       "         name   age country  score continent\n",
       "user_id                                     \n",
       "1001.0   Mark  55.0   Italy    4.5    Europe\n",
       "1000.0   John  33.0     USA    6.7   America"
      ]
     },
     "execution_count": 34,
     "metadata": {},
     "output_type": "execute_result"
    }
   ],
   "source": [
    "df2 = sheet1[\"A6\"].expand().options(pd.DataFrame).value\n",
    "df2"
   ]
  },
  {
   "cell_type": "markdown",
   "id": "4037cadc",
   "metadata": {},
   "source": [
    "若需要整数索引，可修改其数据类型"
   ]
  },
  {
   "cell_type": "code",
   "execution_count": 35,
   "id": "16fe9957",
   "metadata": {},
   "outputs": [
    {
     "data": {
      "text/html": [
       "<div>\n",
       "<style scoped>\n",
       "    .dataframe tbody tr th:only-of-type {\n",
       "        vertical-align: middle;\n",
       "    }\n",
       "\n",
       "    .dataframe tbody tr th {\n",
       "        vertical-align: top;\n",
       "    }\n",
       "\n",
       "    .dataframe thead th {\n",
       "        text-align: right;\n",
       "    }\n",
       "</style>\n",
       "<table border=\"1\" class=\"dataframe\">\n",
       "  <thead>\n",
       "    <tr style=\"text-align: right;\">\n",
       "      <th></th>\n",
       "      <th>name</th>\n",
       "      <th>age</th>\n",
       "      <th>country</th>\n",
       "      <th>score</th>\n",
       "      <th>continent</th>\n",
       "    </tr>\n",
       "    <tr>\n",
       "      <th>user_id</th>\n",
       "      <th></th>\n",
       "      <th></th>\n",
       "      <th></th>\n",
       "      <th></th>\n",
       "      <th></th>\n",
       "    </tr>\n",
       "  </thead>\n",
       "  <tbody>\n",
       "    <tr>\n",
       "      <th>1001</th>\n",
       "      <td>Mark</td>\n",
       "      <td>55.0</td>\n",
       "      <td>Italy</td>\n",
       "      <td>4.5</td>\n",
       "      <td>Europe</td>\n",
       "    </tr>\n",
       "    <tr>\n",
       "      <th>1000</th>\n",
       "      <td>John</td>\n",
       "      <td>33.0</td>\n",
       "      <td>USA</td>\n",
       "      <td>6.7</td>\n",
       "      <td>America</td>\n",
       "    </tr>\n",
       "  </tbody>\n",
       "</table>\n",
       "</div>"
      ],
      "text/plain": [
       "         name   age country  score continent\n",
       "user_id                                     \n",
       "1001     Mark  55.0   Italy    4.5    Europe\n",
       "1000     John  33.0     USA    6.7   America"
      ]
     },
     "execution_count": 35,
     "metadata": {},
     "output_type": "execute_result"
    }
   ],
   "source": [
    "df2.index = df2.index.astype(int)\n",
    "df2"
   ]
  },
  {
   "cell_type": "markdown",
   "id": "25e31e4c",
   "metadata": {},
   "source": [
    "通过设置index=False，Excel文件中的所有值都会被保存到DataFrame的数据部分且使用默认索引"
   ]
  },
  {
   "cell_type": "code",
   "execution_count": null,
   "id": "2b9f0969",
   "metadata": {},
   "outputs": [],
   "source": []
  },
  {
   "cell_type": "code",
   "execution_count": null,
   "id": "5b7f6144",
   "metadata": {},
   "outputs": [],
   "source": []
  },
  {
   "cell_type": "code",
   "execution_count": null,
   "id": "34f366ad",
   "metadata": {},
   "outputs": [],
   "source": []
  },
  {
   "cell_type": "code",
   "execution_count": null,
   "id": "0557f446",
   "metadata": {},
   "outputs": [],
   "source": []
  },
  {
   "cell_type": "code",
   "execution_count": null,
   "id": "669fda9e",
   "metadata": {},
   "outputs": [],
   "source": []
  },
  {
   "cell_type": "code",
   "execution_count": null,
   "id": "16c5ddf1",
   "metadata": {},
   "outputs": [],
   "source": []
  },
  {
   "cell_type": "code",
   "execution_count": null,
   "id": "76863351",
   "metadata": {},
   "outputs": [],
   "source": []
  },
  {
   "cell_type": "code",
   "execution_count": null,
   "id": "12a0603d",
   "metadata": {},
   "outputs": [],
   "source": []
  },
  {
   "cell_type": "code",
   "execution_count": null,
   "id": "e8dffefb",
   "metadata": {},
   "outputs": [],
   "source": []
  },
  {
   "cell_type": "code",
   "execution_count": null,
   "id": "c446b508",
   "metadata": {},
   "outputs": [],
   "source": []
  },
  {
   "cell_type": "code",
   "execution_count": null,
   "id": "f705f194",
   "metadata": {},
   "outputs": [],
   "source": []
  },
  {
   "cell_type": "code",
   "execution_count": null,
   "id": "8d140d3f",
   "metadata": {},
   "outputs": [],
   "source": []
  }
 ],
 "metadata": {
  "kernelspec": {
   "display_name": "Python 3 (ipykernel)",
   "language": "python",
   "name": "python3"
  },
  "language_info": {
   "codemirror_mode": {
    "name": "ipython",
    "version": 3
   },
   "file_extension": ".py",
   "mimetype": "text/x-python",
   "name": "python",
   "nbconvert_exporter": "python",
   "pygments_lexer": "ipython3",
   "version": "3.8.20"
  }
 },
 "nbformat": 4,
 "nbformat_minor": 5
}
