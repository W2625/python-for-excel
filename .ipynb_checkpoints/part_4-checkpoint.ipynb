{
 "cells": [
  {
   "cell_type": "code",
   "execution_count": 1,
   "id": "3892f57c-bc40-4bcb-9606-9ab49ac1a869",
   "metadata": {},
   "outputs": [],
   "source": [
    "matrix = [[1, 2, 3],\n",
    "         [4, 5, 6],\n",
    "         [7, 8, 9]]"
   ]
  },
  {
   "cell_type": "code",
   "execution_count": 2,
   "id": "dcabc670-6b66-4da5-8484-d82091ecc218",
   "metadata": {},
   "outputs": [
    {
     "data": {
      "text/plain": [
       "[[2, 3, 4], [5, 6, 7], [8, 9, 10]]"
      ]
     },
     "execution_count": 2,
     "metadata": {},
     "output_type": "execute_result"
    }
   ],
   "source": [
    "[[i + 1 for i in row]for row in matrix]"
   ]
  },
  {
   "cell_type": "code",
   "execution_count": 3,
   "id": "57de8dfa-ce1e-4a65-8216-7ebc1b794129",
   "metadata": {},
   "outputs": [],
   "source": [
    "# 首先导入NumPy\n",
    "import numpy as np"
   ]
  },
  {
   "cell_type": "code",
   "execution_count": 4,
   "id": "d0da72a4-ff43-42c7-b961-a72a1e8596ac",
   "metadata": {},
   "outputs": [],
   "source": [
    "# 使用列表构造一个一维数组\n",
    "array1 = np.array([10, 100, 1000.])"
   ]
  },
  {
   "cell_type": "code",
   "execution_count": 5,
   "id": "3b1213d6-bcd0-483f-b319-8e2c6850aadc",
   "metadata": {},
   "outputs": [],
   "source": [
    "#使用嵌套列表构造一个二维数组\n",
    "array2 = np.array([[1., 2., 3.],\n",
    "                 [4., 5., 6.]])"
   ]
  },
  {
   "cell_type": "code",
   "execution_count": 6,
   "id": "ea067637-0eb8-4c4c-8d6f-1aeef4ce2fe2",
   "metadata": {},
   "outputs": [
    {
     "data": {
      "text/plain": [
       "dtype('float64')"
      ]
     },
     "execution_count": 6,
     "metadata": {},
     "output_type": "execute_result"
    }
   ],
   "source": [
    "array1.dtype"
   ]
  },
  {
   "cell_type": "code",
   "execution_count": 7,
   "id": "9c7bc3ab-07ca-4ef8-b4c1-ef2c00a9af12",
   "metadata": {},
   "outputs": [
    {
     "data": {
      "text/plain": [
       "10.0"
      ]
     },
     "execution_count": 7,
     "metadata": {},
     "output_type": "execute_result"
    }
   ],
   "source": [
    "float(array1[0])"
   ]
  },
  {
   "cell_type": "code",
   "execution_count": 8,
   "id": "185d9721-c5be-49f8-8490-7c58bd5c0851",
   "metadata": {},
   "outputs": [
    {
     "data": {
      "text/plain": [
       "array([[2., 3., 4.],\n",
       "       [5., 6., 7.]])"
      ]
     },
     "execution_count": 8,
     "metadata": {},
     "output_type": "execute_result"
    }
   ],
   "source": [
    "array2 + 1"
   ]
  },
  {
   "cell_type": "code",
   "execution_count": 9,
   "id": "8a4f9da0-8c2d-4773-910d-10abb961ae7a",
   "metadata": {},
   "outputs": [
    {
     "data": {
      "text/plain": [
       "array([[ 1.,  4.,  9.],\n",
       "       [16., 25., 36.]])"
      ]
     },
     "execution_count": 9,
     "metadata": {},
     "output_type": "execute_result"
    }
   ],
   "source": [
    "array2 * array2"
   ]
  },
  {
   "cell_type": "code",
   "execution_count": 10,
   "id": "278fba20-10eb-43cd-be67-6160e48708f7",
   "metadata": {},
   "outputs": [
    {
     "data": {
      "text/plain": [
       "array([[  10.,  200., 3000.],\n",
       "       [  40.,  500., 6000.]])"
      ]
     },
     "execution_count": 10,
     "metadata": {},
     "output_type": "execute_result"
    }
   ],
   "source": [
    "array2 * array1"
   ]
  },
  {
   "cell_type": "code",
   "execution_count": 11,
   "id": "253bce62-3d78-4c85-9ed7-1068cce78177",
   "metadata": {},
   "outputs": [
    {
     "data": {
      "text/plain": [
       "array([[14., 32.],\n",
       "       [32., 77.]])"
      ]
     },
     "execution_count": 11,
     "metadata": {},
     "output_type": "execute_result"
    }
   ],
   "source": [
    "array2 @ array2.T  # array2.T是array2.transpose()的缩写"
   ]
  },
  {
   "cell_type": "code",
   "execution_count": 12,
   "id": "f0d0d886-6626-40a5-ab2e-389673e3350a",
   "metadata": {},
   "outputs": [],
   "source": [
    "import math  # math.sqrt()计算平方根"
   ]
  },
  {
   "cell_type": "code",
   "execution_count": 13,
   "id": "0dac6c2d-e4f9-432a-9b63-e79404665ae1",
   "metadata": {},
   "outputs": [
    {
     "ename": "TypeError",
     "evalue": "only size-1 arrays can be converted to Python scalars",
     "output_type": "error",
     "traceback": [
      "\u001b[1;31m---------------------------------------------------------------------------\u001b[0m",
      "\u001b[1;31mTypeError\u001b[0m                                 Traceback (most recent call last)",
      "Cell \u001b[1;32mIn[13], line 1\u001b[0m\n\u001b[1;32m----> 1\u001b[0m \u001b[43mmath\u001b[49m\u001b[38;5;241;43m.\u001b[39;49m\u001b[43msqrt\u001b[49m\u001b[43m(\u001b[49m\u001b[43marray2\u001b[49m\u001b[43m)\u001b[49m\n",
      "\u001b[1;31mTypeError\u001b[0m: only size-1 arrays can be converted to Python scalars"
     ]
    }
   ],
   "source": [
    "math.sqrt(array2)  # 这里会发生错误"
   ]
  },
  {
   "cell_type": "code",
   "execution_count": 14,
   "id": "60a78421-ef4b-4e9a-8986-f75b5110facd",
   "metadata": {},
   "outputs": [
    {
     "data": {
      "text/plain": [
       "array([[1.        , 1.41421356, 1.73205081],\n",
       "       [2.        , 2.23606798, 2.44948974]])"
      ]
     },
     "execution_count": 14,
     "metadata": {},
     "output_type": "execute_result"
    }
   ],
   "source": [
    "np.array([[math.sqrt(i) for i in row]for row in array2])"
   ]
  },
  {
   "cell_type": "code",
   "execution_count": 15,
   "id": "5b152c19-f00f-4522-82f6-e3fe9624403c",
   "metadata": {},
   "outputs": [
    {
     "data": {
      "text/plain": [
       "array([[1.        , 1.41421356, 1.73205081],\n",
       "       [2.        , 2.23606798, 2.44948974]])"
      ]
     },
     "execution_count": 15,
     "metadata": {},
     "output_type": "execute_result"
    }
   ],
   "source": [
    "np.sqrt(array2)"
   ]
  },
  {
   "cell_type": "code",
   "execution_count": 16,
   "id": "9c1f6278-6e52-4589-abac-aef8a7894ff0",
   "metadata": {},
   "outputs": [
    {
     "data": {
      "text/plain": [
       "array([5., 7., 9.])"
      ]
     },
     "execution_count": 16,
     "metadata": {},
     "output_type": "execute_result"
    }
   ],
   "source": [
    "array2.sum(axis=0)  # 返回一维数组 【axis=0表示沿着列求和，即将每一列的元素相加，而axis=1表示沿着行求和，即将每一行的元素相加。】"
   ]
  },
  {
   "cell_type": "code",
   "execution_count": 17,
   "id": "aae2595c-f2f2-49c6-a8aa-edc8acab2a16",
   "metadata": {},
   "outputs": [
    {
     "data": {
      "text/plain": [
       "21.0"
      ]
     },
     "execution_count": 17,
     "metadata": {},
     "output_type": "execute_result"
    }
   ],
   "source": [
    "array2.sum()"
   ]
  },
  {
   "cell_type": "code",
   "execution_count": 18,
   "id": "3461b5dc-e23a-49e5-ba7c-45a83e09144c",
   "metadata": {},
   "outputs": [
    {
     "data": {
      "text/plain": [
       "1000.0"
      ]
     },
     "execution_count": 18,
     "metadata": {},
     "output_type": "execute_result"
    }
   ],
   "source": [
    "array1[2]  # 返回标量"
   ]
  },
  {
   "cell_type": "code",
   "execution_count": 19,
   "id": "8dfc1861-3bbd-485c-ad03-e9b9263bd9cf",
   "metadata": {},
   "outputs": [
    {
     "data": {
      "text/plain": [
       "1.0"
      ]
     },
     "execution_count": 19,
     "metadata": {},
     "output_type": "execute_result"
    }
   ],
   "source": [
    "array2[0, 0]  # 返回标量"
   ]
  },
  {
   "cell_type": "code",
   "execution_count": 20,
   "id": "c5b4c81e-ce02-46d0-959a-c6422cdb3982",
   "metadata": {},
   "outputs": [
    {
     "data": {
      "text/plain": [
       "array([[2., 3.],\n",
       "       [5., 6.]])"
      ]
     },
     "execution_count": 20,
     "metadata": {},
     "output_type": "execute_result"
    }
   ],
   "source": [
    "array2[:, 1:]  # 返回二维数组"
   ]
  },
  {
   "cell_type": "code",
   "execution_count": 21,
   "id": "650cb2ab-6dc3-415b-8294-35dd517762be",
   "metadata": {},
   "outputs": [
    {
     "data": {
      "text/plain": [
       "array([2., 5.])"
      ]
     },
     "execution_count": 21,
     "metadata": {},
     "output_type": "execute_result"
    }
   ],
   "source": [
    "array2[:, 1] # 返回一维数组"
   ]
  },
  {
   "cell_type": "code",
   "execution_count": 22,
   "id": "b5aeda27-c097-4315-97a0-5dc3fd0c5bcf",
   "metadata": {},
   "outputs": [
    {
     "data": {
      "text/plain": [
       "array([4., 5.])"
      ]
     },
     "execution_count": 22,
     "metadata": {},
     "output_type": "execute_result"
    }
   ],
   "source": [
    "array2[1, :2] # 返回一维数组"
   ]
  },
  {
   "cell_type": "code",
   "execution_count": 23,
   "id": "b60bf126-e457-4c2b-b2f3-29952f67b811",
   "metadata": {},
   "outputs": [
    {
     "data": {
      "text/plain": [
       "array([[0, 1, 2, 3, 4],\n",
       "       [5, 6, 7, 8, 9]])"
      ]
     },
     "execution_count": 23,
     "metadata": {},
     "output_type": "execute_result"
    }
   ],
   "source": [
    "np.arange(2 * 5).reshape(2, 5)  # 2行，5列 "
   ]
  },
  {
   "cell_type": "code",
   "execution_count": 24,
   "id": "9126bd5d-9434-41f3-a1db-76f816cdb527",
   "metadata": {},
   "outputs": [
    {
     "data": {
      "text/plain": [
       "array([[ 0.30110013, -0.23061352, -0.32277882],\n",
       "       [ 0.12448525, -2.82624661,  1.55372353]])"
      ]
     },
     "execution_count": 24,
     "metadata": {},
     "output_type": "execute_result"
    }
   ],
   "source": [
    "np.random.randn(2, 3)  # 2行 ，3列"
   ]
  },
  {
   "cell_type": "code",
   "execution_count": 25,
   "id": "6f80a6ca-e320-4c77-aafa-72f8da459f02",
   "metadata": {},
   "outputs": [
    {
     "data": {
      "text/plain": [
       "array([[1., 2., 3.],\n",
       "       [4., 5., 6.]])"
      ]
     },
     "execution_count": 25,
     "metadata": {},
     "output_type": "execute_result"
    }
   ],
   "source": [
    "array2"
   ]
  },
  {
   "cell_type": "code",
   "execution_count": 29,
   "id": "81eb4557-d889-498f-a36c-66d1e3c59f4a",
   "metadata": {},
   "outputs": [],
   "source": [
    "# 在对NumPy数组进行切片时，其返回值是视图即意味着：\n",
    "    # 是在操作原数组的一个子集，而没有发生数据的复制。因而设置视图的值也会改变原数组中的值\n",
    "# 如果不想要这样的结果，即更改【26】代码\n",
    "# subset = array2[:, :2].copy()"
   ]
  },
  {
   "cell_type": "code",
   "execution_count": 26,
   "id": "a71f733a-c2cd-4595-af04-6fef2731431c",
   "metadata": {},
   "outputs": [
    {
     "data": {
      "text/plain": [
       "array([[1., 2.],\n",
       "       [4., 5.]])"
      ]
     },
     "execution_count": 26,
     "metadata": {},
     "output_type": "execute_result"
    }
   ],
   "source": [
    "subset = array2[:,: 2]\n",
    "subset"
   ]
  },
  {
   "cell_type": "code",
   "execution_count": 27,
   "id": "dcb10c4a-9b64-42fb-97e8-60dcd293f7ed",
   "metadata": {},
   "outputs": [
    {
     "data": {
      "text/plain": [
       "array([[1000.,    2.],\n",
       "       [   4.,    5.]])"
      ]
     },
     "execution_count": 27,
     "metadata": {},
     "output_type": "execute_result"
    }
   ],
   "source": [
    "subset[0, 0] = 1000\n",
    "subset"
   ]
  },
  {
   "cell_type": "code",
   "execution_count": 28,
   "id": "3da96336-d9a2-4a13-84c8-ccbe35de48bf",
   "metadata": {},
   "outputs": [
    {
     "data": {
      "text/plain": [
       "array([[1000.,    2.,    3.],\n",
       "       [   4.,    5.,    6.]])"
      ]
     },
     "execution_count": 28,
     "metadata": {},
     "output_type": "execute_result"
    }
   ],
   "source": [
    "array2"
   ]
  }
 ],
 "metadata": {
  "kernelspec": {
   "display_name": "Python 3 (ipykernel)",
   "language": "python",
   "name": "python3"
  },
  "language_info": {
   "codemirror_mode": {
    "name": "ipython",
    "version": 3
   },
   "file_extension": ".py",
   "mimetype": "text/x-python",
   "name": "python",
   "nbconvert_exporter": "python",
   "pygments_lexer": "ipython3",
   "version": "3.8.20"
  }
 },
 "nbformat": 4,
 "nbformat_minor": 5
}
