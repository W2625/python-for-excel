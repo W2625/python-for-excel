{
 "cells": [
  {
   "cell_type": "code",
   "execution_count": 9,
   "id": "df6436aa-d05c-436b-90fd-7a4e13e26ef3",
   "metadata": {},
   "outputs": [],
   "source": [
    "import pandas as pd\n",
    "import numpy as np\n",
    "df={\"name\", \"age\", \"country\", \"score\", \"continent\", 1001}\n",
    "date={\"Mark\", 55, \"Italy\", 4.5, \"Europe\"}"
   ]
  },
  {
   "cell_type": "code",
   "execution_count": null,
   "id": "0b13e0bb-b380-457d-8add-dd28021adabf",
   "metadata": {},
   "outputs": [],
   "source": []
  }
 ],
 "metadata": {
  "kernelspec": {
   "display_name": "Python 3 (ipykernel)",
   "language": "python",
   "name": "python3"
  },
  "language_info": {
   "codemirror_mode": {
    "name": "ipython",
    "version": 3
   },
   "file_extension": ".py",
   "mimetype": "text/x-python",
   "name": "python",
   "nbconvert_exporter": "python",
   "pygments_lexer": "ipython3",
   "version": "3.8.20"
  }
 },
 "nbformat": 4,
 "nbformat_minor": 5
}
