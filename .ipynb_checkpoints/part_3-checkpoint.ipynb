{
 "cells": [
  {
   "cell_type": "code",
   "execution_count": 1,
   "id": "b1835280-80e2-4143-8684-dc076f6844ea",
   "metadata": {},
   "outputs": [
    {
     "data": {
      "text/plain": [
       "7"
      ]
     },
     "execution_count": 1,
     "metadata": {},
     "output_type": "execute_result"
    }
   ],
   "source": [
    "a = 3\n",
    "b = 4\n",
    "a + b"
   ]
  },
  {
   "cell_type": "code",
   "execution_count": 2,
   "id": "261be79c-9903-43cd-9e7b-e9588f52b323",
   "metadata": {},
   "outputs": [
    {
     "name": "stdout",
     "output_type": "stream",
     "text": [
      "3\n",
      "three\n"
     ]
    }
   ],
   "source": [
    "a = 3\n",
    "print(a)\n",
    "a = \"three\"\n",
    "print(a)"
   ]
  },
  {
   "cell_type": "code",
   "execution_count": 3,
   "id": "20e0ef63-6b94-4027-881a-27905f8b164e",
   "metadata": {},
   "outputs": [
    {
     "data": {
      "text/plain": [
       "int"
      ]
     },
     "execution_count": 3,
     "metadata": {},
     "output_type": "execute_result"
    }
   ],
   "source": [
    "type(4)"
   ]
  },
  {
   "cell_type": "code",
   "execution_count": 4,
   "id": "5944e3c3-2934-41d8-9640-58fa2dc4bcce",
   "metadata": {},
   "outputs": [
    {
     "data": {
      "text/plain": [
       "float"
      ]
     },
     "execution_count": 4,
     "metadata": {},
     "output_type": "execute_result"
    }
   ],
   "source": [
    "type(4.4)"
   ]
  },
  {
   "cell_type": "code",
   "execution_count": 5,
   "id": "741c93cc-2070-4ff5-8d6f-9d7295495362",
   "metadata": {},
   "outputs": [
    {
     "data": {
      "text/plain": [
       "float"
      ]
     },
     "execution_count": 5,
     "metadata": {},
     "output_type": "execute_result"
    }
   ],
   "source": [
    "type(4.)"
   ]
  },
  {
   "cell_type": "code",
   "execution_count": 6,
   "id": "d0a8db33-9736-41d4-8988-b90d8fd34ba4",
   "metadata": {},
   "outputs": [
    {
     "data": {
      "text/plain": [
       "4.0"
      ]
     },
     "execution_count": 6,
     "metadata": {},
     "output_type": "execute_result"
    }
   ],
   "source": [
    "float(4)"
   ]
  },
  {
   "cell_type": "code",
   "execution_count": 7,
   "id": "c215e0e1-23c8-4b0c-bb17-d40e0ee21dc1",
   "metadata": {},
   "outputs": [
    {
     "data": {
      "text/plain": [
       "4"
      ]
     },
     "execution_count": 7,
     "metadata": {},
     "output_type": "execute_result"
    }
   ],
   "source": [
    "int(4.9)"
   ]
  },
  {
   "cell_type": "code",
   "execution_count": 8,
   "id": "11ce473e-15ec-4291-b480-27d92bcad289",
   "metadata": {},
   "outputs": [
    {
     "data": {
      "text/plain": [
       "0.02499999999999991"
      ]
     },
     "execution_count": 8,
     "metadata": {},
     "output_type": "execute_result"
    }
   ],
   "source": [
    "1.125 - 1.1"
   ]
  },
  {
   "cell_type": "code",
   "execution_count": 9,
   "id": "d1e72615-1a19-4f72-aea4-d201004e1e9b",
   "metadata": {},
   "outputs": [
    {
     "data": {
      "text/plain": [
       "7"
      ]
     },
     "execution_count": 9,
     "metadata": {},
     "output_type": "execute_result"
    }
   ],
   "source": [
    "3 + 4 # 加"
   ]
  },
  {
   "cell_type": "code",
   "execution_count": 10,
   "id": "7c2a471c-b1e4-4555-b463-ab43e76e578d",
   "metadata": {},
   "outputs": [
    {
     "data": {
      "text/plain": [
       "-1"
      ]
     },
     "execution_count": 10,
     "metadata": {},
     "output_type": "execute_result"
    }
   ],
   "source": [
    "3 - 4 # 减"
   ]
  },
  {
   "cell_type": "code",
   "execution_count": 11,
   "id": "15701976-e5ba-483f-8ad7-2345bb53e9dd",
   "metadata": {},
   "outputs": [
    {
     "data": {
      "text/plain": [
       "12"
      ]
     },
     "execution_count": 11,
     "metadata": {},
     "output_type": "execute_result"
    }
   ],
   "source": [
    "3 * 4 # 乘"
   ]
  },
  {
   "cell_type": "code",
   "execution_count": 12,
   "id": "b49064d7-37ab-4c88-b001-30ea2234df9a",
   "metadata": {},
   "outputs": [
    {
     "data": {
      "text/plain": [
       "0.75"
      ]
     },
     "execution_count": 12,
     "metadata": {},
     "output_type": "execute_result"
    }
   ],
   "source": [
    "3 / 4 # 除"
   ]
  },
  {
   "cell_type": "code",
   "execution_count": 13,
   "id": "352a204b-ec8c-4e84-a90d-0199c29a580f",
   "metadata": {},
   "outputs": [
    {
     "data": {
      "text/plain": [
       "81"
      ]
     },
     "execution_count": 13,
     "metadata": {},
     "output_type": "execute_result"
    }
   ],
   "source": [
    "3 ** 4 # 求幂"
   ]
  },
  {
   "cell_type": "code",
   "execution_count": 14,
   "id": "9a26d9da-d5af-4306-9031-aff6bc29dd97",
   "metadata": {},
   "outputs": [
    {
     "data": {
      "text/plain": [
       "21"
      ]
     },
     "execution_count": 14,
     "metadata": {},
     "output_type": "execute_result"
    }
   ],
   "source": [
    "3 * (3 + 4) # 使用圆括号"
   ]
  },
  {
   "cell_type": "code",
   "execution_count": 15,
   "id": "652958ac-0d04-4aef-8a2e-0b3757af0a50",
   "metadata": {},
   "outputs": [
    {
     "data": {
      "text/plain": [
       "7"
      ]
     },
     "execution_count": 15,
     "metadata": {},
     "output_type": "execute_result"
    }
   ],
   "source": [
    "# 这是一个之前看过的例子\n",
    "# 每段注释都以#开头\n",
    "3 + 4"
   ]
  },
  {
   "cell_type": "code",
   "execution_count": 16,
   "id": "ab1fc75e-e3d0-40e1-ba5b-93f21fd8994a",
   "metadata": {},
   "outputs": [
    {
     "data": {
      "text/plain": [
       "7"
      ]
     },
     "execution_count": 16,
     "metadata": {},
     "output_type": "execute_result"
    }
   ],
   "source": [
    "3 + 4 # 这是一段行内注释"
   ]
  },
  {
   "cell_type": "code",
   "execution_count": 17,
   "id": "326b067c-e4cd-4742-a15b-0a065ff7c864",
   "metadata": {},
   "outputs": [
    {
     "data": {
      "text/plain": [
       "False"
      ]
     },
     "execution_count": 17,
     "metadata": {},
     "output_type": "execute_result"
    }
   ],
   "source": [
    "3 == 4 # 相等 （Excel中是 3 = 4）"
   ]
  },
  {
   "cell_type": "code",
   "execution_count": 18,
   "id": "dd7610c6-cbd3-4f94-a48f-8b4e6d915ae3",
   "metadata": {},
   "outputs": [
    {
     "data": {
      "text/plain": [
       "True"
      ]
     },
     "execution_count": 18,
     "metadata": {},
     "output_type": "execute_result"
    }
   ],
   "source": [
    "3 != 4 # 不相等 （Excel中是 3 <> 4）"
   ]
  },
  {
   "cell_type": "code",
   "execution_count": 19,
   "id": "5a6fef86-b3cd-426e-b31b-e3763f25df99",
   "metadata": {},
   "outputs": [
    {
     "data": {
      "text/plain": [
       "True"
      ]
     },
     "execution_count": 19,
     "metadata": {},
     "output_type": "execute_result"
    }
   ],
   "source": [
    "3 < 4"
   ]
  },
  {
   "cell_type": "code",
   "execution_count": 20,
   "id": "174b4892-7954-4f2e-be4f-655f0a349254",
   "metadata": {},
   "outputs": [
    {
     "data": {
      "text/plain": [
       "True"
      ]
     },
     "execution_count": 20,
     "metadata": {},
     "output_type": "execute_result"
    }
   ],
   "source": [
    "3 <= 4"
   ]
  },
  {
   "cell_type": "code",
   "execution_count": 21,
   "id": "5499ea82-0a06-4ab8-a775-e7f8ca9ee22a",
   "metadata": {},
   "outputs": [
    {
     "data": {
      "text/plain": [
       "True"
      ]
     },
     "execution_count": 21,
     "metadata": {},
     "output_type": "execute_result"
    }
   ],
   "source": [
    "# 可以把逻辑表达式串联起来，\n",
    "# 等价于Excel公式中的=AND(10<12, 12<17)\n",
    "10 < 12 < 17"
   ]
  },
  {
   "cell_type": "code",
   "execution_count": 22,
   "id": "1ab480c7-1605-4d51-ba70-ce592a3abc72",
   "metadata": {},
   "outputs": [
    {
     "data": {
      "text/plain": [
       "False"
      ]
     },
     "execution_count": 22,
     "metadata": {},
     "output_type": "execute_result"
    }
   ],
   "source": [
    "not True # “非”运算符"
   ]
  },
  {
   "cell_type": "code",
   "execution_count": 23,
   "id": "6fb23c44-73c5-4129-873a-60bfdfe1e168",
   "metadata": {},
   "outputs": [
    {
     "data": {
      "text/plain": [
       "False"
      ]
     },
     "execution_count": 23,
     "metadata": {},
     "output_type": "execute_result"
    }
   ],
   "source": [
    "False and True # “与”运算符"
   ]
  },
  {
   "cell_type": "code",
   "execution_count": 24,
   "id": "cb045546-7829-4573-ad19-68c4e86cbcc9",
   "metadata": {},
   "outputs": [
    {
     "data": {
      "text/plain": [
       "True"
      ]
     },
     "execution_count": 24,
     "metadata": {},
     "output_type": "execute_result"
    }
   ],
   "source": [
    "False or True # “或”运算符"
   ]
  },
  {
   "cell_type": "code",
   "execution_count": 25,
   "id": "5f0b586c-3be6-46f3-977b-f6b392eb8c47",
   "metadata": {},
   "outputs": [
    {
     "data": {
      "text/plain": [
       "True"
      ]
     },
     "execution_count": 25,
     "metadata": {},
     "output_type": "execute_result"
    }
   ],
   "source": [
    "bool(2)"
   ]
  },
  {
   "cell_type": "code",
   "execution_count": 26,
   "id": "99de520b-6b69-4257-b293-5676533b05a3",
   "metadata": {},
   "outputs": [
    {
     "data": {
      "text/plain": [
       "False"
      ]
     },
     "execution_count": 26,
     "metadata": {},
     "output_type": "execute_result"
    }
   ],
   "source": [
    "bool(0)"
   ]
  },
  {
   "cell_type": "code",
   "execution_count": 27,
   "id": "26992754-511a-41ef-b593-2125ccffe7ff",
   "metadata": {},
   "outputs": [
    {
     "data": {
      "text/plain": [
       "True"
      ]
     },
     "execution_count": 27,
     "metadata": {},
     "output_type": "execute_result"
    }
   ],
   "source": [
    "bool(\"some text\")"
   ]
  },
  {
   "cell_type": "code",
   "execution_count": 28,
   "id": "669b34b8-951d-4f8e-910f-e3e7e4183ebf",
   "metadata": {},
   "outputs": [
    {
     "data": {
      "text/plain": [
       "False"
      ]
     },
     "execution_count": 28,
     "metadata": {},
     "output_type": "execute_result"
    }
   ],
   "source": [
    "bool(\"\")"
   ]
  },
  {
   "cell_type": "code",
   "execution_count": 29,
   "id": "aa12986a-edac-4431-b888-fab0b49f40dd",
   "metadata": {},
   "outputs": [
    {
     "data": {
      "text/plain": [
       "False"
      ]
     },
     "execution_count": 29,
     "metadata": {},
     "output_type": "execute_result"
    }
   ],
   "source": [
    "bool(None)"
   ]
  },
  {
   "cell_type": "code",
   "execution_count": 30,
   "id": "d84c1cff-b1bc-4dca-94cd-429f9979025f",
   "metadata": {},
   "outputs": [
    {
     "data": {
      "text/plain": [
       "'A double quote string.A single quote sting.'"
      ]
     },
     "execution_count": 30,
     "metadata": {},
     "output_type": "execute_result"
    }
   ],
   "source": [
    "\"A double quote string.\" + \"A single quote sting.\""
   ]
  },
  {
   "cell_type": "code",
   "execution_count": 31,
   "id": "dd71db9c-2523-4197-9733-24acab7f7293",
   "metadata": {},
   "outputs": [
    {
     "name": "stdout",
     "output_type": "stream",
     "text": [
      "Don't wait! Learn how to \"speak\" Python.\n"
     ]
    }
   ],
   "source": [
    "print(\"Don't wait! \" + 'Learn how to \"speak\" Python.')"
   ]
  },
  {
   "cell_type": "code",
   "execution_count": 32,
   "id": "30628529-5751-4b47-8051-df639a1fc3a2",
   "metadata": {},
   "outputs": [
    {
     "name": "stdout",
     "output_type": "stream",
     "text": [
      "It's easy to \"escape\" characters with a leading \\.\n"
     ]
    }
   ],
   "source": [
    "print(\"It's easy to \\\"escape\\\" characters with a leading \\\\.\")"
   ]
  },
  {
   "cell_type": "code",
   "execution_count": 33,
   "id": "75d5ed67-afeb-4c20-a99c-ac30729673b3",
   "metadata": {},
   "outputs": [
    {
     "data": {
      "text/plain": [
       "'Python is free and open source.'"
      ]
     },
     "execution_count": 33,
     "metadata": {},
     "output_type": "execute_result"
    }
   ],
   "source": [
    "# 注意Python如何在一行中为多个变量赋予多个值\n",
    "first_adjective,second_adjective = \"free\" , \"open source\"\n",
    "f\"Python is {first_adjective} and {second_adjective}.\""
   ]
  },
  {
   "cell_type": "code",
   "execution_count": 34,
   "id": "991da90c-f18d-4069-b737-7c0cc84f4096",
   "metadata": {},
   "outputs": [
    {
     "data": {
      "text/plain": [
       "'python'"
      ]
     },
     "execution_count": 34,
     "metadata": {},
     "output_type": "execute_result"
    }
   ],
   "source": [
    "\"PYTHON\".lower()"
   ]
  },
  {
   "cell_type": "code",
   "execution_count": 35,
   "id": "f3933b92-49b7-4e62-8fa3-a5fb66aca821",
   "metadata": {},
   "outputs": [
    {
     "data": {
      "text/plain": [
       "'PYTHON'"
      ]
     },
     "execution_count": 35,
     "metadata": {},
     "output_type": "execute_result"
    }
   ],
   "source": [
    "\"python\".upper()"
   ]
  },
  {
   "cell_type": "code",
   "execution_count": 36,
   "id": "5c7ca932-c065-4838-a5ad-daf95b2dc56f",
   "metadata": {},
   "outputs": [],
   "source": [
    "language = \"PYTHON\""
   ]
  },
  {
   "cell_type": "code",
   "execution_count": 37,
   "id": "1a25b725-5105-4c52-b7e8-281d49dd0e2c",
   "metadata": {},
   "outputs": [
    {
     "data": {
      "text/plain": [
       "'P'"
      ]
     },
     "execution_count": 37,
     "metadata": {},
     "output_type": "execute_result"
    }
   ],
   "source": [
    "language[0]"
   ]
  },
  {
   "cell_type": "code",
   "execution_count": 38,
   "id": "5131b606-1be7-4728-8d7c-a0435915facc",
   "metadata": {},
   "outputs": [
    {
     "data": {
      "text/plain": [
       "'Y'"
      ]
     },
     "execution_count": 38,
     "metadata": {},
     "output_type": "execute_result"
    }
   ],
   "source": [
    "language[1]"
   ]
  },
  {
   "cell_type": "code",
   "execution_count": 39,
   "id": "6300dde6-fae0-4aa5-8daa-3c2fd0c3460e",
   "metadata": {},
   "outputs": [
    {
     "data": {
      "text/plain": [
       "'N'"
      ]
     },
     "execution_count": 39,
     "metadata": {},
     "output_type": "execute_result"
    }
   ],
   "source": [
    "language[-1]"
   ]
  },
  {
   "cell_type": "code",
   "execution_count": 40,
   "id": "6a815b33-21c1-4002-9c64-007c6eae0569",
   "metadata": {},
   "outputs": [
    {
     "data": {
      "text/plain": [
       "'O'"
      ]
     },
     "execution_count": 40,
     "metadata": {},
     "output_type": "execute_result"
    }
   ],
   "source": [
    "language[-2]"
   ]
  },
  {
   "cell_type": "code",
   "execution_count": 41,
   "id": "416a8cdc-a973-48b5-a7b9-e9c300632a3d",
   "metadata": {},
   "outputs": [
    {
     "data": {
      "text/plain": [
       "'PYT'"
      ]
     },
     "execution_count": 41,
     "metadata": {},
     "output_type": "execute_result"
    }
   ],
   "source": [
    "language[:3]"
   ]
  },
  {
   "cell_type": "code",
   "execution_count": 42,
   "id": "72212700-4708-440a-9391-e6a0df0eea7e",
   "metadata": {},
   "outputs": [
    {
     "data": {
      "text/plain": [
       "'YT'"
      ]
     },
     "execution_count": 42,
     "metadata": {},
     "output_type": "execute_result"
    }
   ],
   "source": [
    "language[1:3]"
   ]
  },
  {
   "cell_type": "code",
   "execution_count": 43,
   "id": "725ca77f-2b3b-459a-96dd-a97a7039b8a1",
   "metadata": {},
   "outputs": [
    {
     "data": {
      "text/plain": [
       "'HON'"
      ]
     },
     "execution_count": 43,
     "metadata": {},
     "output_type": "execute_result"
    }
   ],
   "source": [
    "language[-3:] # 同language[-3:6]"
   ]
  },
  {
   "cell_type": "code",
   "execution_count": 44,
   "id": "b8fbaa31-834b-4d24-a925-499bf4ea2a3f",
   "metadata": {},
   "outputs": [
    {
     "data": {
      "text/plain": [
       "'HO'"
      ]
     },
     "execution_count": 44,
     "metadata": {},
     "output_type": "execute_result"
    }
   ],
   "source": [
    "language[-3:-1]"
   ]
  },
  {
   "cell_type": "code",
   "execution_count": 45,
   "id": "05fe2700-492f-41f2-beb3-0d8aa54ffc6c",
   "metadata": {},
   "outputs": [
    {
     "data": {
      "text/plain": [
       "'PTO'"
      ]
     },
     "execution_count": 45,
     "metadata": {},
     "output_type": "execute_result"
    }
   ],
   "source": [
    "language[::2] # 每两个元素取一个"
   ]
  },
  {
   "cell_type": "code",
   "execution_count": 46,
   "id": "726dafdc-a832-46b4-83d8-98497acc0855",
   "metadata": {},
   "outputs": [
    {
     "data": {
      "text/plain": [
       "'NOH'"
      ]
     },
     "execution_count": 46,
     "metadata": {},
     "output_type": "execute_result"
    }
   ],
   "source": [
    "language[-1:-4:-1] # 负步长从右到左"
   ]
  },
  {
   "cell_type": "code",
   "execution_count": 47,
   "id": "ddf11253-2971-49f8-995d-306080d7aaf1",
   "metadata": {},
   "outputs": [
    {
     "data": {
      "text/plain": [
       "'O'"
      ]
     },
     "execution_count": 47,
     "metadata": {},
     "output_type": "execute_result"
    }
   ],
   "source": [
    "language[-3:][1]"
   ]
  },
  {
   "cell_type": "code",
   "execution_count": 48,
   "id": "427c8256-5480-41c0-873a-2d505bdb8243",
   "metadata": {},
   "outputs": [],
   "source": [
    "file_names = [\"one.xlsx\", \"two.xlsx\", \"three.xlsx\"]\n",
    "numbers = [1, 2, 3]"
   ]
  },
  {
   "cell_type": "code",
   "execution_count": 49,
   "id": "a161fb28-85aa-43e8-952a-26c9e9b72ef8",
   "metadata": {},
   "outputs": [
    {
     "data": {
      "text/plain": [
       "['one.xlsx', 'two.xlsx', 'three.xlsx', 1, 2, 3]"
      ]
     },
     "execution_count": 49,
     "metadata": {},
     "output_type": "execute_result"
    }
   ],
   "source": [
    "file_names + numbers"
   ]
  },
  {
   "cell_type": "code",
   "execution_count": 50,
   "id": "6bc36d5f-e3cd-47c1-8076-3839cbfbae7a",
   "metadata": {},
   "outputs": [],
   "source": [
    "nested_list = [[1, 2, 3], [4, 5, 6], [7, 8, 9]]"
   ]
  },
  {
   "cell_type": "code",
   "execution_count": 51,
   "id": "9d292260-d421-47fc-bb0b-f821bcd2fed4",
   "metadata": {},
   "outputs": [],
   "source": [
    "cells = [[1, 2, 3],\n",
    "        [4, 5, 6],\n",
    "        [7, 8, 9]]"
   ]
  },
  {
   "cell_type": "code",
   "execution_count": 52,
   "id": "b975c347-bcff-4ef7-a927-1e0dc77d5890",
   "metadata": {},
   "outputs": [
    {
     "data": {
      "text/plain": [
       "[4, 5, 6]"
      ]
     },
     "execution_count": 52,
     "metadata": {},
     "output_type": "execute_result"
    }
   ],
   "source": [
    "cells[1] # 第二行"
   ]
  },
  {
   "cell_type": "code",
   "execution_count": 53,
   "id": "e471686a-385d-4688-90a5-8a04ff362099",
   "metadata": {},
   "outputs": [
    {
     "data": {
      "text/plain": [
       "[5, 6]"
      ]
     },
     "execution_count": 53,
     "metadata": {},
     "output_type": "execute_result"
    }
   ],
   "source": [
    "cells[1][1:] # 第二行的第二列和第三列"
   ]
  },
  {
   "cell_type": "code",
   "execution_count": 54,
   "id": "1e2712a4-86ba-4fce-8d4f-0c3f3e03eaa2",
   "metadata": {},
   "outputs": [],
   "source": [
    "a = (1 + 2\n",
    "    +3)"
   ]
  },
  {
   "cell_type": "code",
   "execution_count": 55,
   "id": "e466be47-98f7-4469-b2ea-3bfd71c872d8",
   "metadata": {},
   "outputs": [],
   "source": [
    "a = 1 + 2 \\\n",
    "    +3"
   ]
  },
  {
   "cell_type": "code",
   "execution_count": 56,
   "id": "4ade304b-a284-4ada-9c8d-9b12a283c1f3",
   "metadata": {},
   "outputs": [],
   "source": [
    "users = [\"Linda\", \"Brian\"]"
   ]
  },
  {
   "cell_type": "code",
   "execution_count": 57,
   "id": "948c585c-232e-48fd-a0dc-320afd7a597f",
   "metadata": {},
   "outputs": [
    {
     "data": {
      "text/plain": [
       "['Linda', 'Brian', 'Jennifer']"
      ]
     },
     "execution_count": 57,
     "metadata": {},
     "output_type": "execute_result"
    }
   ],
   "source": [
    "users.append(\"Jennifer\") # 最常用的操作是向列表末尾追加元素\n",
    "users"
   ]
  },
  {
   "cell_type": "code",
   "execution_count": 58,
   "id": "9a7bba80-8bbb-4c1c-a7f1-91b3f0be9a1e",
   "metadata": {},
   "outputs": [
    {
     "data": {
      "text/plain": [
       "['Kim', 'Linda', 'Brian', 'Jennifer']"
      ]
     },
     "execution_count": 58,
     "metadata": {},
     "output_type": "execute_result"
    }
   ],
   "source": [
    "users.insert(0, \"Kim\") # 在索引0处插入“Kim”\n",
    "users"
   ]
  },
  {
   "cell_type": "code",
   "execution_count": 59,
   "id": "4dc19241-6e14-491d-9f10-1e2d24818067",
   "metadata": {},
   "outputs": [
    {
     "data": {
      "text/plain": [
       "'Jennifer'"
      ]
     },
     "execution_count": 59,
     "metadata": {},
     "output_type": "execute_result"
    }
   ],
   "source": [
    "users.pop() # 在默认情况下移除并返回最后一个元素"
   ]
  },
  {
   "cell_type": "code",
   "execution_count": 60,
   "id": "4ac560f1-37ab-4723-a402-47805fec14ea",
   "metadata": {},
   "outputs": [
    {
     "data": {
      "text/plain": [
       "['Kim', 'Linda', 'Brian']"
      ]
     },
     "execution_count": 60,
     "metadata": {},
     "output_type": "execute_result"
    }
   ],
   "source": [
    "users"
   ]
  },
  {
   "cell_type": "code",
   "execution_count": 61,
   "id": "fb8e84dc-d9b6-416d-ba40-5642a5a3fe0f",
   "metadata": {},
   "outputs": [],
   "source": [
    "del users[0] # del会移除指定索引处的元素"
   ]
  },
  {
   "cell_type": "code",
   "execution_count": 62,
   "id": "31f08e0e-06fd-4b13-b38d-bdd6ac848227",
   "metadata": {},
   "outputs": [
    {
     "data": {
      "text/plain": [
       "2"
      ]
     },
     "execution_count": 62,
     "metadata": {},
     "output_type": "execute_result"
    }
   ],
   "source": [
    "len(users) # 长度"
   ]
  },
  {
   "cell_type": "code",
   "execution_count": 63,
   "id": "9f6947fb-950a-40a2-b769-c0bfdb517933",
   "metadata": {},
   "outputs": [
    {
     "data": {
      "text/plain": [
       "True"
      ]
     },
     "execution_count": 63,
     "metadata": {},
     "output_type": "execute_result"
    }
   ],
   "source": [
    "\"Linda\" in users # 检查users是否包含“Linda”"
   ]
  },
  {
   "cell_type": "code",
   "execution_count": 64,
   "id": "5470aa3c-8206-4084-8f8e-66c2bde8e187",
   "metadata": {},
   "outputs": [
    {
     "name": "stdout",
     "output_type": "stream",
     "text": [
      "['Brian', 'Linda']\n",
      "['Linda', 'Brian']\n"
     ]
    }
   ],
   "source": [
    "print(sorted(users)) # 返回新的排好序的列表\n",
    "print(users) # 原列表保持不变"
   ]
  },
  {
   "cell_type": "code",
   "execution_count": 65,
   "id": "fa580f4a-f098-473d-b7c6-3af0062e475c",
   "metadata": {},
   "outputs": [
    {
     "data": {
      "text/plain": [
       "['Brian', 'Linda']"
      ]
     },
     "execution_count": 65,
     "metadata": {},
     "output_type": "execute_result"
    }
   ],
   "source": [
    "users.sort() # 对原列表进行排序\n",
    "users"
   ]
  },
  {
   "cell_type": "code",
   "execution_count": 66,
   "id": "82c9ee69-78ad-4f7c-b05e-614df480087d",
   "metadata": {},
   "outputs": [
    {
     "data": {
      "text/plain": [
       "6"
      ]
     },
     "execution_count": 66,
     "metadata": {},
     "output_type": "execute_result"
    }
   ],
   "source": [
    "len(\"Python\")"
   ]
  },
  {
   "cell_type": "code",
   "execution_count": 67,
   "id": "2eb61b96-0ead-4d7a-80ac-bc9b0b8918b0",
   "metadata": {},
   "outputs": [
    {
     "data": {
      "text/plain": [
       "True"
      ]
     },
     "execution_count": 67,
     "metadata": {},
     "output_type": "execute_result"
    }
   ],
   "source": [
    "\"free\" in \"Python is free and open source.\""
   ]
  },
  {
   "cell_type": "code",
   "execution_count": 68,
   "id": "e4f25722-bfba-4403-8d70-258adeb48150",
   "metadata": {},
   "outputs": [],
   "source": [
    "exchange_rates = {\"EURUSD\" : 1.1152,\n",
    "                 \"GBPUSD\" : 1.2454,\n",
    "                 \"AUDUSD\" : 0.6161}"
   ]
  },
  {
   "cell_type": "code",
   "execution_count": 69,
   "id": "126d7ce5-4ca6-490c-9723-a425e36e6926",
   "metadata": {},
   "outputs": [
    {
     "data": {
      "text/plain": [
       "1.1152"
      ]
     },
     "execution_count": 69,
     "metadata": {},
     "output_type": "execute_result"
    }
   ],
   "source": [
    "exchange_rates[\"EURUSD\"] # 访问EURUSD的汇率"
   ]
  },
  {
   "cell_type": "code",
   "execution_count": 70,
   "id": "2e8de57b-68e6-4ccb-a466-b9fe853f1055",
   "metadata": {},
   "outputs": [
    {
     "data": {
      "text/plain": [
       "{'EURUSD': 1.2, 'GBPUSD': 1.2454, 'AUDUSD': 0.6161}"
      ]
     },
     "execution_count": 70,
     "metadata": {},
     "output_type": "execute_result"
    }
   ],
   "source": [
    "exchange_rates[\"EURUSD\"] = 1.2 # 修改已经存在的值\n",
    "exchange_rates"
   ]
  },
  {
   "cell_type": "code",
   "execution_count": 71,
   "id": "6aa0c274-b4ef-4c57-809b-ced863141580",
   "metadata": {},
   "outputs": [
    {
     "data": {
      "text/plain": [
       "{'EURUSD': 1.2, 'GBPUSD': 1.2454, 'AUDUSD': 0.6161, 'CADUSD': 0.714}"
      ]
     },
     "execution_count": 71,
     "metadata": {},
     "output_type": "execute_result"
    }
   ],
   "source": [
    "exchange_rates[\"CADUSD\"] = 0.714\n",
    "exchange_rates"
   ]
  },
  {
   "cell_type": "code",
   "execution_count": 72,
   "id": "48fded6c-7b17-4d91-815a-b20605956586",
   "metadata": {},
   "outputs": [
    {
     "data": {
      "text/plain": [
       "{'EURUSD': 1.2,\n",
       " 'GBPUSD': 1.2222,\n",
       " 'AUDUSD': 0.6161,\n",
       " 'CADUSD': 0.714,\n",
       " 'SGDUSD': 0.7004}"
      ]
     },
     "execution_count": 72,
     "metadata": {},
     "output_type": "execute_result"
    }
   ],
   "source": [
    "{**exchange_rates, **{\"SGDUSD\": 0.7004, \"GBPUSD\": 1.2222}}"
   ]
  },
  {
   "cell_type": "code",
   "execution_count": 73,
   "id": "0a0b00dd-4119-46d9-b1eb-e14c53d12fdc",
   "metadata": {},
   "outputs": [],
   "source": [
    "currencies = {1: \"EUR\", 2: \"USD\", 3: \"AUD\"}"
   ]
  },
  {
   "cell_type": "code",
   "execution_count": 74,
   "id": "6a7fda57-c888-4f9e-9875-1999fb9716c9",
   "metadata": {},
   "outputs": [
    {
     "data": {
      "text/plain": [
       "'EUR'"
      ]
     },
     "execution_count": 74,
     "metadata": {},
     "output_type": "execute_result"
    }
   ],
   "source": [
    "currencies[1]"
   ]
  },
  {
   "cell_type": "code",
   "execution_count": 75,
   "id": "c11ff621-b18e-49a2-a855-96c5bd077e67",
   "metadata": {},
   "outputs": [
    {
     "data": {
      "text/plain": [
       "'N/A'"
      ]
     },
     "execution_count": 75,
     "metadata": {},
     "output_type": "execute_result"
    }
   ],
   "source": [
    "# currencies[100]会引发异常\n",
    "# 除了100，还可以尝试任何不存在的键\n",
    "currencies.get(100, \"N/A\")"
   ]
  },
  {
   "cell_type": "code",
   "execution_count": 76,
   "id": "bb39193f-1d1f-4d73-a24e-327eb6b232a4",
   "metadata": {},
   "outputs": [],
   "source": [
    "currencies = (\"EUR\", \"GBP\", \"AUD\")"
   ]
  },
  {
   "cell_type": "code",
   "execution_count": 77,
   "id": "75481bb7-56c7-4f54-a199-afd48b2da2af",
   "metadata": {},
   "outputs": [
    {
     "data": {
      "text/plain": [
       "'EUR'"
      ]
     },
     "execution_count": 77,
     "metadata": {},
     "output_type": "execute_result"
    }
   ],
   "source": [
    "currencies[0] # 访问第一个元素"
   ]
  },
  {
   "cell_type": "code",
   "execution_count": 78,
   "id": "636453a8-7410-4b7d-a941-3d99eaf059c4",
   "metadata": {},
   "outputs": [
    {
     "data": {
      "text/plain": [
       "('EUR', 'GBP', 'AUD', 'SGD')"
      ]
     },
     "execution_count": 78,
     "metadata": {},
     "output_type": "execute_result"
    }
   ],
   "source": [
    "# 拼接元组会返回一个新元组\n",
    "currencies + (\"SGD\",)"
   ]
  },
  {
   "cell_type": "code",
   "execution_count": 79,
   "id": "a793f448-678c-466b-825c-f0109f7f6af1",
   "metadata": {},
   "outputs": [
    {
     "data": {
      "text/plain": [
       "{'EUR', 'SGB', 'USD'}"
      ]
     },
     "execution_count": 79,
     "metadata": {},
     "output_type": "execute_result"
    }
   ],
   "source": [
    "set([\"USD\", \"USD\", \"SGB\", \"EUR\", \"USD\", \"EUR\"])"
   ]
  },
  {
   "cell_type": "code",
   "execution_count": 80,
   "id": "3542678d-d1cc-4042-8531-0cfa4184d25a",
   "metadata": {},
   "outputs": [],
   "source": [
    "portfolio1 = {\"USD\", \"EUR\", \"SGD\", \"CHF\"}\n",
    "portfolio2 = {\"EUR\", \"SGD\", \"CAD\"}"
   ]
  },
  {
   "cell_type": "code",
   "execution_count": 81,
   "id": "81e14532-b6ae-44f8-bbd1-57ec64273f94",
   "metadata": {},
   "outputs": [
    {
     "data": {
      "text/plain": [
       "{'CAD', 'CHF', 'EUR', 'SGD', 'USD'}"
      ]
     },
     "execution_count": 81,
     "metadata": {},
     "output_type": "execute_result"
    }
   ],
   "source": [
    "# portfolio2.union(portfolio1)\n",
    "portfolio1.union(portfolio2)"
   ]
  },
  {
   "cell_type": "code",
   "execution_count": 82,
   "id": "d7d1036b-4dd0-4389-89c6-c7f749c6406a",
   "metadata": {},
   "outputs": [
    {
     "data": {
      "text/plain": [
       "{'EUR', 'SGD'}"
      ]
     },
     "execution_count": 82,
     "metadata": {},
     "output_type": "execute_result"
    }
   ],
   "source": [
    "# 同portfolio2.intersection(protfolio1)\n",
    "portfolio1.intersection(portfolio2)"
   ]
  },
  {
   "cell_type": "code",
   "execution_count": 83,
   "id": "c5e08fde-aa34-4c05-a89a-6f8cb39c1fba",
   "metadata": {},
   "outputs": [
    {
     "data": {
      "text/plain": [
       "('USD', 'EUR', 'CHF')"
      ]
     },
     "execution_count": 83,
     "metadata": {},
     "output_type": "execute_result"
    }
   ],
   "source": [
    "currencies = \"USD\", \"EUR\", \"CHF\"\n",
    "currencies"
   ]
  },
  {
   "cell_type": "code",
   "execution_count": 84,
   "id": "b88f60f6-03dd-46b9-9fd1-a5480a205db1",
   "metadata": {},
   "outputs": [
    {
     "data": {
      "text/plain": [
       "['USD', 'EUR', 'CHF']"
      ]
     },
     "execution_count": 84,
     "metadata": {},
     "output_type": "execute_result"
    }
   ],
   "source": [
    "list(currencies)"
   ]
  },
  {
   "cell_type": "code",
   "execution_count": 85,
   "id": "cdeda92f-ec73-4cb6-a234-cc4af1663c83",
   "metadata": {},
   "outputs": [
    {
     "name": "stdout",
     "output_type": "stream",
     "text": [
      "i is bigger than 10\n"
     ]
    }
   ],
   "source": [
    "i = 20\n",
    "if i < 5:\n",
    "    print(\"i is smaller than 5\")\n",
    "elif i <=10:\n",
    "    print(\"i is between 5 and 10\")\n",
    "else:\n",
    "    print(\"i is bigger than 10\")"
   ]
  },
  {
   "cell_type": "code",
   "execution_count": 86,
   "id": "b6078983-8f04-436f-9656-870220367370",
   "metadata": {},
   "outputs": [
    {
     "name": "stdout",
     "output_type": "stream",
     "text": [
      "This is important.\n"
     ]
    }
   ],
   "source": [
    "is_important = True\n",
    "if is_important:\n",
    "    print(\"This is important.\")\n",
    "else:\n",
    "    print(\"This is not important.\")"
   ]
  },
  {
   "cell_type": "code",
   "execution_count": 87,
   "id": "95d43ec1-ef06-4cf1-bb02-9f1bb67eb923",
   "metadata": {},
   "outputs": [
    {
     "name": "stdout",
     "output_type": "stream",
     "text": [
      "There were no values provided.\n"
     ]
    }
   ],
   "source": [
    "values = []\n",
    "if values:\n",
    "    print(f\"The following values were provided: {values}\")\n",
    "else:\n",
    "    print(\"There were no values provided.\")"
   ]
  },
  {
   "cell_type": "code",
   "execution_count": 88,
   "id": "a182e932-d845-4b8f-945d-0bc5ed8243af",
   "metadata": {},
   "outputs": [
    {
     "name": "stdout",
     "output_type": "stream",
     "text": [
      "not important\n"
     ]
    }
   ],
   "source": [
    "is_important = False\n",
    "print(\"important\") if is_important else print(\"not important\")"
   ]
  },
  {
   "cell_type": "code",
   "execution_count": 89,
   "id": "82553865-e7be-4f40-9a1a-d98eda341469",
   "metadata": {},
   "outputs": [
    {
     "name": "stdout",
     "output_type": "stream",
     "text": [
      "USD\n",
      "GBP\n",
      "AUD\n"
     ]
    }
   ],
   "source": [
    "currencies = [\"USD\", \"GBP\",\"AUD\"]\n",
    "for currency in currencies:\n",
    "    print(currency)"
   ]
  },
  {
   "cell_type": "code",
   "execution_count": 90,
   "id": "03cb5b27-cf41-4776-bc8a-343335d4ae95",
   "metadata": {},
   "outputs": [
    {
     "data": {
      "text/plain": [
       "range(0, 5)"
      ]
     },
     "execution_count": 90,
     "metadata": {},
     "output_type": "execute_result"
    }
   ],
   "source": [
    "range(5)"
   ]
  },
  {
   "cell_type": "code",
   "execution_count": 91,
   "id": "e1c8e00f-22cf-448b-84af-947aae482290",
   "metadata": {},
   "outputs": [
    {
     "data": {
      "text/plain": [
       "[0, 1, 2, 3, 4]"
      ]
     },
     "execution_count": 91,
     "metadata": {},
     "output_type": "execute_result"
    }
   ],
   "source": [
    "list(range(5))"
   ]
  },
  {
   "cell_type": "code",
   "execution_count": 92,
   "id": "a79efe8d-aa06-41c1-b733-fab8bdf688b8",
   "metadata": {},
   "outputs": [
    {
     "data": {
      "text/plain": [
       "[2, 4]"
      ]
     },
     "execution_count": 92,
     "metadata": {},
     "output_type": "execute_result"
    }
   ],
   "source": [
    "list(range(2, 5, 2))"
   ]
  },
  {
   "cell_type": "code",
   "execution_count": 93,
   "id": "30f1868e-59ad-4cf6-8c2f-df1939326b8b",
   "metadata": {},
   "outputs": [
    {
     "name": "stdout",
     "output_type": "stream",
     "text": [
      "0\n",
      "1\n",
      "2\n"
     ]
    }
   ],
   "source": [
    "for i in range(3):\n",
    "    print(i)"
   ]
  },
  {
   "cell_type": "code",
   "execution_count": 94,
   "id": "1ca33ea1-6e78-4892-9088-2d6350821718",
   "metadata": {},
   "outputs": [
    {
     "name": "stdout",
     "output_type": "stream",
     "text": [
      "0 USD\n",
      "1 GBP\n",
      "2 AUD\n"
     ]
    }
   ],
   "source": [
    "for i, currency in enumerate(currencies):\n",
    "    print(i, currency)"
   ]
  },
  {
   "cell_type": "code",
   "execution_count": 95,
   "id": "90be5ce5-4970-4e6d-9ada-2600a094ad90",
   "metadata": {},
   "outputs": [
    {
     "name": "stdout",
     "output_type": "stream",
     "text": [
      "EURUSD\n",
      "GBPUSD\n",
      "AUDUSD\n"
     ]
    }
   ],
   "source": [
    "exchange_rates = {\"EURUSD\": 1.1152,\n",
    "                 \"GBPUSD\": 1.2454,\n",
    "                 \"AUDUSD\": 0.6161}\n",
    "for currency_pair in exchange_rates:\n",
    "    print(currency_pair)"
   ]
  },
  {
   "cell_type": "code",
   "execution_count": 96,
   "id": "382a5a97-e053-4056-87aa-3e831da4fccf",
   "metadata": {},
   "outputs": [
    {
     "name": "stdout",
     "output_type": "stream",
     "text": [
      "EURUSD 1.1152\n",
      "GBPUSD 1.2454\n",
      "AUDUSD 0.6161\n"
     ]
    }
   ],
   "source": [
    "for currency_pair, exchange_rate in exchange_rates.items():\n",
    "    print(currency_pair, exchange_rate)"
   ]
  },
  {
   "cell_type": "code",
   "execution_count": 97,
   "id": "b7bde79a-de40-4720-8eeb-70e2f5f3812d",
   "metadata": {},
   "outputs": [
    {
     "name": "stdout",
     "output_type": "stream",
     "text": [
      "0\n",
      "1\n"
     ]
    }
   ],
   "source": [
    "for i in range(15):\n",
    "    if i == 2:\n",
    "        break\n",
    "    else:\n",
    "        print(i)"
   ]
  },
  {
   "cell_type": "code",
   "execution_count": 98,
   "id": "7d279f71-8ffb-45d1-9f5c-88e15407e434",
   "metadata": {},
   "outputs": [
    {
     "name": "stdout",
     "output_type": "stream",
     "text": [
      "0\n",
      "1\n",
      "3\n"
     ]
    }
   ],
   "source": [
    "for i in range(4):\n",
    "    if i == 2:\n",
    "        continue\n",
    "    else:\n",
    "        print(i)"
   ]
  },
  {
   "cell_type": "code",
   "execution_count": 99,
   "id": "3711910f-c053-4222-9266-1e2acea739b7",
   "metadata": {},
   "outputs": [
    {
     "name": "stdout",
     "output_type": "stream",
     "text": [
      "1\n",
      "2\n",
      "3\n",
      "3\n"
     ]
    }
   ],
   "source": [
    "for i in range(1, 4):\n",
    "    print(i)\n",
    "print(i)"
   ]
  },
  {
   "cell_type": "code",
   "execution_count": 100,
   "id": "2fe93381-e9b8-4edd-8ae0-0bad8ccc11eb",
   "metadata": {},
   "outputs": [
    {
     "name": "stdout",
     "output_type": "stream",
     "text": [
      "0\n",
      "1\n",
      "2\n"
     ]
    }
   ],
   "source": [
    "n = 0\n",
    "while n <= 2:\n",
    "    print(n)\n",
    "    n += 1"
   ]
  },
  {
   "cell_type": "code",
   "execution_count": 101,
   "id": "f0caf8d4-ba26-45b3-9c94-c223b764ff0a",
   "metadata": {},
   "outputs": [],
   "source": [
    "currency_pairs = [\"USDJPY\", \"USDGBP\", \"USDCHF\", \"USDCAD\", \"AUDUSD\", \"NZDUSD\"]"
   ]
  },
  {
   "cell_type": "code",
   "execution_count": 102,
   "id": "0a8c55d1-dc2c-46ad-9b74-5ede60f96d56",
   "metadata": {},
   "outputs": [
    {
     "data": {
      "text/plain": [
       "['AUD', 'NZD']"
      ]
     },
     "execution_count": 102,
     "metadata": {},
     "output_type": "execute_result"
    }
   ],
   "source": [
    "usd_quote = []\n",
    "for pair in currency_pairs:\n",
    "    if pair[3:] == \"USD\":\n",
    "        usd_quote.append(pair[:3])\n",
    "usd_quote"
   ]
  },
  {
   "cell_type": "code",
   "execution_count": 103,
   "id": "789a17da-760f-4cee-bf1a-cfaabff78b50",
   "metadata": {},
   "outputs": [
    {
     "data": {
      "text/plain": [
       "['AUD', 'NZD']"
      ]
     },
     "execution_count": 103,
     "metadata": {},
     "output_type": "execute_result"
    }
   ],
   "source": [
    "[pair[:3] for pair in currency_pairs if pair[3:] == \"USD\"]"
   ]
  },
  {
   "cell_type": "code",
   "execution_count": 104,
   "id": "abd956b1-5d0f-48f3-9fc8-1b0742c6ce43",
   "metadata": {},
   "outputs": [
    {
     "data": {
      "text/plain": [
       "['JPYUSD', 'GBPUSD', 'CHFUSD', 'CADUSD', 'USDAUD', 'USDNZD']"
      ]
     },
     "execution_count": 104,
     "metadata": {},
     "output_type": "execute_result"
    }
   ],
   "source": [
    "[pair[3:] + pair[:3] for pair in currency_pairs]"
   ]
  },
  {
   "cell_type": "code",
   "execution_count": 105,
   "id": "8bded937-82ec-48bc-8d64-52e549cca161",
   "metadata": {},
   "outputs": [
    {
     "data": {
      "text/plain": [
       "{'EURUSD': 111.52, 'GBPUSD': 124.54, 'AUDUSD': 61.61}"
      ]
     },
     "execution_count": 105,
     "metadata": {},
     "output_type": "execute_result"
    }
   ],
   "source": [
    "exchange_rates = {\"EURUSD\": 1.1152,\n",
    "                 \"GBPUSD\": 1.2454,\n",
    "                 \"AUDUSD\": 0.6161}\n",
    "{k: v * 100 for (k, v) in exchange_rates.items()}"
   ]
  },
  {
   "cell_type": "code",
   "execution_count": 106,
   "id": "ab03d41c-3a34-46ec-87ae-6da726444827",
   "metadata": {},
   "outputs": [
    {
     "data": {
      "text/plain": [
       "{'EURUSD', 'GBPUSD', 'NZDUSD'}"
      ]
     },
     "execution_count": 106,
     "metadata": {},
     "output_type": "execute_result"
    }
   ],
   "source": [
    "{s + \"USD\" for s in [\"EUR\", \"GBP\", \"EUR\", \"NZD\", \"NZD\"]}"
   ]
  },
  {
   "cell_type": "code",
   "execution_count": 107,
   "id": "29855154-0f54-44b5-a365-d4917abe52c6",
   "metadata": {},
   "outputs": [],
   "source": [
    "def convert_to_celsius(degrees, source=\"fahrenheit\"):\n",
    "    if source.lower() == \"fahrenheit\":\n",
    "        return (degrees-32) * (5/9)\n",
    "    elif source.lower() == \"kelvin\":\n",
    "        return degrees - 273.15\n",
    "    else:\n",
    "        return f\"Don't know how to convert from {source}\""
   ]
  },
  {
   "cell_type": "code",
   "execution_count": 108,
   "id": "c44d33c3-b68e-4171-b9fd-c8d09a0dc1df",
   "metadata": {},
   "outputs": [
    {
     "data": {
      "text/plain": [
       "37.77777777777778"
      ]
     },
     "execution_count": 108,
     "metadata": {},
     "output_type": "execute_result"
    }
   ],
   "source": [
    "convert_to_celsius(100, \"fahrenheit\") # 位置参数"
   ]
  },
  {
   "cell_type": "code",
   "execution_count": 109,
   "id": "30c3ed69-7623-4a8d-8886-707407480816",
   "metadata": {},
   "outputs": [
    {
     "data": {
      "text/plain": [
       "10.0"
      ]
     },
     "execution_count": 109,
     "metadata": {},
     "output_type": "execute_result"
    }
   ],
   "source": [
    "convert_to_celsius(50) # 使用默认值（fahrenheit）"
   ]
  },
  {
   "cell_type": "code",
   "execution_count": 110,
   "id": "09c6956b-df0c-4ffa-a2d5-d3d4e45c631e",
   "metadata": {},
   "outputs": [
    {
     "data": {
      "text/plain": [
       "-273.15"
      ]
     },
     "execution_count": 110,
     "metadata": {},
     "output_type": "execute_result"
    }
   ],
   "source": [
    "convert_to_celsius(source=\"kelvin\", degrees=0) # 关键字参数"
   ]
  },
  {
   "cell_type": "code",
   "execution_count": 111,
   "id": "549dd7af-0900-4fe4-adf6-86bda2de63fd",
   "metadata": {},
   "outputs": [
    {
     "name": "stdout",
     "output_type": "stream",
     "text": [
      "This is the temperature module.\n"
     ]
    }
   ],
   "source": [
    "import temperature"
   ]
  },
  {
   "cell_type": "code",
   "execution_count": 112,
   "id": "a83a86b1-91b1-4183-9f3a-59ce1c57d758",
   "metadata": {},
   "outputs": [
    {
     "data": {
      "text/plain": [
       "('fahrenheit', 'kelvin', 'celsius')"
      ]
     },
     "execution_count": 112,
     "metadata": {},
     "output_type": "execute_result"
    }
   ],
   "source": [
    "temperature.TEMPERATURE_SCALES"
   ]
  },
  {
   "cell_type": "code",
   "execution_count": 113,
   "id": "184895f9-66ca-4842-8782-d0778f705a5f",
   "metadata": {},
   "outputs": [
    {
     "data": {
      "text/plain": [
       "48.88888888888889"
      ]
     },
     "execution_count": 113,
     "metadata": {},
     "output_type": "execute_result"
    }
   ],
   "source": [
    "temperature.convert_to_celsius(120, \"fahrenheit\")"
   ]
  },
  {
   "cell_type": "code",
   "execution_count": 114,
   "id": "2aa54ecd-782f-4eb3-935f-c1e8b531d466",
   "metadata": {},
   "outputs": [],
   "source": [
    "import temperature as tp"
   ]
  },
  {
   "cell_type": "code",
   "execution_count": 115,
   "id": "29121d5c-1336-482c-8b0a-9d0aea4aabc8",
   "metadata": {},
   "outputs": [
    {
     "data": {
      "text/plain": [
       "('fahrenheit', 'kelvin', 'celsius')"
      ]
     },
     "execution_count": 115,
     "metadata": {},
     "output_type": "execute_result"
    }
   ],
   "source": [
    "tp.TEMPERATURE_SCALES"
   ]
  },
  {
   "cell_type": "code",
   "execution_count": 116,
   "id": "5e02a057-3f90-423b-b6d3-d2ae2ed42569",
   "metadata": {},
   "outputs": [],
   "source": [
    "from temperature import TEMPERATURE_SCALES,convert_to_celsius"
   ]
  },
  {
   "cell_type": "code",
   "execution_count": 117,
   "id": "accb0095-b3d8-4992-943f-a2ede3c16aeb",
   "metadata": {},
   "outputs": [
    {
     "data": {
      "text/plain": [
       "('fahrenheit', 'kelvin', 'celsius')"
      ]
     },
     "execution_count": 117,
     "metadata": {},
     "output_type": "execute_result"
    }
   ],
   "source": [
    "TEMPERATURE_SCALES"
   ]
  },
  {
   "cell_type": "code",
   "execution_count": 118,
   "id": "93e22c03-fb6b-4c24-9e55-8f88a127f3eb",
   "metadata": {},
   "outputs": [],
   "source": [
    "# 将datetime模块导入为dt\n",
    "import datetime as dt"
   ]
  },
  {
   "cell_type": "code",
   "execution_count": 119,
   "id": "c5c1b592-3b67-49ac-8a1d-901a71bd0ccf",
   "metadata": {},
   "outputs": [
    {
     "data": {
      "text/plain": [
       "datetime.datetime(2020, 1, 31, 14, 30)"
      ]
     },
     "execution_count": 119,
     "metadata": {},
     "output_type": "execute_result"
    }
   ],
   "source": [
    "# 调用timestamp以创建datetime对象\n",
    "timestamp = dt.datetime(2020, 1, 31, 14, 30)\n",
    "timestamp"
   ]
  },
  {
   "cell_type": "code",
   "execution_count": 120,
   "id": "46cf42ef-99b9-49b2-89c6-cfeb7b81d075",
   "metadata": {},
   "outputs": [
    {
     "data": {
      "text/plain": [
       "31"
      ]
     },
     "execution_count": 120,
     "metadata": {},
     "output_type": "execute_result"
    }
   ],
   "source": [
    "# datetime对象提供了多种属性，比如 ，想要知道它是几号\n",
    "timestamp.day"
   ]
  },
  {
   "cell_type": "code",
   "execution_count": 121,
   "id": "23efa064-62bd-41bc-bb39-79f42fb22049",
   "metadata": {},
   "outputs": [
    {
     "data": {
      "text/plain": [
       "datetime.timedelta(days=17, seconds=9000)"
      ]
     },
     "execution_count": 121,
     "metadata": {},
     "output_type": "execute_result"
    }
   ],
   "source": [
    "# 两个datetime对象求差会返回一个timedelta对象\n",
    "timestamp - dt.datetime(2020, 1, 14, 12,0)"
   ]
  },
  {
   "cell_type": "code",
   "execution_count": 122,
   "id": "a159186f-845c-4776-ab84-75ee31b193cf",
   "metadata": {},
   "outputs": [
    {
     "data": {
      "text/plain": [
       "datetime.datetime(2020, 2, 1, 18, 41)"
      ]
     },
     "execution_count": 122,
     "metadata": {},
     "output_type": "execute_result"
    }
   ],
   "source": [
    "# 也可以对datetime进行同样的操作\n",
    "timestamp + dt.timedelta(days=1, hours=4, minutes=11)"
   ]
  },
  {
   "cell_type": "code",
   "execution_count": 123,
   "id": "2d399864-b258-45d1-85ee-3d60280a2b17",
   "metadata": {},
   "outputs": [
    {
     "data": {
      "text/plain": [
       "'31/01/2020 14:30'"
      ]
     },
     "execution_count": 123,
     "metadata": {},
     "output_type": "execute_result"
    }
   ],
   "source": [
    "# 以特定方式格式化datetime对象\n",
    "# 也可以使用f字符串：f\"{timestamp:%d/%m/%Y %H:%M}\"\n",
    "timestamp.strftime(\"%d/%m/%Y %H:%M\")"
   ]
  },
  {
   "cell_type": "code",
   "execution_count": 124,
   "id": "e1a134e3-fdea-4415-989d-2fa07c5e2ba6",
   "metadata": {},
   "outputs": [
    {
     "data": {
      "text/plain": [
       "datetime.datetime(2020, 1, 12, 0, 0)"
      ]
     },
     "execution_count": 124,
     "metadata": {},
     "output_type": "execute_result"
    }
   ],
   "source": [
    "# 将字符串解析为detetime对象\n",
    "dt.datetime.strptime(\"12.1.2020\", \"%d.%m.%Y\")"
   ]
  }
 ],
 "metadata": {
  "kernelspec": {
   "display_name": "Python 3 (ipykernel)",
   "language": "python",
   "name": "python3"
  },
  "language_info": {
   "codemirror_mode": {
    "name": "ipython",
    "version": 3
   },
   "file_extension": ".py",
   "mimetype": "text/x-python",
   "name": "python",
   "nbconvert_exporter": "python",
   "pygments_lexer": "ipython3",
   "version": "3.8.20"
  }
 },
 "nbformat": 4,
 "nbformat_minor": 5
}
