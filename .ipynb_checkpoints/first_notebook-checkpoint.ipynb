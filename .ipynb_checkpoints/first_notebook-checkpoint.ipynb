{
 "cells": [
  {
   "cell_type": "code",
   "execution_count": 1,
   "id": "a1a458df-dc7c-4795-8a12-2a4c2345f2b1",
   "metadata": {},
   "outputs": [
    {
     "data": {
      "text/plain": [
       "7"
      ]
     },
     "execution_count": 1,
     "metadata": {},
     "output_type": "execute_result"
    }
   ],
   "source": [
    "3 + 4"
   ]
  },
  {
   "cell_type": "code",
   "execution_count": 2,
   "id": "b17c287c-f726-4cd2-a9a1-9819503b1714",
   "metadata": {},
   "outputs": [
    {
     "data": {
      "text/plain": [
       "'python python python '"
      ]
     },
     "execution_count": 2,
     "metadata": {},
     "output_type": "execute_result"
    }
   ],
   "source": [
    "\"python \" * 3"
   ]
  },
  {
   "cell_type": "markdown",
   "id": "152164b9-011a-4974-925d-42859d07c302",
   "metadata": {},
   "source": [
    "# 这是一级标题\n",
    "## 这是二级标题\n",
    "* 这是项目符号\n",
    "* 又是一个项目符号"
   ]
  },
  {
   "cell_type": "code",
   "execution_count": 5,
   "id": "f4e514ad-6f96-496c-b8fa-a96a791299d6",
   "metadata": {},
   "outputs": [],
   "source": [
    "a=1"
   ]
  },
  {
   "cell_type": "code",
   "execution_count": 6,
   "id": "2152c780-0731-4333-bb56-fcdd201ac9d3",
   "metadata": {},
   "outputs": [
    {
     "data": {
      "text/plain": [
       "1"
      ]
     },
     "execution_count": 6,
     "metadata": {},
     "output_type": "execute_result"
    }
   ],
   "source": [
    "a"
   ]
  },
  {
   "cell_type": "code",
   "execution_count": 12,
   "id": "5a390753-7b48-4d04-9500-4bdd959d92d3",
   "metadata": {
    "jp-MarkdownHeadingCollapsed": true
   },
   "outputs": [],
   "source": [
    "a=2"
   ]
  },
  {
   "cell_type": "code",
   "execution_count": 8,
   "id": "2ccc728f-3e5b-4b8c-86b1-4e566d0285a7",
   "metadata": {},
   "outputs": [
    {
     "data": {
      "text/plain": [
       "2"
      ]
     },
     "execution_count": 8,
     "metadata": {},
     "output_type": "execute_result"
    }
   ],
   "source": [
    "a"
   ]
  },
  {
   "cell_type": "code",
   "execution_count": 11,
   "id": "e4737f49-272a-4b5f-9361-2d43a7e06547",
   "metadata": {},
   "outputs": [],
   "source": [
    "a=2"
   ]
  },
  {
   "cell_type": "code",
   "execution_count": null,
   "id": "8e9c3be2-a16b-45e6-9b5d-fa523050bcf6",
   "metadata": {},
   "outputs": [],
   "source": []
  },
  {
   "cell_type": "code",
   "execution_count": null,
   "id": "85806e33-3b5d-459c-9b14-4fb38dd28e6b",
   "metadata": {},
   "outputs": [],
   "source": []
  }
 ],
 "metadata": {
  "kernelspec": {
   "display_name": "Python 3 (ipykernel)",
   "language": "python",
   "name": "python3"
  },
  "language_info": {
   "codemirror_mode": {
    "name": "ipython",
    "version": 3
   },
   "file_extension": ".py",
   "mimetype": "text/x-python",
   "name": "python",
   "nbconvert_exporter": "python",
   "pygments_lexer": "ipython3",
   "version": "3.8.20"
  }
 },
 "nbformat": 4,
 "nbformat_minor": 5
}
