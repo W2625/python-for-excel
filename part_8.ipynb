{
 "cells": [
  {
   "cell_type": "markdown",
   "id": "3bd7f102",
   "metadata": {},
   "source": [
    "# 8.1 读写包"
   ]
  },
  {
   "cell_type": "markdown",
   "id": "e161345f",
   "metadata": {},
   "source": [
    "<ul>\n",
    "    <li>OpenPyXL</li>\n",
    "    <li>XlsxWriter</li>\n",
    "    <li>pyxlsx</li>\n",
    "    <li>xlrd</li>\n",
    "    <li>xlwt</li>\n",
    "    <li>xlutils</li>\n",
    "</ul>"
   ]
  },
  {
   "cell_type": "markdown",
   "id": "61948bf6",
   "metadata": {},
   "source": [
    "<table align=\"left\" width=\"500px\" height=\"300px\">\n",
    "    <tr>\n",
    "        <th>Excel文件格式</th>\n",
    "        <th>读</th>\n",
    "        <th>写</th>\n",
    "        <th>编辑</th>\n",
    "    </tr>\n",
    "    <tr>\n",
    "        <td>xlsx</td>\n",
    "        <td>OpenPyXL</td>\n",
    "        <td>OpenPyXL,XlsaWriter</td>\n",
    "        <td>OpenPyXL</td>\n",
    "    </tr>\n",
    "    <tr>\n",
    "        <td>xlsm</td>\n",
    "        <td>OpenPyXL</td>\n",
    "        <td>OpenPyXL,XlsaWriter</td>\n",
    "        <td>OpenPyXL</td>\n",
    "    </tr>\n",
    "    <tr>\n",
    "        <td>xltx，xltm</td>\n",
    "        <td>OpenPyXL</td>\n",
    "        <td>OpenPyXL</td>\n",
    "        <td>OpenPyXL</td>\n",
    "    </tr>\n",
    "    <tr>\n",
    "        <td>xlsb</td>\n",
    "        <td>pyxlsb</td>\n",
    "        <td></td>\n",
    "        <td></td>\n",
    "    </tr>\n",
    "    <tr>\n",
    "        <td>xls，xlt</td>\n",
    "        <td>xlrd</td>\n",
    "        <td>xlwt</td>\n",
    "        <td>xlutils</td>\n",
    "    </tr>\n",
    "</table>"
   ]
  },
  {
   "cell_type": "markdown",
   "id": "0fc2099d",
   "metadata": {},
   "source": [
    "# OpenPyXL 【用于xlsx文件】\n",
    "【单元格索引从1开始】"
   ]
  },
  {
   "cell_type": "markdown",
   "id": "1fdba17b",
   "metadata": {},
   "source": [
    "1. 使用OpenPyXL读取文件"
   ]
  },
  {
   "cell_type": "code",
   "execution_count": 1,
   "id": "ab70a8f0",
   "metadata": {},
   "outputs": [],
   "source": [
    "import pandas as pd\n",
    "import openpyxl\n",
    "import excel\n",
    "import datetime as dt"
   ]
  },
  {
   "cell_type": "code",
   "execution_count": 2,
   "id": "608f8239",
   "metadata": {},
   "outputs": [],
   "source": [
    "# 打开工作簿来读取单元格的值【使用data_only=True参数打开工作簿，默认值是False】\n",
    "# 在加载数据之后文件会自动关闭\n",
    "book = openpyxl.load_workbook(\"xl/stores.xlsx\", data_only=True)"
   ]
  },
  {
   "cell_type": "code",
   "execution_count": 3,
   "id": "04209522",
   "metadata": {},
   "outputs": [],
   "source": [
    "# 通过名称或索引（从0开始）获取工作表对象\n",
    "sheet = book[\"2019\"]\n",
    "sheet = book.worksheets[0]"
   ]
  },
  {
   "cell_type": "code",
   "execution_count": 4,
   "id": "b9fe5cfb",
   "metadata": {},
   "outputs": [
    {
     "data": {
      "text/plain": [
       "['2019', '2020', '2019-2020']"
      ]
     },
     "execution_count": 4,
     "metadata": {},
     "output_type": "execute_result"
    }
   ],
   "source": [
    "# 获取所有工作表名称的列表\n",
    "book.sheetnames"
   ]
  },
  {
   "cell_type": "code",
   "execution_count": 5,
   "id": "1d3c864e",
   "metadata": {},
   "outputs": [
    {
     "name": "stdout",
     "output_type": "stream",
     "text": [
      "2019\n",
      "2020\n",
      "2019-2020\n"
     ]
    }
   ],
   "source": [
    "# 遍历所有工作表对象\n",
    "# openpyxl使用的是title而不是name\n",
    "for i in book.worksheets:\n",
    "    print(i.title)"
   ]
  },
  {
   "cell_type": "code",
   "execution_count": 6,
   "id": "eb352d55",
   "metadata": {},
   "outputs": [
    {
     "data": {
      "text/plain": [
       "(8, 6)"
      ]
     },
     "execution_count": 6,
     "metadata": {},
     "output_type": "execute_result"
    }
   ],
   "source": [
    "# 获取维度，以工作表所选区域为例\n",
    "sheet.max_row, sheet.max_column"
   ]
  },
  {
   "cell_type": "code",
   "execution_count": 7,
   "id": "c3358cfc",
   "metadata": {},
   "outputs": [
    {
     "data": {
      "text/plain": [
       "'Boston'"
      ]
     },
     "execution_count": 7,
     "metadata": {},
     "output_type": "execute_result"
    }
   ],
   "source": [
    "# 读取单个单元格的值，分别使用的是A1这种表示法，以及单元格索引（从1开始）\n",
    "sheet[\"B6\"].value\n",
    "sheet.cell(row=6, column=2).value"
   ]
  },
  {
   "cell_type": "code",
   "execution_count": 8,
   "id": "fd525cd5",
   "metadata": {},
   "outputs": [
    {
     "data": {
      "text/plain": [
       "[['Store', 'Employees', 'Manager', 'Since', 'Flagship'],\n",
       " ['New York', 10, 'Sarah', datetime.datetime(2018, 7, 20, 0, 0), False]]"
      ]
     },
     "execution_count": 8,
     "metadata": {},
     "output_type": "execute_result"
    }
   ],
   "source": [
    "# 使用excel模块来读取一个单元格区域的值\n",
    "data = excel.read(book[\"2019\"], (2, 2), (8, 6))\n",
    "# 打印前两行\n",
    "data[:2]"
   ]
  },
  {
   "cell_type": "markdown",
   "id": "964ea286",
   "metadata": {},
   "source": [
    "2. 使用OpenPyXL写入文件"
   ]
  },
  {
   "cell_type": "code",
   "execution_count": 9,
   "id": "60a30562",
   "metadata": {},
   "outputs": [],
   "source": [
    "import openpyxl\n",
    "from openpyxl.drawing.image import Image\n",
    "from openpyxl.chart import BarChart, Reference\n",
    "from openpyxl.styles import Font, colors\n",
    "from openpyxl.styles.borders import Border, Side\n",
    "from openpyxl.styles.alignment import Alignment\n",
    "from openpyxl.styles.fills import PatternFill\n",
    "import excel"
   ]
  },
  {
   "cell_type": "code",
   "execution_count": 10,
   "id": "3c3dcbcd",
   "metadata": {},
   "outputs": [],
   "source": [
    "# 实例化工作簿\n",
    "book = openpyxl.Workbook()\n",
    "\n",
    "# 获取第一张工作表并赋予它一个名称\n",
    "sheet = book.active\n",
    "sheet.title = \"Sheet1\"\n",
    "\n",
    "# 使用A1表示法和单元格索引（从1开始）写入各个单元格\n",
    "sheet[\"A1\"].value = \"Hello 1\"\n",
    "sheet.cell(row=2, column=1, value=\"Hello 2\")\n",
    "\n",
    "# 格式化：填充颜色、对齐、边框和字体\n",
    "font_format = Font(color=\"FF0000\", bold=True)\n",
    "thin = Side(border_style=\"thin\", color=\"FF0000\")\n",
    "sheet[\"A3\"].value = \"Hello 3\"\n",
    "sheet[\"A3\"].font = font_format\n",
    "sheet[\"A3\"].border = Border(top=thin, left=thin, \n",
    "                            right=thin, bottom=thin)\n",
    "sheet[\"A3\"].alignment = Alignment(horizontal=\"center\")\n",
    "sheet[\"A3\"].fill = PatternFill(fgColor=\"FFFF00\", fill_type=\"solid\")\n",
    "\n",
    "# 数字格式化（使用Excel的格式化字符串）\n",
    "sheet[\"A4\"].value = 3.3333\n",
    "sheet[\"A4\"].number_format = \"0.00\"\n",
    "\n",
    "# 日期格式化（使用Excel的格式化字符串）\n",
    "sheet[\"A5\"].value = dt.date(2016, 10, 13)\n",
    "sheet[\"A5\"].number_format = \"mm/dd/yy\"\n",
    "\n",
    "# 公式：必须使用以逗号分隔的英文公式名称\n",
    "sheet[\"A6\"].value = \"=SUM(A4, 2)\"\n",
    "\n",
    "# 图片\n",
    "sheet.add_image(Image(\"images/python.png\"), \"C1\")\n",
    "\n",
    "# 二维列表（使用Excel模块）\n",
    "data = [[None, \"North\", \"South\"], \n",
    "        [\"Last Year\", 2, 5], \n",
    "        [\"This Year\", 3, 6]]\n",
    "excel.write(sheet, data, \"A10\")\n",
    "\n",
    "# 图表\n",
    "chart = BarChart()\n",
    "chart.type = \"col\"\n",
    "chart.title = \"Sales Per Region\"\n",
    "chart.x_axis.title = \"Regions\"\n",
    "chart.y_axis.title = \"Sales\"\n",
    "chart_data = Reference(sheet, min_row=11, min_col=1, max_row=12, max_col=3)\n",
    "chart_categories = Reference(sheet, min_row=10, min_col=2, max_row=10, max_col=3)\n",
    "# from_rows就像你手动在Excel中\n",
    "# 添加图表那样解释数据\n",
    "chart.add_data(chart_data, titles_from_data=True, from_rows=True)\n",
    "chart.set_categories(chart_categories)\n",
    "sheet.add_chart(chart, \"A15\")\n",
    "\n",
    "# 保存工作簿会在磁盘上创建文件\n",
    "book.save(\"xl/openpyxl.xlsx\")"
   ]
  },
  {
   "cell_type": "markdown",
   "id": "346a7c81",
   "metadata": {},
   "source": [
    "若想写入为Excel模版文件，则需要再保存前设置template属性为True"
   ]
  },
  {
   "cell_type": "code",
   "execution_count": 11,
   "id": "a2720fc0",
   "metadata": {},
   "outputs": [],
   "source": [
    "book = openpyxl.Workbook()\n",
    "sheet = book.active\n",
    "sheet[\"A1\"].value = \"This is a template\"\n",
    "book.template = True\n",
    "book.save(\"xl/template.xltx\")"
   ]
  },
  {
   "cell_type": "markdown",
   "id": "f7386660",
   "metadata": {},
   "source": [
    "3. 使用OpenPyXL编辑文件"
   ]
  },
  {
   "cell_type": "code",
   "execution_count": 12,
   "id": "5ef24755",
   "metadata": {},
   "outputs": [],
   "source": [
    "# 读取stores.xlsx文件，修改一个单元格，并将其以新的名称保存到新的位置\n",
    "book = openpyxl.load_workbook(\"xl/stores.xlsx\")\n",
    "book[\"2019\"][\"A1\"].value = \"modified\"\n",
    "book.save(\"xl/stores_edited.xlsx\")"
   ]
  },
  {
   "cell_type": "markdown",
   "id": "e47ef644",
   "metadata": {},
   "source": [
    "若想写入为xlsm文件，那么OpenPyXL就必须处理一个已经存在的文件，并且在加载时需要将keep_vba参数设置为True"
   ]
  },
  {
   "cell_type": "code",
   "execution_count": 13,
   "id": "236d0b86",
   "metadata": {},
   "outputs": [],
   "source": [
    "book = openpyxl.load_workbook(\"xl/macro.xlsm\", keep_vba=True)\n",
    "book[\"Sheet1\"][\"A1\"].value = \"Click the buttom!\"\n",
    "book.save(\"xl/macro_openpyxl.xlsm\")"
   ]
  },
  {
   "cell_type": "markdown",
   "id": "21ab3047",
   "metadata": {},
   "source": [
    "# XlsxWriter\n",
    "【单元格索引从0开始】"
   ]
  },
  {
   "cell_type": "code",
   "execution_count": 14,
   "id": "0326981e",
   "metadata": {},
   "outputs": [],
   "source": [
    "import datetime as dt\n",
    "import xlsxwriter\n",
    "import excel"
   ]
  },
  {
   "cell_type": "code",
   "execution_count": 15,
   "id": "e0bea570",
   "metadata": {},
   "outputs": [],
   "source": [
    "# 实例化工作簿\n",
    "book = xlsxwriter.Workbook(\"xl/xlsxwriter.xlsx\")\n",
    "\n",
    "# 添加工作表并为其命名\n",
    "sheet = book.add_worksheet(\"Sheet1\")\n",
    "\n",
    "# 使用A1表示法和单元格索引（从0开始）写入各个单元格\n",
    "sheet.write(\"A1\", \"Hello 1\")\n",
    "sheet.write(1, 0, \"Hello 2\")\n",
    "\n",
    "# 格式化：填充颜色、对齐、边框和字体\n",
    "formatting = book.add_format({\"font_color\": \"#FF0000\", \n",
    "                              \"bg_color\": \"#FFFF00\", \n",
    "                              \"bold\": True, \"align\": \"center\", \n",
    "                              \"border\": 1, \"border_color\": \"#FF0000\"})\n",
    "sheet.write(\"A3\",  \"Hello 3\", formatting)\n",
    "\n",
    "# 数字格式化（使用Excel的格式化字符串）\n",
    "number_format = book.add_format({\"num_format\": \"0.00\"})\n",
    "sheet.write(\"A4\", 3.3333, number_format)\n",
    "\n",
    "# 日期格式化（使用Excel的格式化字符串）\n",
    "date_format = book.add_format({\"num_format\": \"mm/dd/yy\"})\n",
    "sheet.write(\"A5\", dt.date(2016, 10, 13), date_format)\n",
    "\n",
    "# 公式\n",
    "sheet.write(\"A6\", \"=SUM(A4, 2)\")\n",
    "\n",
    "# 图片\n",
    "sheet.insert_image(0, 2, \"images/python.png\")\n",
    "\n",
    "# 二维列表（使用excel模块）\n",
    "data = [[None, \"North\", \"South\"], \n",
    "        [\"Last Year\", 2, 5], \n",
    "        [\"This Year\", 3, 6]]\n",
    "excel.write(sheet, data, \"A10\")\n",
    "\n",
    "# 图表【使用索引而不是单元格地址】\n",
    "chart = book.add_chart({\"type\": \"column\"})\n",
    "chart.set_title({\"name\": \"Sales per Region\"})\n",
    "chart.add_series({\"name\": \"=Sheet1!A11\", \n",
    "                  \"categories\": \"=Sheet1!B10:C10\", \n",
    "                  \"values\": \"=Sheet1!B11:C11\"})\n",
    "chart.add_series({\"name\": \"=Sheet1!A12\", \n",
    "                  \"categories\": \"Sheet1!B10:C10\", \n",
    "                  \"values\": \"Sheet1!B12:C12\"})\n",
    "chart.set_x_axis({\"name\": \"Regions\"})\n",
    "chart.set_y_axis({\"name\": \"Sales\"})\n",
    "sheet.insert_chart(\"A15\", chart)\n",
    "\n",
    "# 关闭工作簿并在磁盘上创建文件\n",
    "book.close()"
   ]
  },
  {
   "cell_type": "code",
   "execution_count": 16,
   "id": "7e13c164",
   "metadata": {},
   "outputs": [],
   "source": [
    "book = xlsxwriter.Workbook(\"xl/macro_xlsxwriter.xlsm\")\n",
    "sheet = book.add_worksheet(\"Sheet1\")\n",
    "sheet.write(\"A1\", \"Click the button！\")\n",
    "book.add_vba_project(\"xl/vbaProject.bin\")\n",
    "sheet.insert_button(\"A3\", {\"macro\": \"Hello\", \n",
    "                           \"caption\": \"Button 1\", \n",
    "                           \"width\":130, \"height\": 35})\n",
    "book.close()"
   ]
  },
  {
   "cell_type": "markdown",
   "id": "a49f878e",
   "metadata": {},
   "source": [
    "# pyxlsb\n",
    "【单元格索引从1开始】"
   ]
  },
  {
   "cell_type": "code",
   "execution_count": 17,
   "id": "04c743b1",
   "metadata": {},
   "outputs": [],
   "source": [
    "import pyxlsb\n",
    "import excel"
   ]
  },
  {
   "cell_type": "markdown",
   "id": "284e6167",
   "metadata": {},
   "source": [
    "在pyxlsb中，工作簿和sheet对象都可以被用作上下文管理器。<br>\n",
    "book.sheets返回的是工作表名称对象，而不是对象！<br>\n",
    "要获取工作表对象，需要使用get_sheet()"
   ]
  },
  {
   "cell_type": "code",
   "execution_count": 18,
   "id": "021e68cd",
   "metadata": {},
   "outputs": [
    {
     "name": "stdout",
     "output_type": "stream",
     "text": [
      "Sheet '2019' has 7 rows and 5 cols\n",
      "Sheet '2020' has 7 rows and 5 cols\n",
      "Sheet '2019-2020' has 20 rows and 5 cols\n"
     ]
    }
   ],
   "source": [
    "# 遍历工作表\n",
    "# sheet.dimension：获取工作表的维度——包括：dim.h: 工作表的总行数。dim.w: 工作表的总列数。\n",
    "with pyxlsb.open_workbook(\"xl/stores.xlsb\") as book:\n",
    "    for sheet_name in book.sheets:\n",
    "        with book.get_sheet(sheet_name) as sheet:\n",
    "            dim = sheet.dimension\n",
    "            print(f\"Sheet '{sheet_name}' has \" \n",
    "                  f\"{dim.h} rows and {dim.w} cols\")"
   ]
  },
  {
   "cell_type": "code",
   "execution_count": 19,
   "id": "e5f1716f",
   "metadata": {},
   "outputs": [
    {
     "data": {
      "text/plain": [
       "[['Store', 'Employees', 'Manager', 'Since', 'Flagship'],\n",
       " ['New York', 10.0, 'Sarah', 43301.0, False]]"
      ]
     },
     "execution_count": 19,
     "metadata": {},
     "output_type": "execute_result"
    }
   ],
   "source": [
    "# 利用excel模块读取一个区间中单元格的值，除了\"2019\"，也可以使用它的索引（从1开始）\n",
    "with pyxlsb.open_workbook(\"xl/stores.xlsb\") as book:\n",
    "    with book.get_sheet(\"2019\") as sheet:\n",
    "        # 使用 excel 模块（自定义模块）从指定单元格（\"B2\"）开始读取数据\n",
    "        data = excel.read(sheet, \"B2\")\n",
    "# 打印前两行\n",
    "data[:2]"
   ]
  },
  {
   "cell_type": "markdown",
   "id": "c4c71940",
   "metadata": {},
   "source": [
    "pyxlsb目前无法识别包含日期的单元格，所以必须手动将以日期为格式的单元格中的值转换为datetime对象"
   ]
  },
  {
   "cell_type": "code",
   "execution_count": 20,
   "id": "d4ff4cfb",
   "metadata": {},
   "outputs": [
    {
     "data": {
      "text/plain": [
       "datetime.datetime(2018, 7, 20, 0, 0)"
      ]
     },
     "execution_count": 20,
     "metadata": {},
     "output_type": "execute_result"
    }
   ],
   "source": [
    "from pyxlsb import convert_date\n",
    "convert_date(data[1][3])"
   ]
  },
  {
   "cell_type": "markdown",
   "id": "d6a1cba4",
   "metadata": {},
   "source": [
    "当使用版本低于1.3的pandas读取xlsb格式的文件时，需要显式地指定引擎"
   ]
  },
  {
   "cell_type": "code",
   "execution_count": 21,
   "id": "9c1f6066",
   "metadata": {},
   "outputs": [],
   "source": [
    "df = pd.read_excel(\"xl/stores.xlsb\", engine=\"pyxlsb\")"
   ]
  },
  {
   "cell_type": "markdown",
   "id": "4fb17f79",
   "metadata": {},
   "source": [
    "# xlrd、xlwt和xlutils 【用于xls文件】\n",
    "【单元格索引从0开始】"
   ]
  },
  {
   "cell_type": "markdown",
   "id": "82502d61",
   "metadata": {},
   "source": [
    "1. 使用xlrd读取文件"
   ]
  },
  {
   "cell_type": "code",
   "execution_count": 22,
   "id": "8ac35ef9",
   "metadata": {},
   "outputs": [],
   "source": [
    "import xlrd\n",
    "import xlwt\n",
    "from xlwt.Utils import cell_to_rowcol2\n",
    "import xlutils\n",
    "import excel"
   ]
  },
  {
   "cell_type": "code",
   "execution_count": 23,
   "id": "4fa17e98",
   "metadata": {},
   "outputs": [],
   "source": [
    "# 打开工作簿来读取单元格的值，在加载数据后文件会自动关闭\n",
    "book = xlrd.open_workbook(\"xl/stores.xls\")"
   ]
  },
  {
   "cell_type": "code",
   "execution_count": 24,
   "id": "c1abb8ce",
   "metadata": {},
   "outputs": [
    {
     "data": {
      "text/plain": [
       "['2019', '2020', '2019-2020']"
      ]
     },
     "execution_count": 24,
     "metadata": {},
     "output_type": "execute_result"
    }
   ],
   "source": [
    "# 获取所有工作表单的名称\n",
    "book.sheet_names()"
   ]
  },
  {
   "cell_type": "code",
   "execution_count": 25,
   "id": "ef9d28fc",
   "metadata": {},
   "outputs": [
    {
     "name": "stdout",
     "output_type": "stream",
     "text": [
      "2019\n",
      "2020\n",
      "2019-2020\n"
     ]
    }
   ],
   "source": [
    "# 遍历所有工作表对象\n",
    "for sheet in book.sheets():\n",
    "    print(sheet.name)"
   ]
  },
  {
   "cell_type": "code",
   "execution_count": 26,
   "id": "7a1f527b",
   "metadata": {},
   "outputs": [],
   "source": [
    "# 通过名称或索引（从0开始）获取工作表对象\n",
    "sheet = book.sheet_by_index(0)\n",
    "sheet = book.sheet_by_name(\"2019\")"
   ]
  },
  {
   "cell_type": "code",
   "execution_count": 27,
   "id": "ff32b7a3",
   "metadata": {},
   "outputs": [
    {
     "data": {
      "text/plain": [
       "(8, 6)"
      ]
     },
     "execution_count": 27,
     "metadata": {},
     "output_type": "execute_result"
    }
   ],
   "source": [
    "# 维度（总行总列）\n",
    "sheet.nrows, sheet.ncols"
   ]
  },
  {
   "cell_type": "markdown",
   "id": "3aa90239",
   "metadata": {},
   "source": [
    "*会解包cell_to_rowcol2返回的元组以生成各个参数<br>\n",
    "cell_to_rowcol2(\"B3\")：用于将 Excel 风格的单元格地址（如 \"B3\") 转换为行号和列号的元组 (row, col)；即\"B3\" 会被转换为 (2, 1)。<br>\n",
    "*cell_to_rowcol2(\"B3\"):用于将元组 (2, 1) 解包为两个独立的参数 2 和 1。"
   ]
  },
  {
   "cell_type": "code",
   "execution_count": 28,
   "id": "d4876ca2",
   "metadata": {},
   "outputs": [
    {
     "data": {
      "text/plain": [
       "'New York'"
      ]
     },
     "execution_count": 28,
     "metadata": {},
     "output_type": "execute_result"
    }
   ],
   "source": [
    "# 使用A1表示法或者单元格索引（从0开始）读取各个单元格的值\n",
    "sheet.cell(*cell_to_rowcol2(\"B3\")).value\n",
    "sheet.cell(2, 1).value"
   ]
  },
  {
   "cell_type": "code",
   "execution_count": 29,
   "id": "e86836a2",
   "metadata": {},
   "outputs": [
    {
     "data": {
      "text/plain": [
       "[['Store', 'Employees', 'Manager', 'Since', 'Flagship'],\n",
       " ['New York', 10.0, 'Sarah', datetime.datetime(2018, 7, 20, 0, 0), False]]"
      ]
     },
     "execution_count": 29,
     "metadata": {},
     "output_type": "execute_result"
    }
   ],
   "source": [
    "# 使用excel模块读取一个区间中单元格的值\n",
    "data = excel.read(sheet, \"B2\")\n",
    "# 打印前两行\n",
    "data[:2]"
   ]
  },
  {
   "cell_type": "markdown",
   "id": "305d4962",
   "metadata": {},
   "source": [
    "2. 使用xlwt写入文件【不能生成图表，只支持bmp格式的图片】"
   ]
  },
  {
   "cell_type": "code",
   "execution_count": 30,
   "id": "7db1b1ee",
   "metadata": {},
   "outputs": [],
   "source": [
    "import xlwt\n",
    "from xlwt.Utils import cell_to_rowcol2\n",
    "import datetime as dt\n",
    "import excel"
   ]
  },
  {
   "cell_type": "markdown",
   "id": "833a9ad5",
   "metadata": {},
   "source": [
    "在 xlwt 中，sheet.write()方法用于向工作表的特定单元格写入数据。这个方法通常需要三个参数：行号 (r)、列号 (c)、以及要写入的数据 (label)"
   ]
  },
  {
   "cell_type": "code",
   "execution_count": 31,
   "id": "d14e41ce",
   "metadata": {},
   "outputs": [],
   "source": [
    "# 实例化工作簿\n",
    "book = xlwt.Workbook()\n",
    "\n",
    "# 添加工作表并为其命名\n",
    "sheet = book.add_sheet(\"Sheet1\")\n",
    "\n",
    "# 使用A1表示法和单元格索引（从0开始写入各个单元格）\n",
    "sheet.write(*cell_to_rowcol2(\"A1\"), \"Hello 1\")\n",
    "sheet.write(r=1, c=0, label=\"Hello 2\")\n",
    "\n",
    "# 格式化：填充颜色、对齐、边框和字体\n",
    "formatting =xlwt.easyxf(\"font: bold on, color red;\"\n",
    "                        \"align: horiz center;\"\n",
    "                        \"borders: top_color red, bottom_color red,\"\n",
    "                                \"right_color red, left_color red,\"\n",
    "                                \"left thin, right thin,\"\n",
    "                                \"top thin, bottom thin;\"\n",
    "                        \"pattern: pattern solid, fore_color yellow;\")\n",
    "sheet.write(r=2, c=0, label=\"Hello 3\", style=formatting)\n",
    "\n",
    "# 数字格式化（使用Excel的格式化字符串）\n",
    "number_format = xlwt.easyxf(num_format_str=\"0.00\")\n",
    "sheet.write(3, 0, 3.3333, number_format)\n",
    "\n",
    "# 日期格式化（使用Excel的格式化字符串）\n",
    "date_format = xlwt.easyxf(num_format_str=\"mm/dd/yyyy\")\n",
    "sheet.write(4, 0, dt.datetime(2012, 2, 3), date_format)\n",
    "\n",
    "# 公式：必须使用以逗号分隔的公式的英文名称\n",
    "sheet.write(5, 0, xlwt.Formula(\"SUM(A4, 2)\"))\n",
    "\n",
    "# 二维列表（使用excel模块）\n",
    "data = [[None, \"North\", \"South\"], \n",
    "        [\"Last Year\", 2, 5], \n",
    "        [\"This Year\", 3, 6]]\n",
    "excel.write(sheet, data, \"A10\")\n",
    "\n",
    "# 图片（只支持添加bmp格式的图片）\n",
    "sheet.insert_bitmap(\"images/python.bmp\", 0, 2)\n",
    "\n",
    "# 将文件写入磁盘\n",
    "book.save(\"xl/xlwt.xls\")"
   ]
  },
  {
   "cell_type": "markdown",
   "id": "bc4bd3c1",
   "metadata": {},
   "source": [
    "3. 使用xlutils编辑文件"
   ]
  },
  {
   "cell_type": "markdown",
   "id": "db3fae26",
   "metadata": {},
   "source": [
    "xlutils可以作为xlrd和xlwt之间的桥梁。<br>\n",
    "这也表明了实际上这并不是真正的编辑操作：<br>\n",
    "&nbsp;&nbsp;&nbsp;&nbsp;工作表通过xlrd读取包含格式在内的文件内容（将formatting_info的参数设置为True），然后再通过xlwt将期间作出的更改写入文件"
   ]
  },
  {
   "cell_type": "code",
   "execution_count": 32,
   "id": "02ace1e0",
   "metadata": {},
   "outputs": [],
   "source": [
    "import xlutils.copy"
   ]
  },
  {
   "cell_type": "markdown",
   "id": "1cf9cde2",
   "metadata": {},
   "source": [
    "formatting_info参数是一个可选参数，它用于指示在打开Excel文件时是否加载格式信息。<br>\n",
    "&nbsp;&nbsp;&nbsp;&nbsp;当formatting_info=True时，xlrd会尝试读取并加载Excel文件中的格式信息，如字体、颜色、边框、对齐方式等。这可能会增加内存消耗，因为需要存储更多的格式数据。<br>\n",
    "&nbsp;&nbsp;&nbsp;&nbsp;当formatting_info=False时，xlrd不会加载格式信息，只读取数据内容。这通常可以节省内存，并且对于只需要数据而不需要格式的应用场景来说足够了。"
   ]
  },
  {
   "cell_type": "code",
   "execution_count": 33,
   "id": "a45536be",
   "metadata": {},
   "outputs": [],
   "source": [
    "book = xlrd.open_workbook(\"xl/stores.xls\", formatting_info=True)\n",
    "\"\"\"\n",
    "使用xlutils.copy模块的copy 函数复制由 xlrd 打开的工作簿。\n",
    "这一步是必要的，因为xlrd打开的工作簿是只读的，而 xlutils.copy 提供了一个可写的工作簿副本。\n",
    "\"\"\"\n",
    "book = xlutils.copy.copy(book)\n",
    "book.get_sheet(0).write(0, 0, \"changed!\")\n",
    "book.save(\"xl/stores_edited.xls\")"
   ]
  },
  {
   "cell_type": "markdown",
   "id": "70b550bf",
   "metadata": {},
   "source": [
    "# 8.2 读写包的高级主题"
   ]
  },
  {
   "cell_type": "markdown",
   "id": "1dfd8d77",
   "metadata": {},
   "source": [
    "### 8.2.1. 处理大型Excel文件"
   ]
  },
  {
   "cell_type": "markdown",
   "id": "029e0637",
   "metadata": {},
   "source": [
    "两个问题：<br>\n",
    "&nbsp;&nbsp;&nbsp;&nbsp;&nbsp;&nbsp;&nbsp;&nbsp;读写的过程慢<br>\n",
    "&nbsp;&nbsp;&nbsp;&nbsp;&nbsp;&nbsp;&nbsp;&nbsp;计算机内存不足"
   ]
  },
  {
   "cell_type": "markdown",
   "id": "89a02abf",
   "metadata": {},
   "source": [
    "##### 1. 使用OpenPyXL写入文件"
   ]
  },
  {
   "cell_type": "markdown",
   "id": "65b8ee11",
   "metadata": {},
   "source": [
    "write_only=True：可以让内存消耗保持在较低的水平<br>\n",
    "这个参数会通过append()方法强制逐行写入，并且不再允许写入单个单元格"
   ]
  },
  {
   "cell_type": "code",
   "execution_count": 34,
   "id": "45703fb7",
   "metadata": {},
   "outputs": [],
   "source": [
    "book = openpyxl.Workbook(write_only=True)\n",
    "# 设置write_only=True参数后book.active就不可用了\n",
    "sheet = book.create_sheet()\n",
    "# 生成一张包含1000*200个单元格的工作表\n",
    "for row in range(1000):\n",
    "    sheet.append(list(range(200)))\n",
    "book.save(\"xl/openpyxl_optimized.xlsx\")"
   ]
  },
  {
   "cell_type": "markdown",
   "id": "6bdf2956",
   "metadata": {},
   "source": [
    "##### 2. 使用XlsxWriter写入文件"
   ]
  },
  {
   "cell_type": "markdown",
   "id": "a1637676",
   "metadata": {},
   "source": [
    "XlsxWriter有一个和OpenPyXL类似的选项：constant_memory<br>\n",
    "constant_memory也会强制逐行写入<br>\n",
    "需要以字典的形式来传递options参数"
   ]
  },
  {
   "cell_type": "code",
   "execution_count": 35,
   "id": "2030b6e0",
   "metadata": {},
   "outputs": [],
   "source": [
    "book = xlsxwriter.Workbook(\"xl/xlsxwriter_optimized.xlsx\", \n",
    "                           options={\"constant_memory\": True})\n",
    "sheet = book.add_worksheet()\n",
    "# 生成一张包含1000*200个单元格的工作表\n",
    "for row in range(1000):\n",
    "    sheet.write_row(row, 0, list(range(200)))\n",
    "book.close()"
   ]
  },
  {
   "cell_type": "markdown",
   "id": "5743f9c8",
   "metadata": {},
   "source": [
    "##### 3. 使用xlrd读取文件"
   ]
  },
  {
   "cell_type": "markdown",
   "id": "f11df556",
   "metadata": {},
   "source": [
    "on_demand=True：按需加载工作表"
   ]
  },
  {
   "cell_type": "code",
   "execution_count": 36,
   "id": "04c370a0",
   "metadata": {},
   "outputs": [
    {
     "data": {
      "text/plain": [
       "'2019'"
      ]
     },
     "execution_count": 36,
     "metadata": {},
     "output_type": "execute_result"
    }
   ],
   "source": [
    "with xlrd.open_workbook(\"xl/stores.xls\", on_demand=True) as book:\n",
    "    # 只加载第一张工作表\n",
    "    sheet = book.sheet_by_index(0)\n",
    "sheet.name"
   ]
  },
  {
   "cell_type": "markdown",
   "id": "575e21bf",
   "metadata": {},
   "source": [
    "若不想将工作簿用作上下文管理器，则需手动调用book.release_resources()来正确关闭工作簿"
   ]
  },
  {
   "cell_type": "code",
   "execution_count": 37,
   "id": "08b840ff",
   "metadata": {},
   "outputs": [
    {
     "data": {
      "text/html": [
       "<div>\n",
       "<style scoped>\n",
       "    .dataframe tbody tr th:only-of-type {\n",
       "        vertical-align: middle;\n",
       "    }\n",
       "\n",
       "    .dataframe tbody tr th {\n",
       "        vertical-align: top;\n",
       "    }\n",
       "\n",
       "    .dataframe thead th {\n",
       "        text-align: right;\n",
       "    }\n",
       "</style>\n",
       "<table border=\"1\" class=\"dataframe\">\n",
       "  <thead>\n",
       "    <tr style=\"text-align: right;\">\n",
       "      <th></th>\n",
       "      <th>Unnamed: 0</th>\n",
       "      <th>Unnamed: 1</th>\n",
       "      <th>Unnamed: 2</th>\n",
       "      <th>Unnamed: 3</th>\n",
       "      <th>Unnamed: 4</th>\n",
       "      <th>Unnamed: 5</th>\n",
       "    </tr>\n",
       "  </thead>\n",
       "  <tbody>\n",
       "    <tr>\n",
       "      <th>0</th>\n",
       "      <td>NaN</td>\n",
       "      <td>Store</td>\n",
       "      <td>Employees</td>\n",
       "      <td>Manager</td>\n",
       "      <td>Since</td>\n",
       "      <td>Flagship</td>\n",
       "    </tr>\n",
       "    <tr>\n",
       "      <th>1</th>\n",
       "      <td>NaN</td>\n",
       "      <td>New York</td>\n",
       "      <td>10</td>\n",
       "      <td>Sarah</td>\n",
       "      <td>2018-07-20 00:00:00</td>\n",
       "      <td>False</td>\n",
       "    </tr>\n",
       "    <tr>\n",
       "      <th>2</th>\n",
       "      <td>NaN</td>\n",
       "      <td>San Francisco</td>\n",
       "      <td>12</td>\n",
       "      <td>Neriah</td>\n",
       "      <td>2019-11-02 00:00:00</td>\n",
       "      <td>MISSING</td>\n",
       "    </tr>\n",
       "    <tr>\n",
       "      <th>3</th>\n",
       "      <td>NaN</td>\n",
       "      <td>Chicago</td>\n",
       "      <td>4</td>\n",
       "      <td>Katelin</td>\n",
       "      <td>2020-01-31 00:00:00</td>\n",
       "      <td>NaN</td>\n",
       "    </tr>\n",
       "    <tr>\n",
       "      <th>4</th>\n",
       "      <td>NaN</td>\n",
       "      <td>Boston</td>\n",
       "      <td>5</td>\n",
       "      <td>Georgiana</td>\n",
       "      <td>2017-04-01 00:00:00</td>\n",
       "      <td>True</td>\n",
       "    </tr>\n",
       "    <tr>\n",
       "      <th>5</th>\n",
       "      <td>NaN</td>\n",
       "      <td>Washington DC</td>\n",
       "      <td>3</td>\n",
       "      <td>Evan</td>\n",
       "      <td>NaN</td>\n",
       "      <td>False</td>\n",
       "    </tr>\n",
       "    <tr>\n",
       "      <th>6</th>\n",
       "      <td>NaN</td>\n",
       "      <td>Las Vegas</td>\n",
       "      <td>11</td>\n",
       "      <td>Paul</td>\n",
       "      <td>2020-01-06 00:00:00</td>\n",
       "      <td>False</td>\n",
       "    </tr>\n",
       "  </tbody>\n",
       "</table>\n",
       "</div>"
      ],
      "text/plain": [
       "   Unnamed: 0     Unnamed: 1 Unnamed: 2 Unnamed: 3           Unnamed: 4  \\\n",
       "0         NaN          Store  Employees    Manager                Since   \n",
       "1         NaN       New York         10      Sarah  2018-07-20 00:00:00   \n",
       "2         NaN  San Francisco         12     Neriah  2019-11-02 00:00:00   \n",
       "3         NaN        Chicago          4    Katelin  2020-01-31 00:00:00   \n",
       "4         NaN         Boston          5  Georgiana  2017-04-01 00:00:00   \n",
       "5         NaN  Washington DC          3       Evan                  NaN   \n",
       "6         NaN      Las Vegas         11       Paul  2020-01-06 00:00:00   \n",
       "\n",
       "  Unnamed: 5  \n",
       "0   Flagship  \n",
       "1      False  \n",
       "2    MISSING  \n",
       "3        NaN  \n",
       "4       True  \n",
       "5      False  \n",
       "6      False  "
      ]
     },
     "execution_count": 37,
     "metadata": {},
     "output_type": "execute_result"
    }
   ],
   "source": [
    "# 搭配pandas在上下文管理器模式下使用xlrd\n",
    "with xlrd.open_workbook(\"xl/stores.xls\", on_demand=True) as book:\n",
    "    with pd.ExcelFile(book, engine=\"xlrd\") as f:\n",
    "        df = pd.read_excel(f, sheet_name=0)\n",
    "df"
   ]
  },
  {
   "cell_type": "markdown",
   "id": "a5077599",
   "metadata": {},
   "source": [
    "##### 4. 使用OpenPyXL读取文件"
   ]
  },
  {
   "cell_type": "markdown",
   "id": "fa461854",
   "metadata": {},
   "source": [
    "OpenPyXL读取大型Excel文件时需要控制内存，应该使用read_only=True参数加载工作簿<br>\n",
    "由于OpenPyXL不支持with语句所以在工作完成时需要关闭文件<br>\n",
    "若文件包含指向外部工作簿的链接，则需要使用keep_links=False参数加速读取过程<br>\n",
    "keep_links：可以确保对外部工作簿的引用不会丢失；若只对读取某个工作簿的值感兴趣，那将这个参数设置为True可能会造成不必要的性能损失"
   ]
  },
  {
   "cell_type": "code",
   "execution_count": 38,
   "id": "3a4c5890",
   "metadata": {},
   "outputs": [],
   "source": [
    "book = openpyxl.load_workbook(\"xl/big.xlsx\", \n",
    "                              data_only=True, \n",
    "                              read_only=True, \n",
    "                              keep_links=False)\n",
    "# 在这里执行所需读取操作\n",
    "book.worksheets[0].max_row, book.worksheets[0].max_column\n",
    "book.close()  # 需设置参数read_only=True"
   ]
  },
  {
   "cell_type": "markdown",
   "id": "2381cd6f",
   "metadata": {},
   "source": [
    "##### 5. 并行读取工作表"
   ]
  },
  {
   "cell_type": "markdown",
   "id": "60726af3",
   "metadata": {},
   "source": [
    "pandas的read_excel()函数在读取大型工作簿的多张工作表时会花费很长时间【因为pandas会逐张读取工作表】<br>\n",
    "若想过程更快，可使用<b>并行</b>读取这些工作表；可使用Python的多线程包实现<br>\n",
    "多线程包：【系统有足够的内存处理工作负载的情况下】<br>\n",
    "&nbsp;&nbsp;&nbsp;&nbsp;&nbsp;&nbsp;&nbsp;&nbsp;多线程包会生成多个并行执行任务的Python解释器（通常一个CPU核心一个解释器）；即一个Python解释器处理一张工作表<br>\n",
    "&nbsp;&nbsp;&nbsp;&nbsp;&nbsp;&nbsp;&nbsp;&nbsp;但每个额外的Python解释器都需要一定时间启动并且需要占用额外的内存，所以文件小并行读取慢；而包含多个大型工作簿的大型文件，多线程则可以显著加快读取过程"
   ]
  },
  {
   "cell_type": "code",
   "execution_count": 39,
   "id": "3f4a2bec",
   "metadata": {},
   "outputs": [
    {
     "data": {
      "text/plain": [
       "{'2019':    Unnamed: 0     Unnamed: 1 Unnamed: 2 Unnamed: 3           Unnamed: 4  \\\n",
       " 0         NaN          Store  Employees    Manager                Since   \n",
       " 1         NaN       New York         10      Sarah  2018-07-20 00:00:00   \n",
       " 2         NaN  San Francisco         12     Neriah  2019-11-02 00:00:00   \n",
       " 3         NaN        Chicago          4    Katelin  2020-01-31 00:00:00   \n",
       " 4         NaN         Boston          5  Georgiana  2017-04-01 00:00:00   \n",
       " 5         NaN  Washington DC          3       Evan                  NaN   \n",
       " 6         NaN      Las Vegas         11       Paul  2020-01-06 00:00:00   \n",
       " \n",
       "   Unnamed: 5  \n",
       " 0   Flagship  \n",
       " 1      False  \n",
       " 2    MISSING  \n",
       " 3        NaN  \n",
       " 4       True  \n",
       " 5      False  \n",
       " 6      False  }"
      ]
     },
     "execution_count": 39,
     "metadata": {},
     "output_type": "execute_result"
    }
   ],
   "source": [
    "import parallel_pandas\n",
    "# sheet_name=None：读取Excel文件中的所有工作表。\n",
    "# 如果你只想读取特定的工作表，可以提供一个工作表名称的列表作为sheet_name参数的值\n",
    "parallel_pandas.read_excel(\"xl/stores.xlsx\", sheet_name=[\"2019\"])"
   ]
  },
  {
   "cell_type": "markdown",
   "id": "3d14ba7e",
   "metadata": {},
   "source": [
    "（单元格）魔法指令：%%time、%%timeit<br>\n",
    "【必须出现在单元格的第一行，并且测量的是整个单元格的执行时间；若只想测量一行的执行时间，可以在行首使用】<br>\n",
    "&nbsp;&nbsp;&nbsp;&nbsp;&nbsp;&nbsp;&nbsp;&nbsp;<b>%%time</b>：对比不同代码片段的执行时间<br>\n",
    "&nbsp;&nbsp;&nbsp;&nbsp;&nbsp;&nbsp;&nbsp;&nbsp;<b>%%timeit（多核处理器上并行执行）</b>：运行单元格多次并取平均时间"
   ]
  },
  {
   "cell_type": "code",
   "execution_count": 40,
   "id": "0a4a5eb0",
   "metadata": {},
   "outputs": [
    {
     "name": "stdout",
     "output_type": "stream",
     "text": [
      "CPU times: total: 55.1 s\n",
      "Wall time: 55.1 s\n"
     ]
    }
   ],
   "source": [
    "%%time\n",
    "data = pd.read_excel(\"xl/big.xlsx\", \n",
    "                     sheet_name=None, \n",
    "                     engine=\"openpyxl\")"
   ]
  },
  {
   "cell_type": "code",
   "execution_count": 41,
   "id": "b8d19e2c",
   "metadata": {},
   "outputs": [
    {
     "name": "stdout",
     "output_type": "stream",
     "text": [
      "CPU times: total: 109 ms\n",
      "Wall time: 14.9 s\n"
     ]
    }
   ],
   "source": [
    "%%time\n",
    "import parallel_pandas\n",
    "data = parallel_pandas.read_excel(\"xl/big.xlsx\", \n",
    "                                  sheet_name=None)"
   ]
  },
  {
   "cell_type": "markdown",
   "id": "21e2223f",
   "metadata": {},
   "source": [
    "若只需读取单张大型工作表可使用Modin<br>\n",
    "Modin在并行处理单张工作表的读取过程会实现显著的速度提升；但需要指定版本的pandas（可能会导致Anaconda附带的pandas被降级），可为此创建一个单独的Conda环境，以确保环境不会被弄乱"
   ]
  },
  {
   "cell_type": "markdown",
   "id": "74ac9e48",
   "metadata": {},
   "source": [
    "import modin.pandas\n",
    "data = modin.pandas.read_excel(\"xl/big.xlsx\", sheet_name=None, engine=\"openpyxl)"
   ]
  },
  {
   "cell_type": "markdown",
   "id": "1841e0b7",
   "metadata": {},
   "source": [
    "### 8.2.2 调整DataFrame在Excel中的格式"
   ]
  },
  {
   "cell_type": "markdown",
   "id": "c835982a",
   "metadata": {},
   "source": [
    "读取文件（pandas + OpenPyXL结合使用）"
   ]
  },
  {
   "cell_type": "code",
   "execution_count": 42,
   "id": "09fd90bd",
   "metadata": {},
   "outputs": [
    {
     "data": {
      "text/plain": [
       "'New York'"
      ]
     },
     "execution_count": 42,
     "metadata": {},
     "output_type": "execute_result"
    }
   ],
   "source": [
    "with pd.ExcelFile(\"xl/stores.xlsx\", engine=\"openpyxl\") as xlfile:\n",
    "    # 读取DataFrame\n",
    "    df = pd.read_excel(xlfile, sheet_name=\"2020\")\n",
    "\n",
    "    # 获取OpenPyXL工作簿对象\n",
    "    book = xlfile.book\n",
    "    \n",
    "    # OpenPyXL代码从这里开始\n",
    "    sheet = book[\"2019\"]\n",
    "    # 读取单个值\n",
    "    value = sheet[\"B3\"].value\n",
    "value"
   ]
  },
  {
   "cell_type": "markdown",
   "id": "eee24748",
   "metadata": {},
   "source": [
    "写入工作簿"
   ]
  },
  {
   "cell_type": "code",
   "execution_count": 43,
   "id": "8257026d",
   "metadata": {
    "scrolled": true
   },
   "outputs": [],
   "source": [
    "\n",
    "with pd.ExcelWriter(\"xl/pandas_and_openpyxl.xlsx\", engine=\"openpyxl\") as writer:\n",
    "    df = pd.DataFrame({\"col1\": [1, 2, 3, 4], \n",
    "                       \"col2\": [5, 6, 7, 8]})\n",
    "    # 写入DataFrame\n",
    "    df.to_excel(writer, \"Sheet1\", startrow=4, startcol=2)\n",
    "    \n",
    "    # 获取OpenPyXL工作簿和工作表对象\n",
    "    book = writer.book\n",
    "    sheet = writer.sheets[\"Sheet1\"]\n",
    "\n",
    "    # OpenPyXL的代码从这里开始\n",
    "    # 写入单个单元格的值\n",
    "    sheet[\"A1\"].value = \"This is a Title\""
   ]
  },
  {
   "cell_type": "markdown",
   "id": "4fe2de12",
   "metadata": {},
   "source": [
    "##### 1. 调整DataFrame索引和标题的格式"
   ]
  },
  {
   "cell_type": "markdown",
   "id": "79a2e112",
   "metadata": {},
   "source": [
    "先创建DataFrame"
   ]
  },
  {
   "cell_type": "code",
   "execution_count": 44,
   "id": "8c41d1f1",
   "metadata": {},
   "outputs": [
    {
     "data": {
      "text/html": [
       "<div>\n",
       "<style scoped>\n",
       "    .dataframe tbody tr th:only-of-type {\n",
       "        vertical-align: middle;\n",
       "    }\n",
       "\n",
       "    .dataframe tbody tr th {\n",
       "        vertical-align: top;\n",
       "    }\n",
       "\n",
       "    .dataframe thead th {\n",
       "        text-align: right;\n",
       "    }\n",
       "</style>\n",
       "<table border=\"1\" class=\"dataframe\">\n",
       "  <thead>\n",
       "    <tr style=\"text-align: right;\">\n",
       "      <th></th>\n",
       "      <th>col1</th>\n",
       "      <th>col2</th>\n",
       "    </tr>\n",
       "    <tr>\n",
       "      <th>ix</th>\n",
       "      <th></th>\n",
       "      <th></th>\n",
       "    </tr>\n",
       "  </thead>\n",
       "  <tbody>\n",
       "    <tr>\n",
       "      <th>row1</th>\n",
       "      <td>1</td>\n",
       "      <td>-3</td>\n",
       "    </tr>\n",
       "    <tr>\n",
       "      <th>row2</th>\n",
       "      <td>-2</td>\n",
       "      <td>4</td>\n",
       "    </tr>\n",
       "  </tbody>\n",
       "</table>\n",
       "</div>"
      ],
      "text/plain": [
       "      col1  col2\n",
       "ix              \n",
       "row1     1    -3\n",
       "row2    -2     4"
      ]
     },
     "execution_count": 44,
     "metadata": {},
     "output_type": "execute_result"
    }
   ],
   "source": [
    "df = pd.DataFrame({\"col1\": [1, -2], \"col2\": [-3, 4]}, \n",
    "                  index=[\"row1\", \"row2\"])\n",
    "df.index.name = \"ix\"\n",
    "df"
   ]
  },
  {
   "cell_type": "markdown",
   "id": "78119c21",
   "metadata": {},
   "source": [
    "用OpenPyXL格式化索引和标题"
   ]
  },
  {
   "cell_type": "code",
   "execution_count": 45,
   "id": "5738c33c",
   "metadata": {},
   "outputs": [],
   "source": [
    "from openpyxl.styles import PatternFill"
   ]
  },
  {
   "cell_type": "code",
   "execution_count": 46,
   "id": "8db053a1",
   "metadata": {},
   "outputs": [],
   "source": [
    "with pd.ExcelWriter(\"xl/formatting_openpyxl.xlsx\", engine=\"openpyxl\") as writer:\n",
    "    # 将整个df以默认格式从A1处写入\n",
    "    df.to_excel(writer, startrow=0, startcol=0)\n",
    "    \n",
    "    # 将整个df以默认自定义索引/标题格式从A6处写入\n",
    "    startrow, startcol = 0, 5\n",
    "    # 1. 写入DataFrame的数据部分\n",
    "    df.to_excel(writer, header=False, index=False, startrow=startrow+1, startcol=startcol+1)\n",
    "    \n",
    "    # 获取工作表对象并创建样式对象\n",
    "    sheet = writer.sheets[\"Sheet1\"]\n",
    "    style = PatternFill(fgColor=\"D9D9D9\", fill_type=\"solid\")\n",
    "    \n",
    "    # 2. 写入带样式的列标题\n",
    "    for i, col in enumerate(df.columns):\n",
    "        sheet.cell(row=startrow+1, column=i+startcol+2, value=col).fill = style\n",
    "    \n",
    "    # 3.写入带样式的索引\n",
    "    index = [df.index.name if df.index.name else None] + list(df.index)\n",
    "    for i, row in enumerate(index):\n",
    "        sheet.cell(row=i+startrow+1, column=startcol+1, value=row).fill = style"
   ]
  },
  {
   "cell_type": "markdown",
   "id": "9288d851",
   "metadata": {},
   "source": [
    "使用XlsxWriter对索引和标题进行格式化"
   ]
  },
  {
   "cell_type": "code",
   "execution_count": 47,
   "id": "4b5bf405",
   "metadata": {},
   "outputs": [],
   "source": [
    "# 使用XlsxWriter对索引和标题进行格式化\n",
    "with pd.ExcelWriter(\"xl/formatting_xlsxwriter.xlsx\", engine=\"xlsxwriter\") as writer:\n",
    "    # 将整个df以默认格式从A1处写入\n",
    "    df.to_excel(writer, startrow=0, startcol=0)\n",
    "    \n",
    "    # 将整个df以默认自定义索引/标题格式从A6处写入\n",
    "    startrow, startcol = 0, 5\n",
    "    # 1. 写入DataFrame的数据部分\n",
    "    df.to_excel(writer, header=False, index=False, startrow=startrow+1, startcol=startcol+1)\n",
    "    # 获取工作簿对象和工作表对象并创建样式对象\n",
    "    book = writer.book\n",
    "    sheet = writer.sheets[\"Sheet1\"]\n",
    "    style = book.add_format({\"bg_color\": \"#D9D9D9\"})\n",
    "    \n",
    "    # 2. 写入带样式的标题\n",
    "    for i, col in enumerate(df.columns):\n",
    "        sheet.write(startrow, startcol+i+1, col, style)\n",
    "    \n",
    "    \n",
    "    # 3. 写入带样式的索引\n",
    "    index = [df.index.name if df.index.name else None] + list(df.index)\n",
    "    for i, row in enumerate(index):\n",
    "        sheet.write(startrow+i, startcol, row, style)"
   ]
  },
  {
   "cell_type": "markdown",
   "id": "6448aee5",
   "metadata": {},
   "source": [
    "##### 2. 格式化DataFrame的数据部分"
   ]
  },
  {
   "cell_type": "markdown",
   "id": "7e3ff04e",
   "metadata": {},
   "source": [
    "<i>OpenPyXL可以为每一个单元格应用一种格式</i><br>\n",
    "<i>XlsxWriter只能对行或列应用格式</i>"
   ]
  },
  {
   "cell_type": "markdown",
   "id": "bcc378c2",
   "metadata": {},
   "source": [
    "使用OpenPyXL格式化DataFrame的数据部分"
   ]
  },
  {
   "cell_type": "code",
   "execution_count": 48,
   "id": "8c9662f6",
   "metadata": {},
   "outputs": [],
   "source": [
    "from openpyxl.styles import Alignment"
   ]
  },
  {
   "cell_type": "code",
   "execution_count": 49,
   "id": "78bdf5ac",
   "metadata": {},
   "outputs": [],
   "source": [
    "with pd.ExcelWriter(\"xl/data_format_openpyxl.xlsx\", engine=\"openpyxl\") as writer:\n",
    "    # 写入DataFrame\n",
    "    df.to_excel(writer)\n",
    "    \n",
    "    # 获取工作簿对象和工作表对象\n",
    "    book = writer.book\n",
    "    sheet = writer.sheets[\"Sheet1\"]\n",
    "    \n",
    "    # 格式化每一个单元格\n",
    "    nrows, ncols = df.shape\n",
    "    for row in range(nrows):\n",
    "        for col in range(ncols):\n",
    "            # 考虑到标题和索引，这里加1\n",
    "            # 因为OpenPyXL的索引是从1开始的，所以还要加1\n",
    "            cell = sheet.cell(row=row+2, \n",
    "                              column=col+2)\n",
    "            cell.number_format = \"0.000\"\n",
    "            cell.alignment = Alignment(horizontal=\"center\")"
   ]
  },
  {
   "cell_type": "markdown",
   "id": "35db4e60",
   "metadata": {},
   "source": [
    "使用XlsxWriter格式化DataFrame的数据部分"
   ]
  },
  {
   "cell_type": "code",
   "execution_count": 50,
   "id": "0b5440a6",
   "metadata": {},
   "outputs": [],
   "source": [
    "with pd.ExcelWriter(\"xl/data_format_xlsxwriter.xlsx\", engine=\"xlsxwriter\") as writer:\n",
    "    # 写入DataFrame\n",
    "    df.to_excel(writer)\n",
    "    \n",
    "    # 获取工作簿对象和工作表对象\n",
    "    book = writer.book\n",
    "    sheet = writer.sheets[\"Sheet1\"]\n",
    "    \n",
    "    # 格式化各列\n",
    "    number_format = book.add_format({\"num_format\": \"0.000\", \n",
    "                                     \"align\": \"center\"})\n",
    "    sheet.set_column(first_col=1, last_col=2, cell_format=number_format)"
   ]
  },
  {
   "cell_type": "markdown",
   "id": "2d072420",
   "metadata": {},
   "source": [
    "pandas在DataFrame上提供了<b>实验性</b>的style属性作为一种替代品<br>\n",
    "实验性：其语法随时可能发生改变<br>\n",
    "由于样式属性是为了将DataFrame格式化为HTML而引入，因此他们使用的是CSS语法"
   ]
  },
  {
   "cell_type": "code",
   "execution_count": 51,
   "id": "5d960346",
   "metadata": {},
   "outputs": [],
   "source": [
    "# 需要通过applymap对Styler对象的每个元素应用一个函数。通过df.style属性可以获得Styler对象\n",
    "df.style.applymap(lambda x: \"number-format: 0.000;\" \"text-align: center\").to_excel(\"xl/styled.xlsx\")"
   ]
  },
  {
   "cell_type": "markdown",
   "id": "b5344a05",
   "metadata": {},
   "source": [
    "在不依赖样式属性的情况下，pandas还提供了对日期和时间的格式化支持"
   ]
  },
  {
   "cell_type": "code",
   "execution_count": 52,
   "id": "c56177d5",
   "metadata": {},
   "outputs": [],
   "source": [
    "df = pd.DataFrame({\"Date\": [dt.date(2020, 1, 1)], \n",
    "                \"Datetime\":[dt.datetime(2020, 1, 1, 10)]})\n",
    "with pd.ExcelWriter(\"xl/date.xlsx\", \n",
    "                    date_format=\"yyyy-mm-dd\", \n",
    "                    datetime_format=\"yyyy-mm-dd hh:mm:ss\") as writer:\n",
    "    df.to_excel(writer)"
   ]
  }
 ],
 "metadata": {
  "kernelspec": {
   "display_name": "Python 3 (ipykernel)",
   "language": "python",
   "name": "python3"
  },
  "language_info": {
   "codemirror_mode": {
    "name": "ipython",
    "version": 3
   },
   "file_extension": ".py",
   "mimetype": "text/x-python",
   "name": "python",
   "nbconvert_exporter": "python",
   "pygments_lexer": "ipython3",
   "version": "3.8.20"
  }
 },
 "nbformat": 4,
 "nbformat_minor": 5
}
