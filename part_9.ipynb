{
 "cells": [
  {
   "cell_type": "markdown",
   "id": "42ea493b",
   "metadata": {},
   "source": [
    "# 9.1 开始使用xlwings"
   ]
  },
  {
   "cell_type": "markdown",
   "id": "84d86ce4",
   "metadata": {},
   "source": [
    "### 1. 将Excel用作数据查看器"
   ]
  },
  {
   "cell_type": "code",
   "execution_count": 1,
   "id": "4384a98f",
   "metadata": {},
   "outputs": [],
   "source": [
    "# 导入本章会用到的包\n",
    "import datetime as dt\n",
    "import xlwings as xw\n",
    "import pandas as pd\n",
    "import numpy as np"
   ]
  },
  {
   "cell_type": "markdown",
   "id": "27136b5e",
   "metadata": {},
   "source": [
    "np.random.randn() 函数接受一个或多个整数参数，用于指定输出数组的形状。<br>\n",
    "这些参数以元组的形式传入，例如 (m, n) 表示生成一个 m 行 n 列的二维数组。"
   ]
  },
  {
   "cell_type": "code",
   "execution_count": 2,
   "id": "35636c1e",
   "metadata": {},
   "outputs": [
    {
     "data": {
      "text/html": [
       "<div>\n",
       "<style scoped>\n",
       "    .dataframe tbody tr th:only-of-type {\n",
       "        vertical-align: middle;\n",
       "    }\n",
       "\n",
       "    .dataframe tbody tr th {\n",
       "        vertical-align: top;\n",
       "    }\n",
       "\n",
       "    .dataframe thead th {\n",
       "        text-align: right;\n",
       "    }\n",
       "</style>\n",
       "<table border=\"1\" class=\"dataframe\">\n",
       "  <thead>\n",
       "    <tr style=\"text-align: right;\">\n",
       "      <th></th>\n",
       "      <th>Trial 1</th>\n",
       "      <th>Trial 2</th>\n",
       "      <th>Trial 3</th>\n",
       "      <th>Trial 4</th>\n",
       "      <th>Trial 5</th>\n",
       "    </tr>\n",
       "  </thead>\n",
       "  <tbody>\n",
       "    <tr>\n",
       "      <th>0</th>\n",
       "      <td>1.016925</td>\n",
       "      <td>1.039055</td>\n",
       "      <td>-0.862579</td>\n",
       "      <td>-1.006096</td>\n",
       "      <td>-0.327847</td>\n",
       "    </tr>\n",
       "    <tr>\n",
       "      <th>1</th>\n",
       "      <td>0.711557</td>\n",
       "      <td>-0.107396</td>\n",
       "      <td>0.440524</td>\n",
       "      <td>0.483805</td>\n",
       "      <td>-0.376018</td>\n",
       "    </tr>\n",
       "    <tr>\n",
       "      <th>2</th>\n",
       "      <td>-0.946859</td>\n",
       "      <td>-1.824079</td>\n",
       "      <td>1.351435</td>\n",
       "      <td>-0.002271</td>\n",
       "      <td>0.700822</td>\n",
       "    </tr>\n",
       "    <tr>\n",
       "      <th>3</th>\n",
       "      <td>0.024586</td>\n",
       "      <td>-2.527213</td>\n",
       "      <td>0.024448</td>\n",
       "      <td>0.048422</td>\n",
       "      <td>1.228380</td>\n",
       "    </tr>\n",
       "    <tr>\n",
       "      <th>4</th>\n",
       "      <td>-0.078175</td>\n",
       "      <td>0.087660</td>\n",
       "      <td>1.832819</td>\n",
       "      <td>-2.414008</td>\n",
       "      <td>1.192027</td>\n",
       "    </tr>\n",
       "    <tr>\n",
       "      <th>...</th>\n",
       "      <td>...</td>\n",
       "      <td>...</td>\n",
       "      <td>...</td>\n",
       "      <td>...</td>\n",
       "      <td>...</td>\n",
       "    </tr>\n",
       "    <tr>\n",
       "      <th>95</th>\n",
       "      <td>0.138159</td>\n",
       "      <td>0.743616</td>\n",
       "      <td>-0.540641</td>\n",
       "      <td>1.013577</td>\n",
       "      <td>1.469800</td>\n",
       "    </tr>\n",
       "    <tr>\n",
       "      <th>96</th>\n",
       "      <td>-0.633182</td>\n",
       "      <td>0.443399</td>\n",
       "      <td>1.142337</td>\n",
       "      <td>-0.397931</td>\n",
       "      <td>0.193842</td>\n",
       "    </tr>\n",
       "    <tr>\n",
       "      <th>97</th>\n",
       "      <td>-0.639318</td>\n",
       "      <td>-1.034207</td>\n",
       "      <td>-1.062594</td>\n",
       "      <td>-0.268926</td>\n",
       "      <td>-1.206813</td>\n",
       "    </tr>\n",
       "    <tr>\n",
       "      <th>98</th>\n",
       "      <td>0.022682</td>\n",
       "      <td>-1.082083</td>\n",
       "      <td>-0.633174</td>\n",
       "      <td>-0.455662</td>\n",
       "      <td>0.903807</td>\n",
       "    </tr>\n",
       "    <tr>\n",
       "      <th>99</th>\n",
       "      <td>0.959711</td>\n",
       "      <td>0.269358</td>\n",
       "      <td>-1.226496</td>\n",
       "      <td>-1.057406</td>\n",
       "      <td>-0.711319</td>\n",
       "    </tr>\n",
       "  </tbody>\n",
       "</table>\n",
       "<p>100 rows × 5 columns</p>\n",
       "</div>"
      ],
      "text/plain": [
       "     Trial 1   Trial 2   Trial 3   Trial 4   Trial 5\n",
       "0   1.016925  1.039055 -0.862579 -1.006096 -0.327847\n",
       "1   0.711557 -0.107396  0.440524  0.483805 -0.376018\n",
       "2  -0.946859 -1.824079  1.351435 -0.002271  0.700822\n",
       "3   0.024586 -2.527213  0.024448  0.048422  1.228380\n",
       "4  -0.078175  0.087660  1.832819 -2.414008  1.192027\n",
       "..       ...       ...       ...       ...       ...\n",
       "95  0.138159  0.743616 -0.540641  1.013577  1.469800\n",
       "96 -0.633182  0.443399  1.142337 -0.397931  0.193842\n",
       "97 -0.639318 -1.034207 -1.062594 -0.268926 -1.206813\n",
       "98  0.022682 -1.082083 -0.633174 -0.455662  0.903807\n",
       "99  0.959711  0.269358 -1.226496 -1.057406 -0.711319\n",
       "\n",
       "[100 rows x 5 columns]"
      ]
     },
     "execution_count": 2,
     "metadata": {},
     "output_type": "execute_result"
    }
   ],
   "source": [
    "# 创建一个基于伪随机数的DataFrame，它有足够多的行使得只有首尾几行会被显示\n",
    "df = pd.DataFrame(data=np.random.randn(100, 5), \n",
    "                  columns=[f\"Trial {i}\" for i in range(1, 6)])\n",
    "df"
   ]
  },
  {
   "cell_type": "markdown",
   "id": "b36fb163",
   "metadata": {},
   "source": [
    "view()函数可以接受所有常见的Python对象，包括数字、字符串、列表、字典、元组、NumPy数组和pandas DataFrame<br>\n",
    "默认情况下，它会打开一个新的工作簿，然后将对象粘贴到第一张工作表的A1单元格<br>\n",
    "它甚至会通过Excel的自动适应功能来调整列宽<br>\n",
    "不必每次都打开一个新的工作簿，可以通过view()函数提供一个xlwings sheet对象作为第二个参数来重复利用同一个工作簿文件：xw.view(df, mysheet)"
   ]
  },
  {
   "cell_type": "code",
   "execution_count": 3,
   "id": "219284f7",
   "metadata": {},
   "outputs": [],
   "source": [
    "# 在Excel中查看DataFrame\n",
    "xw.view(df)"
   ]
  },
  {
   "cell_type": "markdown",
   "id": "00fd96f1",
   "metadata": {},
   "source": [
    "### 2. Excel对象模型"
   ]
  },
  {
   "cell_type": "markdown",
   "id": "ff6bf754",
   "metadata": {},
   "source": [
    "app<em>【应用程序实例】</em>包含多个book<em>【工作簿】</em>的集合<br>\n",
    "book<em>【工作簿】</em>包含多个sheet<em>【工作表】</em>的集合<br>\n",
    "通过sheet<em>【工作表】</em>可以访问range对象和charts等集合<br>\n",
    "range包含一个或多个连续的单元格作为其元素"
   ]
  },
  {
   "cell_type": "markdown",
   "id": "99c01e8d",
   "metadata": {},
   "source": [
    "<table align=\"left\">\n",
    "    <tr>\n",
    "        <th>命令</th>\n",
    "        <th>描述</th>\n",
    "    </tr>\n",
    "    <tr>\n",
    "        <td>xw.Book()</td>\n",
    "        <td>返回代表活动的Excel实例中新的Excel工作簿的book对象;<br>\n",
    "           如果没有活动的Excel实例，则会启动一个\n",
    "        </td>\n",
    "    </tr>\n",
    "    <tr>\n",
    "        <td>xw.Book(\"Book1\")</td>\n",
    "        <td>返回表示未保存的名为Book1（名称中不含文件扩展名）的工作簿的book对象</td>\n",
    "    </tr>\n",
    "    <tr>\n",
    "        <td>xw.Book(\"Book1.xlsx\")</td>\n",
    "        <td>返回代表之前保存过的名为Book1.xlsx（名称中包含文件扩展名）的工作簿对象。<br>\n",
    "           该文件必须是已打开的，或者位于当前的工作目录\n",
    "        </td>\n",
    "    </tr>\n",
    "    <tr>\n",
    "        <td>xw.Book(r\"C:\\path\\Book1.xlsx\")</td>\n",
    "        <td>返回代表之前保存过的工作簿（完整文件路径）的对象。该文件可以是打开的也可以是关闭的。<br>\n",
    "           路径字符串开头的r会将字符串转化为原始字符串，以便路径中的反斜杠（\\）在Windows中按照字面进行解释\n",
    "        </td>\n",
    "    </tr>\n",
    "    <tr>\n",
    "        <td>xw.books.active</td>\n",
    "        <td>返回代表活动的Excel实例中活动的工作簿的book对象</td>\n",
    "    </tr>\n",
    "</table>"
   ]
  },
  {
   "cell_type": "code",
   "execution_count": 4,
   "id": "6b3c65b6",
   "metadata": {},
   "outputs": [
    {
     "data": {
      "text/plain": [
       "'Book2.xlsx'"
      ]
     },
     "execution_count": 4,
     "metadata": {},
     "output_type": "execute_result"
    }
   ],
   "source": [
    "# 创建一个新的空工作簿并打印其名称\n",
    "book = xw.Book(r\"xl/Book2.xlsx\")\n",
    "book.name"
   ]
  },
  {
   "cell_type": "code",
   "execution_count": 5,
   "id": "2acee764",
   "metadata": {},
   "outputs": [
    {
     "data": {
      "text/plain": [
       "Sheets([<Sheet [Book2.xlsx]Sheet1>])"
      ]
     },
     "execution_count": 5,
     "metadata": {},
     "output_type": "execute_result"
    }
   ],
   "source": [
    "# 访问工作表集合\n",
    "book.sheets"
   ]
  },
  {
   "cell_type": "code",
   "execution_count": 6,
   "id": "ab8bfb26",
   "metadata": {},
   "outputs": [],
   "source": [
    "# 通过索引或名称获取工作表对象\n",
    "sheet1 = book.sheets[0]\n",
    "sheet1 = book.sheets[\"Sheet1\"]"
   ]
  },
  {
   "cell_type": "code",
   "execution_count": 7,
   "id": "1b9dc6dc",
   "metadata": {},
   "outputs": [
    {
     "data": {
      "text/plain": [
       "<Range [Book2.xlsx]Sheet1!$A$1>"
      ]
     },
     "execution_count": 7,
     "metadata": {},
     "output_type": "execute_result"
    }
   ],
   "source": [
    "sheet1.range(\"A1\")"
   ]
  },
  {
   "cell_type": "markdown",
   "id": "54f03789",
   "metadata": {},
   "source": [
    "range方法是用来操作Excel单元格区域的\n",
    "<table align=\"left\">\n",
    "    <tr>\n",
    "        <th>引用</th>\n",
    "        <th>描述</th>\n",
    "    </tr>\n",
    "    <tr>\n",
    "        <td>\"A1\"</td>\n",
    "        <td>单个单元格</td>\n",
    "    </tr>\n",
    "    <tr>\n",
    "        <td>\"A1:B2\"</td>\n",
    "        <td width=\"200px\">从A1到B2的单元格区域</td>\n",
    "    </tr>\n",
    "    <tr>\n",
    "        <td>\"A:A\"</td>\n",
    "        <td>A列</td>\n",
    "    </tr>\n",
    "    <tr>\n",
    "        <td>\"A:B\"</td>\n",
    "        <td>A列到B列</td>\n",
    "    </tr>\n",
    "    <tr>\n",
    "        <td>\"1:1\"</td>\n",
    "        <td>1行</td>\n",
    "    </tr>\n",
    "    <tr>\n",
    "        <td>\"1:2\"</td>\n",
    "        <td>1行到2行</td>\n",
    "    </tr>\n",
    "</table>"
   ]
  },
  {
   "cell_type": "code",
   "execution_count": 8,
   "id": "4d6de856",
   "metadata": {},
   "outputs": [],
   "source": [
    "# 最常见的任务：写入值\n",
    "sheet1.range(\"A1\").value = [[1, 2], \n",
    "                            [3, 4]]\n",
    "sheet1.range(\"A4\").value = \"Hello！\""
   ]
  },
  {
   "cell_type": "code",
   "execution_count": 9,
   "id": "e32dc60b",
   "metadata": {},
   "outputs": [
    {
     "data": {
      "text/plain": [
       "[[1.0, 2.0], [3.0, 4.0]]"
      ]
     },
     "execution_count": 9,
     "metadata": {},
     "output_type": "execute_result"
    }
   ],
   "source": [
    "# 读取值\n",
    "sheet1.range(\"A1:B2\").value"
   ]
  },
  {
   "cell_type": "code",
   "execution_count": 10,
   "id": "f50d75a8",
   "metadata": {},
   "outputs": [
    {
     "data": {
      "text/plain": [
       "'Hello！'"
      ]
     },
     "execution_count": 10,
     "metadata": {},
     "output_type": "execute_result"
    }
   ],
   "source": [
    "sheet1.range(\"A4\").value"
   ]
  },
  {
   "cell_type": "code",
   "execution_count": 11,
   "id": "de24afb8",
   "metadata": {},
   "outputs": [
    {
     "data": {
      "text/plain": [
       "<Range [Book2.xlsx]Sheet1!$A$1>"
      ]
     },
     "execution_count": 11,
     "metadata": {},
     "output_type": "execute_result"
    }
   ],
   "source": [
    "# 索引\n",
    "sheet1.range(\"A1:B2\")[0, 0]"
   ]
  },
  {
   "cell_type": "code",
   "execution_count": 12,
   "id": "ac9b9286",
   "metadata": {},
   "outputs": [
    {
     "data": {
      "text/plain": [
       "<Range [Book2.xlsx]Sheet1!$B$1:$B$2>"
      ]
     },
     "execution_count": 12,
     "metadata": {},
     "output_type": "execute_result"
    }
   ],
   "source": [
    "# 切片\n",
    "sheet1.range(\"A1:B2\")[:, 1]"
   ]
  },
  {
   "cell_type": "code",
   "execution_count": 13,
   "id": "ed3274fc",
   "metadata": {},
   "outputs": [
    {
     "data": {
      "text/plain": [
       "<Range [Book2.xlsx]Sheet1!$A$1>"
      ]
     },
     "execution_count": 13,
     "metadata": {},
     "output_type": "execute_result"
    }
   ],
   "source": [
    "# 单个单元格：A1表示法\n",
    "sheet1[\"A1\"]"
   ]
  },
  {
   "cell_type": "code",
   "execution_count": 14,
   "id": "9c41529c",
   "metadata": {},
   "outputs": [
    {
     "data": {
      "text/plain": [
       "<Range [Book2.xlsx]Sheet1!$A$1:$B$2>"
      ]
     },
     "execution_count": 14,
     "metadata": {},
     "output_type": "execute_result"
    }
   ],
   "source": [
    "# 多个单元格：A1表示法\n",
    "sheet1[\"A1:B2\"]"
   ]
  },
  {
   "cell_type": "code",
   "execution_count": 15,
   "id": "0492db6b",
   "metadata": {},
   "outputs": [
    {
     "data": {
      "text/plain": [
       "<Range [Book2.xlsx]Sheet1!$A$1>"
      ]
     },
     "execution_count": 15,
     "metadata": {},
     "output_type": "execute_result"
    }
   ],
   "source": [
    "# 单个单元格：索引\n",
    "sheet1[0, 0]"
   ]
  },
  {
   "cell_type": "code",
   "execution_count": 16,
   "id": "f066e802",
   "metadata": {},
   "outputs": [
    {
     "data": {
      "text/plain": [
       "<Range [Book2.xlsx]Sheet1!$A$1:$B$2>"
      ]
     },
     "execution_count": 16,
     "metadata": {},
     "output_type": "execute_result"
    }
   ],
   "source": [
    "# 多个单元格：切片\n",
    "sheet1[:2, :2]"
   ]
  },
  {
   "cell_type": "markdown",
   "id": "272096ff",
   "metadata": {},
   "source": [
    "<b>索引从0开始；range对象从1开始</b>"
   ]
  },
  {
   "cell_type": "code",
   "execution_count": 17,
   "id": "990981a9",
   "metadata": {},
   "outputs": [
    {
     "data": {
      "text/plain": [
       "<Range [Book2.xlsx]Sheet1!$D$10>"
      ]
     },
     "execution_count": 17,
     "metadata": {},
     "output_type": "execute_result"
    }
   ],
   "source": [
    "# 通过sheet索引访问D10\n",
    "sheet1[9, 3]"
   ]
  },
  {
   "cell_type": "code",
   "execution_count": 18,
   "id": "6d62783a",
   "metadata": {},
   "outputs": [
    {
     "data": {
      "text/plain": [
       "<Range [Book2.xlsx]Sheet1!$D$10>"
      ]
     },
     "execution_count": 18,
     "metadata": {},
     "output_type": "execute_result"
    }
   ],
   "source": [
    "# 通过range对象访问D10\n",
    "sheet1.range((10, 4))"
   ]
  },
  {
   "cell_type": "code",
   "execution_count": 19,
   "id": "c317929b",
   "metadata": {},
   "outputs": [
    {
     "data": {
      "text/plain": [
       "<Range [Book2.xlsx]Sheet1!$D$10:$F$11>"
      ]
     },
     "execution_count": 19,
     "metadata": {},
     "output_type": "execute_result"
    }
   ],
   "source": [
    "# 通过sheet切片访问D10:F11\n",
    "sheet1[9:11, 3:6]"
   ]
  },
  {
   "cell_type": "code",
   "execution_count": 20,
   "id": "e6507025",
   "metadata": {},
   "outputs": [
    {
     "data": {
      "text/plain": [
       "<Range [Book2.xlsx]Sheet1!$D$10:$F$11>"
      ]
     },
     "execution_count": 20,
     "metadata": {},
     "output_type": "execute_result"
    }
   ],
   "source": [
    "# 通过range对象访问D10：F11\n",
    "sheet1.range((10, 4), (11, 6))"
   ]
  },
  {
   "cell_type": "code",
   "execution_count": 21,
   "id": "d5c1cfbf",
   "metadata": {},
   "outputs": [
    {
     "data": {
      "text/plain": [
       "<Excel App 2488>"
      ]
     },
     "execution_count": 21,
     "metadata": {},
     "output_type": "execute_result"
    }
   ],
   "source": [
    "# 从range()对象【即(sheet[\"A1\"])】自底向上得到app对象\n",
    "sheet1[\"A1\"].sheet.book.app"
   ]
  },
  {
   "cell_type": "markdown",
   "id": "6ab7291d",
   "metadata": {},
   "source": [
    "xw.name：返回 Excel 应用程序的简短名称（通常是 \"Microsoft Excel\"）。<br>\n",
    "&nbsp;&nbsp;&nbsp;&nbsp;&nbsp;&nbsp;&nbsp;&nbsp;示例输出：\"Microsoft Excel\"<br>\n",
    "\n",
    "xw.fullname：返回 Excel 应用程序的完整名称（包含版本信息，如 \"Microsoft Excel 365\"）。<br>\n",
    "&nbsp;&nbsp;&nbsp;&nbsp;&nbsp;&nbsp;&nbsp;&nbsp;示例输出：\"Microsoft Excel 365\""
   ]
  },
  {
   "cell_type": "code",
   "execution_count": 22,
   "id": "613de17a",
   "metadata": {},
   "outputs": [],
   "source": [
    "# 从打开的工作簿中获取app对象，并创建一个额外的隐藏的app实例\n",
    "visible_app = sheet1.book.app\n",
    "invisible_app = xw.App(visible=False)"
   ]
  },
  {
   "cell_type": "code",
   "execution_count": 23,
   "id": "b025d3b0",
   "metadata": {},
   "outputs": [
    {
     "data": {
      "text/plain": [
       "['工作簿1', 'Book2.xlsx']"
      ]
     },
     "execution_count": 23,
     "metadata": {},
     "output_type": "execute_result"
    }
   ],
   "source": [
    "# 通过列表推导式列出各实例中打开的工作簿名称\n",
    "[book.name for book in visible_app.books]"
   ]
  },
  {
   "cell_type": "code",
   "execution_count": 24,
   "id": "76dc0873",
   "metadata": {},
   "outputs": [
    {
     "data": {
      "text/plain": [
       "['工作簿2']"
      ]
     },
     "execution_count": 24,
     "metadata": {},
     "output_type": "execute_result"
    }
   ],
   "source": [
    "[book.name for book in invisible_app.books]"
   ]
  },
  {
   "cell_type": "code",
   "execution_count": 25,
   "id": "298341d3",
   "metadata": {},
   "outputs": [
    {
     "data": {
      "text/plain": [
       "[8544, 2488]"
      ]
     },
     "execution_count": 25,
     "metadata": {},
     "output_type": "execute_result"
    }
   ],
   "source": [
    "# app的键待见进程ID（PID）\n",
    "xw.apps.keys()"
   ]
  },
  {
   "cell_type": "code",
   "execution_count": 26,
   "id": "696c3abc",
   "metadata": {},
   "outputs": [
    {
     "data": {
      "text/plain": [
       "8544"
      ]
     },
     "execution_count": 26,
     "metadata": {},
     "output_type": "execute_result"
    }
   ],
   "source": [
    "# 也可以通过pid属性访问\n",
    "xw.apps.active.pid"
   ]
  },
  {
   "cell_type": "code",
   "execution_count": 27,
   "id": "e6a9bcc8",
   "metadata": {},
   "outputs": [],
   "source": [
    "# 处理隐藏的Excel实例中的工作簿\n",
    "invisible_book = invisible_app.books[0]\n",
    "invisible_book.sheets[0][\"A1\"].value = \"Create by an invisible app.\""
   ]
  },
  {
   "cell_type": "code",
   "execution_count": 28,
   "id": "122e62f3",
   "metadata": {},
   "outputs": [],
   "source": [
    "# 将这个Excel工作簿保存在xl目录中\n",
    "invisible_book.save(\"xl/invisible.xlsx\")"
   ]
  },
  {
   "cell_type": "code",
   "execution_count": 29,
   "id": "74329064",
   "metadata": {},
   "outputs": [],
   "source": [
    "# 退出隐藏的Excel实例\n",
    "invisible_app.quit()"
   ]
  },
  {
   "cell_type": "markdown",
   "id": "2afbdef9",
   "metadata": {},
   "source": [
    "<table>\n",
    "    <tr>\n",
    "        <td>命令</td>\n",
    "        <td>描述</td>\n",
    "    </tr>\n",
    "    <tr>\n",
    "        <td>myapp.books.add()</td>\n",
    "        <td>在myapp引用的Excel实例中创建一个新的Excel工作簿并返回对应的book对象</td>\n",
    "    </tr>\n",
    "    <tr>\n",
    "        <td>myapp.books.open(r\"C:\\path\\Book.xlsx\")</td>\n",
    "        <td>如果对应的book对象已打开就直接返回该对象，否则应该首先在myapp引用的Excel实例中打开该工作簿。<br>\n",
    "            字符串开头的r会将字符串转化为原始字符串，以便路径中的反斜杠（\\）在Windows中按照字面进行解释\n",
    "        </td>\n",
    "    </tr>\n",
    "    <tr>\n",
    "        <td>myapp.books[\"Book1.xlsx\"]</td>\n",
    "        <td>如果对应的工作簿已打开就直接返回该book对象。如果未打开会引发KeyError错误。<br>\n",
    "            一定要使用文件名而非完整路径。如果想知道一个工作簿是否已经在Excel中打开，就可以使用该命令\n",
    "        </td>\n",
    "    </tr>\n",
    "</table>"
   ]
  },
  {
   "cell_type": "markdown",
   "id": "e1b5080f",
   "metadata": {},
   "source": [
    "# 9.2 转换器、选项和集合"
   ]
  },
  {
   "cell_type": "markdown",
   "id": "5bebbc5a",
   "metadata": {},
   "source": [
    "### 9.2.1 处理DataFrame"
   ]
  },
  {
   "cell_type": "code",
   "execution_count": 30,
   "id": "d093c626",
   "metadata": {},
   "outputs": [
    {
     "data": {
      "text/html": [
       "<div>\n",
       "<style scoped>\n",
       "    .dataframe tbody tr th:only-of-type {\n",
       "        vertical-align: middle;\n",
       "    }\n",
       "\n",
       "    .dataframe tbody tr th {\n",
       "        vertical-align: top;\n",
       "    }\n",
       "\n",
       "    .dataframe thead th {\n",
       "        text-align: right;\n",
       "    }\n",
       "</style>\n",
       "<table border=\"1\" class=\"dataframe\">\n",
       "  <thead>\n",
       "    <tr style=\"text-align: right;\">\n",
       "      <th></th>\n",
       "      <th>name</th>\n",
       "      <th>age</th>\n",
       "      <th>country</th>\n",
       "      <th>score</th>\n",
       "      <th>continent</th>\n",
       "    </tr>\n",
       "    <tr>\n",
       "      <th>user_id</th>\n",
       "      <th></th>\n",
       "      <th></th>\n",
       "      <th></th>\n",
       "      <th></th>\n",
       "      <th></th>\n",
       "    </tr>\n",
       "  </thead>\n",
       "  <tbody>\n",
       "    <tr>\n",
       "      <th>1001</th>\n",
       "      <td>Mark</td>\n",
       "      <td>55</td>\n",
       "      <td>Italy</td>\n",
       "      <td>4.5</td>\n",
       "      <td>Europe</td>\n",
       "    </tr>\n",
       "    <tr>\n",
       "      <th>1000</th>\n",
       "      <td>John</td>\n",
       "      <td>33</td>\n",
       "      <td>USA</td>\n",
       "      <td>6.7</td>\n",
       "      <td>America</td>\n",
       "    </tr>\n",
       "  </tbody>\n",
       "</table>\n",
       "</div>"
      ],
      "text/plain": [
       "         name  age country  score continent\n",
       "user_id                                    \n",
       "1001     Mark   55   Italy    4.5    Europe\n",
       "1000     John   33     USA    6.7   America"
      ]
     },
     "execution_count": 30,
     "metadata": {},
     "output_type": "execute_result"
    }
   ],
   "source": [
    "data = [[\"Mark\", 55, \"Italy\", 4.5, \"Europe\"], \n",
    "        [\"John\", 33, \"USA\", 6.7, \"America\"]]\n",
    "df = pd.DataFrame(data=data, \n",
    "                  columns=[\"name\", \"age\", \"country\", \"score\", \"continent\"], \n",
    "                  index=[1001, 1000])\n",
    "df.index.name = \"user_id\"\n",
    "df"
   ]
  },
  {
   "cell_type": "code",
   "execution_count": 31,
   "id": "e1b7cc6e",
   "metadata": {},
   "outputs": [],
   "source": [
    "sheet1[\"A6\"].value = df"
   ]
  },
  {
   "cell_type": "markdown",
   "id": "dcfe712d",
   "metadata": {},
   "source": [
    "去掉列标题或索引（也可以同时去掉两者），可使用options方法"
   ]
  },
  {
   "cell_type": "code",
   "execution_count": 32,
   "id": "38ff022d",
   "metadata": {},
   "outputs": [],
   "source": [
    "sheet1[\"B10\"].options(header=False, index=False).value = df"
   ]
  },
  {
   "cell_type": "markdown",
   "id": "d279e6e2",
   "metadata": {},
   "source": [
    "expand方法可以方便地读取一块连续的单元格"
   ]
  },
  {
   "cell_type": "code",
   "execution_count": 33,
   "id": "0488eb99",
   "metadata": {},
   "outputs": [
    {
     "data": {
      "text/html": [
       "<div>\n",
       "<style scoped>\n",
       "    .dataframe tbody tr th:only-of-type {\n",
       "        vertical-align: middle;\n",
       "    }\n",
       "\n",
       "    .dataframe tbody tr th {\n",
       "        vertical-align: top;\n",
       "    }\n",
       "\n",
       "    .dataframe thead th {\n",
       "        text-align: right;\n",
       "    }\n",
       "</style>\n",
       "<table border=\"1\" class=\"dataframe\">\n",
       "  <thead>\n",
       "    <tr style=\"text-align: right;\">\n",
       "      <th></th>\n",
       "      <th>name</th>\n",
       "      <th>age</th>\n",
       "      <th>country</th>\n",
       "      <th>score</th>\n",
       "      <th>continent</th>\n",
       "    </tr>\n",
       "    <tr>\n",
       "      <th>user_id</th>\n",
       "      <th></th>\n",
       "      <th></th>\n",
       "      <th></th>\n",
       "      <th></th>\n",
       "      <th></th>\n",
       "    </tr>\n",
       "  </thead>\n",
       "  <tbody>\n",
       "    <tr>\n",
       "      <th>1001.0</th>\n",
       "      <td>Mark</td>\n",
       "      <td>55.0</td>\n",
       "      <td>Italy</td>\n",
       "      <td>4.5</td>\n",
       "      <td>Europe</td>\n",
       "    </tr>\n",
       "    <tr>\n",
       "      <th>1000.0</th>\n",
       "      <td>John</td>\n",
       "      <td>33.0</td>\n",
       "      <td>USA</td>\n",
       "      <td>6.7</td>\n",
       "      <td>America</td>\n",
       "    </tr>\n",
       "  </tbody>\n",
       "</table>\n",
       "</div>"
      ],
      "text/plain": [
       "         name   age country  score continent\n",
       "user_id                                     \n",
       "1001.0   Mark  55.0   Italy    4.5    Europe\n",
       "1000.0   John  33.0     USA    6.7   America"
      ]
     },
     "execution_count": 33,
     "metadata": {},
     "output_type": "execute_result"
    }
   ],
   "source": [
    "df2 = sheet1[\"A6\"].expand().options(pd.DataFrame).value\n",
    "df2"
   ]
  },
  {
   "cell_type": "markdown",
   "id": "6b9cbe8b",
   "metadata": {},
   "source": [
    "若需要整数索引，可修改其数据类型"
   ]
  },
  {
   "cell_type": "code",
   "execution_count": 34,
   "id": "d154fe13",
   "metadata": {},
   "outputs": [
    {
     "data": {
      "text/html": [
       "<div>\n",
       "<style scoped>\n",
       "    .dataframe tbody tr th:only-of-type {\n",
       "        vertical-align: middle;\n",
       "    }\n",
       "\n",
       "    .dataframe tbody tr th {\n",
       "        vertical-align: top;\n",
       "    }\n",
       "\n",
       "    .dataframe thead th {\n",
       "        text-align: right;\n",
       "    }\n",
       "</style>\n",
       "<table border=\"1\" class=\"dataframe\">\n",
       "  <thead>\n",
       "    <tr style=\"text-align: right;\">\n",
       "      <th></th>\n",
       "      <th>name</th>\n",
       "      <th>age</th>\n",
       "      <th>country</th>\n",
       "      <th>score</th>\n",
       "      <th>continent</th>\n",
       "    </tr>\n",
       "    <tr>\n",
       "      <th>user_id</th>\n",
       "      <th></th>\n",
       "      <th></th>\n",
       "      <th></th>\n",
       "      <th></th>\n",
       "      <th></th>\n",
       "    </tr>\n",
       "  </thead>\n",
       "  <tbody>\n",
       "    <tr>\n",
       "      <th>1001</th>\n",
       "      <td>Mark</td>\n",
       "      <td>55.0</td>\n",
       "      <td>Italy</td>\n",
       "      <td>4.5</td>\n",
       "      <td>Europe</td>\n",
       "    </tr>\n",
       "    <tr>\n",
       "      <th>1000</th>\n",
       "      <td>John</td>\n",
       "      <td>33.0</td>\n",
       "      <td>USA</td>\n",
       "      <td>6.7</td>\n",
       "      <td>America</td>\n",
       "    </tr>\n",
       "  </tbody>\n",
       "</table>\n",
       "</div>"
      ],
      "text/plain": [
       "         name   age country  score continent\n",
       "user_id                                     \n",
       "1001     Mark  55.0   Italy    4.5    Europe\n",
       "1000     John  33.0     USA    6.7   America"
      ]
     },
     "execution_count": 34,
     "metadata": {},
     "output_type": "execute_result"
    }
   ],
   "source": [
    "df2.index = df2.index.astype(int)\n",
    "df2"
   ]
  },
  {
   "cell_type": "markdown",
   "id": "c9670b97",
   "metadata": {},
   "source": [
    "通过设置index=False，Excel文件中的所有值都会被保存到DataFrame的数据部分且使用默认索引"
   ]
  },
  {
   "cell_type": "code",
   "execution_count": 35,
   "id": "b8f73665",
   "metadata": {},
   "outputs": [
    {
     "data": {
      "text/html": [
       "<div>\n",
       "<style scoped>\n",
       "    .dataframe tbody tr th:only-of-type {\n",
       "        vertical-align: middle;\n",
       "    }\n",
       "\n",
       "    .dataframe tbody tr th {\n",
       "        vertical-align: top;\n",
       "    }\n",
       "\n",
       "    .dataframe thead th {\n",
       "        text-align: right;\n",
       "    }\n",
       "</style>\n",
       "<table border=\"1\" class=\"dataframe\">\n",
       "  <thead>\n",
       "    <tr style=\"text-align: right;\">\n",
       "      <th></th>\n",
       "      <th>user_id</th>\n",
       "      <th>name</th>\n",
       "      <th>age</th>\n",
       "      <th>country</th>\n",
       "      <th>score</th>\n",
       "      <th>continent</th>\n",
       "    </tr>\n",
       "  </thead>\n",
       "  <tbody>\n",
       "    <tr>\n",
       "      <th>0</th>\n",
       "      <td>1001.0</td>\n",
       "      <td>Mark</td>\n",
       "      <td>55.0</td>\n",
       "      <td>Italy</td>\n",
       "      <td>4.5</td>\n",
       "      <td>Europe</td>\n",
       "    </tr>\n",
       "    <tr>\n",
       "      <th>1</th>\n",
       "      <td>1000.0</td>\n",
       "      <td>John</td>\n",
       "      <td>33.0</td>\n",
       "      <td>USA</td>\n",
       "      <td>6.7</td>\n",
       "      <td>America</td>\n",
       "    </tr>\n",
       "  </tbody>\n",
       "</table>\n",
       "</div>"
      ],
      "text/plain": [
       "   user_id  name   age country  score continent\n",
       "0   1001.0  Mark  55.0   Italy    4.5    Europe\n",
       "1   1000.0  John  33.0     USA    6.7   America"
      ]
     },
     "execution_count": 35,
     "metadata": {},
     "output_type": "execute_result"
    }
   ],
   "source": [
    "sheet1[\"A6\"].expand().options(pd.DataFrame, index=False).value"
   ]
  },
  {
   "cell_type": "markdown",
   "id": "73a5fb47",
   "metadata": {},
   "source": [
    "### 9.2.2 转换器和选项"
   ]
  },
  {
   "cell_type": "markdown",
   "id": "4986eb08",
   "metadata": {},
   "source": [
    "内置转换器，即convert参数可以接受的值。"
   ]
  },
  {
   "cell_type": "markdown",
   "id": "987ccb3d",
   "metadata": {},
   "source": [
    "<table height=300px;>\n",
    "    <tr>\n",
    "        <th>转换器</th>\n",
    "        <th width=400px;>描述</th>\n",
    "    </tr>\n",
    "    <tr>\n",
    "        <td>dict</td>\n",
    "        <td>未发生嵌套的简单字典，即{key1:value1, key2:value2, ...}</td>\n",
    "    </tr>\n",
    "    <tr>\n",
    "        <td>np.array</td>\n",
    "        <td>NumPy数组，需要import numpy as np</td>\n",
    "    </tr>\n",
    "    <tr>\n",
    "        <td>pd.Series</td>\n",
    "        <td>pandas Series，需要import pandas as pd</td>\n",
    "    </tr>\n",
    "    <tr>\n",
    "        <td>pd.DataFrame</td>\n",
    "        <td>pandas DataFrame，需要import pandas as pd</td>\n",
    "    </tr>\n",
    "</table>"
   ]
  },
  {
   "cell_type": "markdown",
   "id": "6b50177a",
   "metadata": {},
   "source": [
    "内置选项"
   ]
  },
  {
   "cell_type": "markdown",
   "id": "d896ca04",
   "metadata": {},
   "source": [
    "<table height=500px;>\n",
    "    <tr>\n",
    "        <th>选项</th>\n",
    "        <th width=750px;>描述</th>\n",
    "    </tr>\n",
    "    <tr>\n",
    "        <td>empty</td>\n",
    "        <td>在默认情况下，空单元格会被读取为None。为empty参数提供一个值以改变默认值</td>\n",
    "    </tr>\n",
    "    <tr>\n",
    "        <td>date</td>\n",
    "        <td>接受一个函数，该函数会应用到来自按日期格式化的单元格的值</td>\n",
    "    </tr>\n",
    "    <tr>\n",
    "        <td>numbers</td>\n",
    "        <td>接受一个函数，该函数会应用到数值</td>\n",
    "    </tr>\n",
    "    <tr>\n",
    "        <td>ndim</td>\n",
    "        <td>维数：ndim可以强制一个区域的值达到某个维度。只能取None、1和2中的一个值。仅在以列表或NumPy数组形式读取值时可用</td>\n",
    "    </tr>\n",
    "    <tr>\n",
    "        <td>transpose</td>\n",
    "        <td>将值转置，即把行和列对换</td>\n",
    "    </tr>\n",
    "    <tr>\n",
    "        <td>index</td>\n",
    "        <td>用于pandas DataFrame和pandas Series：在读取时用来定义Excel区域是否包含该索引。可以为True/False或整数。整数定义了有多少列会被转化为MultiIndex。例如，2会使用最左边的两列作为索引。在写入时，你可以通过将index设置为True或False来决定是否要写入索引</td>\n",
    "    </tr>\n",
    "    <tr>\n",
    "        <td>header</td>\n",
    "        <td>类似于index，应用于列标题</td>\n",
    "    </tr>\n",
    "</table>"
   ]
  },
  {
   "cell_type": "markdown",
   "id": "36d18127",
   "metadata": {},
   "source": [
    "ndim：在默认情况下，从Excel中读取单个单元格时，会得到一个标量（比如浮点数或字符串）；<br>\n",
    "当读取一行或一列时，得到的是一个简单列表；<br>\n",
    "当读取一个二维区域时，得到的是一个嵌套（二维）列表。<br>\n",
    "一维的情况很特殊：有时候一列可能只是二维区域的特殊情况，在这种情况下，可以用ndim=2来强制区域的维度为2"
   ]
  },
  {
   "cell_type": "code",
   "execution_count": 36,
   "id": "317f4d70",
   "metadata": {},
   "outputs": [
    {
     "data": {
      "text/plain": [
       "[1.0, 2.0]"
      ]
     },
     "execution_count": 36,
     "metadata": {},
     "output_type": "execute_result"
    }
   ],
   "source": [
    "# 水平区域（一维）\n",
    "sheet1[\"A1:B1\"].value"
   ]
  },
  {
   "cell_type": "code",
   "execution_count": 37,
   "id": "efc433cb",
   "metadata": {},
   "outputs": [
    {
     "data": {
      "text/plain": [
       "[1.0, 3.0]"
      ]
     },
     "execution_count": 37,
     "metadata": {},
     "output_type": "execute_result"
    }
   ],
   "source": [
    "# 垂直区域（一维）\n",
    "sheet1[\"A1:A2\"].value"
   ]
  },
  {
   "cell_type": "code",
   "execution_count": 38,
   "id": "0ce85f78",
   "metadata": {},
   "outputs": [
    {
     "data": {
      "text/plain": [
       "[[1.0, 2.0]]"
      ]
     },
     "execution_count": 38,
     "metadata": {},
     "output_type": "execute_result"
    }
   ],
   "source": [
    "# 水平区域（二维）\n",
    "sheet1[\"A1:B1\"].options(ndim=2).value"
   ]
  },
  {
   "cell_type": "code",
   "execution_count": 39,
   "id": "45926347",
   "metadata": {},
   "outputs": [
    {
     "data": {
      "text/plain": [
       "[[1.0], [3.0]]"
      ]
     },
     "execution_count": 39,
     "metadata": {},
     "output_type": "execute_result"
    }
   ],
   "source": [
    "# 垂直区域（二维）\n",
    "sheet1[\"A1:A2\"].options(ndim=2).value"
   ]
  },
  {
   "cell_type": "code",
   "execution_count": 40,
   "id": "318d870a",
   "metadata": {},
   "outputs": [
    {
     "data": {
      "text/plain": [
       "array([1., 3.])"
      ]
     },
     "execution_count": 40,
     "metadata": {},
     "output_type": "execute_result"
    }
   ],
   "source": [
    "# 使用NumPy数组转换器也是一样的效果：垂直区域会产生一维数组\n",
    "sheet1[\"A1:A2\"].options(np.array).value"
   ]
  },
  {
   "cell_type": "code",
   "execution_count": 41,
   "id": "87a7c35d",
   "metadata": {},
   "outputs": [
    {
     "data": {
      "text/plain": [
       "array([[1.],\n",
       "       [3.]])"
      ]
     },
     "execution_count": 41,
     "metadata": {},
     "output_type": "execute_result"
    }
   ],
   "source": [
    "# 保持列的方向不变\n",
    "sheet1[\"A1:A2\"].options(np.array, ndim=2).value"
   ]
  },
  {
   "cell_type": "code",
   "execution_count": 42,
   "id": "5ff18c8e",
   "metadata": {},
   "outputs": [],
   "source": [
    "# 如果需要垂直写入列表，那么此时可以使用transpose选项\n",
    "sheet1[\"D1\"].options(transpose=True).value = [100, 200]"
   ]
  },
  {
   "cell_type": "code",
   "execution_count": 43,
   "id": "b6c8fb78",
   "metadata": {},
   "outputs": [],
   "source": [
    "# 写入一些示例数据\n",
    "sheet1[\"A13\"].value = [dt.datetime(2020, 1, 1), None, 1.0]"
   ]
  },
  {
   "cell_type": "code",
   "execution_count": 44,
   "id": "a5e19841",
   "metadata": {},
   "outputs": [
    {
     "data": {
      "text/plain": [
       "[datetime.datetime(2020, 1, 1, 0, 0), None, 1.0]"
      ]
     },
     "execution_count": 44,
     "metadata": {},
     "output_type": "execute_result"
    }
   ],
   "source": [
    "# 使用默认选项读取\n",
    "sheet1[\"A13:C13\"].value"
   ]
  },
  {
   "cell_type": "code",
   "execution_count": 45,
   "id": "7be6c085",
   "metadata": {},
   "outputs": [
    {
     "data": {
      "text/plain": [
       "[datetime.date(2020, 1, 1), 'NA', 1]"
      ]
     },
     "execution_count": 45,
     "metadata": {},
     "output_type": "execute_result"
    }
   ],
   "source": [
    "# 使用非默认选项读取\n",
    "sheet1[\"A13:C13\"].options(empty=\"NA\", \n",
    "                          dates=dt.date, \n",
    "                          numbers=int).value"
   ]
  },
  {
   "cell_type": "markdown",
   "id": "81c4b208",
   "metadata": {},
   "source": [
    "### 9.2.3 图表、图片和已定义名称"
   ]
  },
  {
   "cell_type": "markdown",
   "id": "9a7e88d7",
   "metadata": {},
   "source": [
    "#### 1. Excel图表"
   ]
  },
  {
   "cell_type": "markdown",
   "id": "85afc0f0",
   "metadata": {},
   "source": [
    "使用charts集合的add方法来添加一张新的图表并为其设置图表类型和源数据："
   ]
  },
  {
   "cell_type": "code",
   "execution_count": 46,
   "id": "5b43ba83",
   "metadata": {},
   "outputs": [],
   "source": [
    "sheet1[\"A15\"].value = [[None, \"North\", \"South\"], \n",
    "                       [\"Last Year\", 2, 5], \n",
    "                       [\"This Year\", 3 ,6]]"
   ]
  },
  {
   "cell_type": "code",
   "execution_count": 47,
   "id": "cd0f6445",
   "metadata": {},
   "outputs": [],
   "source": [
    "chart = sheet1.charts.add(top=sheet1[\"A19\"].top, \n",
    "                          left=sheet1[\"A19\"].left)\n",
    "chart.chart_type = \"column_clustered\"\n",
    "chart.set_source_data(sheet1[\"A15\"].expand())"
   ]
  },
  {
   "cell_type": "markdown",
   "id": "750cd7dc",
   "metadata": {},
   "source": [
    "#### 2. 图片：Matplotlib图像"
   ]
  },
  {
   "cell_type": "markdown",
   "id": "591c44d5",
   "metadata": {},
   "source": [
    "当使用pandas的默认绘图后端时，创建的是一张Matplotlib的图像。要将这样的图像放进Excel中，首先要获取它的figure对象，然后将其作为参数传递给pictures.add，pictures.add会将Matplotlib图像转换为图片然后发送至Excel："
   ]
  },
  {
   "cell_type": "code",
   "execution_count": 48,
   "id": "1fc2dd4e",
   "metadata": {},
   "outputs": [
    {
     "data": {
      "text/html": [
       "<div>\n",
       "<style scoped>\n",
       "    .dataframe tbody tr th:only-of-type {\n",
       "        vertical-align: middle;\n",
       "    }\n",
       "\n",
       "    .dataframe tbody tr th {\n",
       "        vertical-align: top;\n",
       "    }\n",
       "\n",
       "    .dataframe thead th {\n",
       "        text-align: right;\n",
       "    }\n",
       "</style>\n",
       "<table border=\"1\" class=\"dataframe\">\n",
       "  <thead>\n",
       "    <tr style=\"text-align: right;\">\n",
       "      <th></th>\n",
       "      <th>North</th>\n",
       "      <th>South</th>\n",
       "    </tr>\n",
       "  </thead>\n",
       "  <tbody>\n",
       "    <tr>\n",
       "      <th>Last Year</th>\n",
       "      <td>2.0</td>\n",
       "      <td>5.0</td>\n",
       "    </tr>\n",
       "    <tr>\n",
       "      <th>This Year</th>\n",
       "      <td>3.0</td>\n",
       "      <td>6.0</td>\n",
       "    </tr>\n",
       "  </tbody>\n",
       "</table>\n",
       "</div>"
      ],
      "text/plain": [
       "           North  South\n",
       "Last Year    2.0    5.0\n",
       "This Year    3.0    6.0"
      ]
     },
     "execution_count": 48,
     "metadata": {},
     "output_type": "execute_result"
    }
   ],
   "source": [
    "# 将图表数据读取为DataFrame\n",
    "df = sheet1[\"A15\"].expand().options(pd.DataFrame).value\n",
    "df"
   ]
  },
  {
   "cell_type": "code",
   "execution_count": 49,
   "id": "739690db",
   "metadata": {},
   "outputs": [],
   "source": [
    "# 通过笔记本的魔法命令启用Matplotlib并切换至“seaborn”样式\n",
    "%matplotlib inline\n",
    "import matplotlib.pyplot as plt\n",
    "plt.style.use(\"seaborn\")"
   ]
  },
  {
   "cell_type": "code",
   "execution_count": 50,
   "id": "8288c2cb",
   "metadata": {},
   "outputs": [
    {
     "data": {
      "image/png": "[encoded data removed]",
      "text/plain": [
       "<Figure size 800x550 with 1 Axes>"
      ]
     },
     "metadata": {},
     "output_type": "display_data"
    }
   ],
   "source": [
    "# pandas的plot方法会返回一个axis对象，可以从中获得图片。T会将DataFrame转置以调整图像方向\n",
    "ax = df.T.plot.bar()\n",
    "fig = ax.get_figure()"
   ]
  },
  {
   "cell_type": "code",
   "execution_count": 51,
   "id": "d7369416",
   "metadata": {},
   "outputs": [],
   "source": [
    "# 将图像发送至Excel\n",
    "plot = sheet1.pictures.add(fig, name=\"SalesPlot\", \n",
    "                           top=sheet1[\"H19\"].top, \n",
    "                           left=sheet1[\"H19\"].left)\n",
    "# 将图像缩小为70%大小\n",
    "plot.width, plot.height = plot.width * 0.7, plot.height * 0.7"
   ]
  },
  {
   "cell_type": "markdown",
   "id": "2c37f878",
   "metadata": {},
   "source": [
    "要想使用新的图像来更新图片，只需调用update方法并传递另一个figure对象即可。虽然这样做会替换Excel中的图片，但会保留位置、尺寸、名称等属性："
   ]
  },
  {
   "cell_type": "code",
   "execution_count": 52,
   "id": "19dd6a2b",
   "metadata": {},
   "outputs": [
    {
     "data": {
      "image/png": "[encoded data removed]",
      "text/plain": [
       "<Figure size 800x550 with 1 Axes>"
      ]
     },
     "metadata": {},
     "output_type": "display_data"
    }
   ],
   "source": [
    "ax = (df + 1).T.plot.bar()\n",
    "plot = plot.update(ax.get_figure())"
   ]
  },
  {
   "cell_type": "code",
   "execution_count": 53,
   "id": "4eaf3cdd",
   "metadata": {},
   "outputs": [],
   "source": [
    "#### 3. 已定义名称"
   ]
  },
  {
   "cell_type": "code",
   "execution_count": 54,
   "id": "83aa71eb",
   "metadata": {},
   "outputs": [],
   "source": [
    "# 默认作用域时工作簿作用域\n",
    "sheet1[\"A1:B2\"].name = \"matrix1\""
   ]
  },
  {
   "cell_type": "code",
   "execution_count": 55,
   "id": "5ffd22ea",
   "metadata": {},
   "outputs": [],
   "source": [
    "# 对于工作表作用域，需要在工作表名称前加上一个感叹号\n",
    "sheet1[\"B10:E11\"].name = \"Sheet1!matrix2\""
   ]
  },
  {
   "cell_type": "code",
   "execution_count": 56,
   "id": "8b78faa5",
   "metadata": {},
   "outputs": [
    {
     "data": {
      "text/plain": [
       "<Range [Book2.xlsx]Sheet1!$A$1:$B$2>"
      ]
     },
     "execution_count": 56,
     "metadata": {},
     "output_type": "execute_result"
    }
   ],
   "source": [
    "# 现在可通过名称访问区域了\n",
    "sheet1[\"matrix1\"]"
   ]
  },
  {
   "cell_type": "code",
   "execution_count": 57,
   "id": "35aa75f1",
   "metadata": {},
   "outputs": [
    {
     "data": {
      "text/plain": [
       "[<Name 'Sheet1!matrix2': =Sheet1!$B$10:$E$11>]"
      ]
     },
     "execution_count": 57,
     "metadata": {},
     "output_type": "execute_result"
    }
   ],
   "source": [
    "# 如果通过sheet1对象访问名称集合，则其中只包含工作表作用域的名称\n",
    "sheet1.names"
   ]
  },
  {
   "cell_type": "code",
   "execution_count": 58,
   "id": "9b814e1d",
   "metadata": {},
   "outputs": [
    {
     "data": {
      "text/plain": [
       "[<Name 'matrix1': =Sheet1!$A$1:$B$2>, <Name 'Sheet1!matrix2': =Sheet1!$B$10:$E$11>]"
      ]
     },
     "execution_count": 58,
     "metadata": {},
     "output_type": "execute_result"
    }
   ],
   "source": [
    "# 如果通过book对象访问名称集合，则其中包含了工作簿和工作表作用域的所有名称\n",
    "book.names"
   ]
  },
  {
   "cell_type": "code",
   "execution_count": 59,
   "id": "8d26fd32",
   "metadata": {},
   "outputs": [
    {
     "data": {
      "text/plain": [
       "<Range [Book2.xlsx]Sheet1!$A$1:$B$2>"
      ]
     },
     "execution_count": 59,
     "metadata": {},
     "output_type": "execute_result"
    }
   ],
   "source": [
    "# 名称有多种方法和属性，例如，可以获取对应的range对象\n",
    "book.names[\"matrix1\"].refers_to_range"
   ]
  },
  {
   "cell_type": "code",
   "execution_count": 60,
   "id": "69f0ccc2",
   "metadata": {},
   "outputs": [
    {
     "data": {
      "text/plain": [
       "<Name 'EURUSD': =1.1151>"
      ]
     },
     "execution_count": 60,
     "metadata": {},
     "output_type": "execute_result"
    }
   ],
   "source": [
    "# 如果想为常量或公式取名，可使用add方法\n",
    "book.names.add(\"EURUSD\", \"=1.1151\")"
   ]
  },
  {
   "cell_type": "code",
   "execution_count": 61,
   "id": "8c355da5",
   "metadata": {},
   "outputs": [],
   "source": [
    "# 添加新的工作表，写入150个值以便有事可做\n",
    "sheet2 = book.sheets.add()\n",
    "sheet2[\"A1\"].value = np.arange(150).reshape(30, 5)"
   ]
  },
  {
   "cell_type": "code",
   "execution_count": 62,
   "id": "713ea5b7",
   "metadata": {},
   "outputs": [
    {
     "name": "stdout",
     "output_type": "stream",
     "text": [
      "CPU times: total: 62.5 ms\n",
      "Wall time: 314 ms\n"
     ]
    }
   ],
   "source": [
    "%%time\n",
    "# 这段代码进行了150次跨应用程序调用\n",
    "for cell in sheet2[\"A1:E30\"]:\n",
    "    cell.value += 1"
   ]
  },
  {
   "cell_type": "code",
   "execution_count": 63,
   "id": "1ebf5a91",
   "metadata": {},
   "outputs": [
    {
     "name": "stdout",
     "output_type": "stream",
     "text": [
      "CPU times: total: 15.6 ms\n",
      "Wall time: 30.5 ms\n"
     ]
    }
   ],
   "source": [
    "%%time\n",
    "# 这里只进行了两次跨应用程序调用\n",
    "values = sheet2[\"A1:E30\"].options(np.array).value\n",
    "sheet2[\"A1:E30\"].value = values + 1"
   ]
  },
  {
   "cell_type": "code",
   "execution_count": 64,
   "id": "fa1f894b",
   "metadata": {},
   "outputs": [],
   "source": [
    "# 使用原始值时必须提供完整的目标区域，sheet[\"35\"]就不再可用了\n",
    "sheet1[\"A35:B36\"].options(\"raw\").value = [[1, 2], [3, 4]]"
   ]
  }
 ],
 "metadata": {
  "kernelspec": {
   "display_name": "Python 3 (ipykernel)",
   "language": "python",
   "name": "python3"
  },
  "language_info": {
   "codemirror_mode": {
    "name": "ipython",
    "version": 3
   },
   "file_extension": ".py",
   "mimetype": "text/x-python",
   "name": "python",
   "nbconvert_exporter": "python",
   "pygments_lexer": "ipython3",
   "version": "3.8.20"
  }
 },
 "nbformat": 4,
 "nbformat_minor": 5
}
